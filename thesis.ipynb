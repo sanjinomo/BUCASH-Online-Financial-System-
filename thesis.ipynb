{
  "cells": [
    {
      "cell_type": "markdown",
      "metadata": {
        "id": "view-in-github",
        "colab_type": "text"
      },
      "source": [
        "<a href=\"https://colab.research.google.com/github/sanjinomo/BUCASH-Online-Financial-System-/blob/main/thesis.ipynb\" target=\"_parent\"><img src=\"https://colab.research.google.com/assets/colab-badge.svg\" alt=\"Open In Colab\"/></a>"
      ]
    },
    {
      "cell_type": "code",
      "execution_count": null,
      "metadata": {
        "id": "jMkXhjajkJhk"
      },
      "outputs": [],
      "source": [
        "import numpy as np\n",
        "import pandas as pd\n",
        "import glob\n",
        "import os\n",
        "import matplotlib.pyplot as plt"
      ]
    },
    {
      "cell_type": "code",
      "execution_count": null,
      "metadata": {
        "colab": {
          "base_uri": "https://localhost:8080/"
        },
        "id": "j6pT2aJ6jEy0",
        "outputId": "7d0c0bdc-9a8a-44f7-ea71-31a135e7cf83"
      },
      "outputs": [
        {
          "output_type": "stream",
          "name": "stdout",
          "text": [
            "Drive already mounted at /content/drive; to attempt to forcibly remount, call drive.mount(\"/content/drive\", force_remount=True).\n"
          ]
        }
      ],
      "source": [
        "from google.colab import drive\n",
        "drive.mount('/content/drive')"
      ]
    },
    {
      "cell_type": "code",
      "execution_count": null,
      "metadata": {
        "id": "O1HGwv1ajNee"
      },
      "outputs": [],
      "source": [
        "path= \"/content/drive/MyDrive/all_csv/\"\n",
        "files = os.path.join(path, \"csv*.csv\")\n"
      ]
    },
    {
      "cell_type": "code",
      "execution_count": null,
      "metadata": {
        "colab": {
          "base_uri": "https://localhost:8080/"
        },
        "id": "v03mO8THYKcH",
        "outputId": "9edcf28e-7620-4cca-fd05-d574fd4011c6"
      },
      "outputs": [
        {
          "output_type": "execute_result",
          "data": {
            "text/plain": [
              "['csv1.csv', 'csv3.csv', 'csv2.csv', 'csv4.csv', 'csv5.csv']"
            ]
          },
          "metadata": {},
          "execution_count": 6
        }
      ],
      "source": [
        "os.listdir(path)"
      ]
    },
    {
      "cell_type": "code",
      "execution_count": null,
      "metadata": {
        "id": "VfpDuU7VkHsB"
      },
      "outputs": [],
      "source": [
        "files = glob.glob(files)\n",
        "df = pd.concat(map(pd.read_csv, files), ignore_index=True)"
      ]
    },
    {
      "cell_type": "code",
      "execution_count": null,
      "metadata": {
        "colab": {
          "base_uri": "https://localhost:8080/",
          "height": 580
        },
        "id": "H664a-l7kQX5",
        "outputId": "9ffc0651-e99e-47c0-fded-54f3294f42fa"
      },
      "outputs": [
        {
          "output_type": "execute_result",
          "data": {
            "text/plain": [
              "                  date         username             to  replies  retweets  \\\n",
              "0  2020-03-19 23:58:27  MetamorphosisPB            NaN        0         0   \n",
              "1  2020-03-19 23:56:38      t_zeitchick            NaN        0         0   \n",
              "2  2020-03-19 23:51:35      HoggStanDan    FilmInquiry        0         0   \n",
              "3  2020-03-19 23:51:28           bb_nug            NaN        1         0   \n",
              "4  2020-03-19 23:50:43            CZR93      smart_MS3        0         1   \n",
              "5  2020-03-19 23:49:11     Alphakitty27            NaN        2         1   \n",
              "6  2020-03-19 23:48:07    _UrrbanBeauty  YouTrynaBeSHY        0         0   \n",
              "7  2020-03-19 23:44:17       microash12            NaN        1         0   \n",
              "8  2020-03-19 23:43:32  theshantadenise            NaN        0         0   \n",
              "9  2020-03-19 23:42:52        DrGBaylon            NaN        2         0   \n",
              "\n",
              "   favorites                                               text  geo  \\\n",
              "0          0  Check out page 8 of this week’s East Aurora Ad...  NaN   \n",
              "1          0  Anxiety keeping you up? Amazons got you at 3:3...  NaN   \n",
              "2          0  Harlem Nights, Booksmart, Fletch, the Hangover...  NaN   \n",
              "3          4  All quarantine has done so far is give me anxi...  NaN   \n",
              "4          0  The scariest part is the “No Symptoms” gives m...  NaN   \n",
              "5          3  My anxiety is the worst it’s ever been in my l...  NaN   \n",
              "6          0  This is something I’ll do .. it helps with my ...  NaN   \n",
              "7          1  We all know what’s causing some people stress ...  NaN   \n",
              "8          0             I was diagnosed with anxiety yesterday  NaN   \n",
              "9          9  While stocking up on essentials for our San Fr...  NaN   \n",
              "\n",
              "        mentions                       hashtags                   id  \\\n",
              "0            NaN                            NaN  1240789765978537984   \n",
              "1            NaN                            NaN  1240789306886828033   \n",
              "2            NaN                            NaN  1240788039292633090   \n",
              "3            NaN                            NaN  1240788008208437255   \n",
              "4            NaN                            NaN  1240787817602486272   \n",
              "5   @Sir_Narwhal                            NaN  1240787432410406914   \n",
              "6            NaN                            NaN  1240787163597484040   \n",
              "7            NaN                            NaN  1240786201768013832   \n",
              "8            NaN                            NaN  1240786012772667399   \n",
              "9  @LisandroMaya  #ShelterInPlace #MatchDay2020  1240785845558194176   \n",
              "\n",
              "                                           permalink  \n",
              "0  https://twitter.com/MetamorphosisPB/status/124...  \n",
              "1  https://twitter.com/t_zeitchick/status/1240789...  \n",
              "2  https://twitter.com/HoggStanDan/status/1240788...  \n",
              "3  https://twitter.com/bb_nug/status/124078800820...  \n",
              "4  https://twitter.com/CZR93/status/1240787817602...  \n",
              "5  https://twitter.com/Alphakitty27/status/124078...  \n",
              "6  https://twitter.com/_UrrbanBeauty/status/12407...  \n",
              "7  https://twitter.com/microash12/status/12407862...  \n",
              "8  https://twitter.com/theshantadenise/status/124...  \n",
              "9  https://twitter.com/DrGBaylon/status/124078584...  "
            ],
            "text/html": [
              "\n",
              "  <div id=\"df-47f53ecb-12ff-4839-93b0-183a0ce96607\">\n",
              "    <div class=\"colab-df-container\">\n",
              "      <div>\n",
              "<style scoped>\n",
              "    .dataframe tbody tr th:only-of-type {\n",
              "        vertical-align: middle;\n",
              "    }\n",
              "\n",
              "    .dataframe tbody tr th {\n",
              "        vertical-align: top;\n",
              "    }\n",
              "\n",
              "    .dataframe thead th {\n",
              "        text-align: right;\n",
              "    }\n",
              "</style>\n",
              "<table border=\"1\" class=\"dataframe\">\n",
              "  <thead>\n",
              "    <tr style=\"text-align: right;\">\n",
              "      <th></th>\n",
              "      <th>date</th>\n",
              "      <th>username</th>\n",
              "      <th>to</th>\n",
              "      <th>replies</th>\n",
              "      <th>retweets</th>\n",
              "      <th>favorites</th>\n",
              "      <th>text</th>\n",
              "      <th>geo</th>\n",
              "      <th>mentions</th>\n",
              "      <th>hashtags</th>\n",
              "      <th>id</th>\n",
              "      <th>permalink</th>\n",
              "    </tr>\n",
              "  </thead>\n",
              "  <tbody>\n",
              "    <tr>\n",
              "      <th>0</th>\n",
              "      <td>2020-03-19 23:58:27</td>\n",
              "      <td>MetamorphosisPB</td>\n",
              "      <td>NaN</td>\n",
              "      <td>0</td>\n",
              "      <td>0</td>\n",
              "      <td>0</td>\n",
              "      <td>Check out page 8 of this week’s East Aurora Ad...</td>\n",
              "      <td>NaN</td>\n",
              "      <td>NaN</td>\n",
              "      <td>NaN</td>\n",
              "      <td>1240789765978537984</td>\n",
              "      <td>https://twitter.com/MetamorphosisPB/status/124...</td>\n",
              "    </tr>\n",
              "    <tr>\n",
              "      <th>1</th>\n",
              "      <td>2020-03-19 23:56:38</td>\n",
              "      <td>t_zeitchick</td>\n",
              "      <td>NaN</td>\n",
              "      <td>0</td>\n",
              "      <td>0</td>\n",
              "      <td>0</td>\n",
              "      <td>Anxiety keeping you up? Amazons got you at 3:3...</td>\n",
              "      <td>NaN</td>\n",
              "      <td>NaN</td>\n",
              "      <td>NaN</td>\n",
              "      <td>1240789306886828033</td>\n",
              "      <td>https://twitter.com/t_zeitchick/status/1240789...</td>\n",
              "    </tr>\n",
              "    <tr>\n",
              "      <th>2</th>\n",
              "      <td>2020-03-19 23:51:35</td>\n",
              "      <td>HoggStanDan</td>\n",
              "      <td>FilmInquiry</td>\n",
              "      <td>0</td>\n",
              "      <td>0</td>\n",
              "      <td>0</td>\n",
              "      <td>Harlem Nights, Booksmart, Fletch, the Hangover...</td>\n",
              "      <td>NaN</td>\n",
              "      <td>NaN</td>\n",
              "      <td>NaN</td>\n",
              "      <td>1240788039292633090</td>\n",
              "      <td>https://twitter.com/HoggStanDan/status/1240788...</td>\n",
              "    </tr>\n",
              "    <tr>\n",
              "      <th>3</th>\n",
              "      <td>2020-03-19 23:51:28</td>\n",
              "      <td>bb_nug</td>\n",
              "      <td>NaN</td>\n",
              "      <td>1</td>\n",
              "      <td>0</td>\n",
              "      <td>4</td>\n",
              "      <td>All quarantine has done so far is give me anxi...</td>\n",
              "      <td>NaN</td>\n",
              "      <td>NaN</td>\n",
              "      <td>NaN</td>\n",
              "      <td>1240788008208437255</td>\n",
              "      <td>https://twitter.com/bb_nug/status/124078800820...</td>\n",
              "    </tr>\n",
              "    <tr>\n",
              "      <th>4</th>\n",
              "      <td>2020-03-19 23:50:43</td>\n",
              "      <td>CZR93</td>\n",
              "      <td>smart_MS3</td>\n",
              "      <td>0</td>\n",
              "      <td>1</td>\n",
              "      <td>0</td>\n",
              "      <td>The scariest part is the “No Symptoms” gives m...</td>\n",
              "      <td>NaN</td>\n",
              "      <td>NaN</td>\n",
              "      <td>NaN</td>\n",
              "      <td>1240787817602486272</td>\n",
              "      <td>https://twitter.com/CZR93/status/1240787817602...</td>\n",
              "    </tr>\n",
              "    <tr>\n",
              "      <th>5</th>\n",
              "      <td>2020-03-19 23:49:11</td>\n",
              "      <td>Alphakitty27</td>\n",
              "      <td>NaN</td>\n",
              "      <td>2</td>\n",
              "      <td>1</td>\n",
              "      <td>3</td>\n",
              "      <td>My anxiety is the worst it’s ever been in my l...</td>\n",
              "      <td>NaN</td>\n",
              "      <td>@Sir_Narwhal</td>\n",
              "      <td>NaN</td>\n",
              "      <td>1240787432410406914</td>\n",
              "      <td>https://twitter.com/Alphakitty27/status/124078...</td>\n",
              "    </tr>\n",
              "    <tr>\n",
              "      <th>6</th>\n",
              "      <td>2020-03-19 23:48:07</td>\n",
              "      <td>_UrrbanBeauty</td>\n",
              "      <td>YouTrynaBeSHY</td>\n",
              "      <td>0</td>\n",
              "      <td>0</td>\n",
              "      <td>0</td>\n",
              "      <td>This is something I’ll do .. it helps with my ...</td>\n",
              "      <td>NaN</td>\n",
              "      <td>NaN</td>\n",
              "      <td>NaN</td>\n",
              "      <td>1240787163597484040</td>\n",
              "      <td>https://twitter.com/_UrrbanBeauty/status/12407...</td>\n",
              "    </tr>\n",
              "    <tr>\n",
              "      <th>7</th>\n",
              "      <td>2020-03-19 23:44:17</td>\n",
              "      <td>microash12</td>\n",
              "      <td>NaN</td>\n",
              "      <td>1</td>\n",
              "      <td>0</td>\n",
              "      <td>1</td>\n",
              "      <td>We all know what’s causing some people stress ...</td>\n",
              "      <td>NaN</td>\n",
              "      <td>NaN</td>\n",
              "      <td>NaN</td>\n",
              "      <td>1240786201768013832</td>\n",
              "      <td>https://twitter.com/microash12/status/12407862...</td>\n",
              "    </tr>\n",
              "    <tr>\n",
              "      <th>8</th>\n",
              "      <td>2020-03-19 23:43:32</td>\n",
              "      <td>theshantadenise</td>\n",
              "      <td>NaN</td>\n",
              "      <td>0</td>\n",
              "      <td>0</td>\n",
              "      <td>0</td>\n",
              "      <td>I was diagnosed with anxiety yesterday</td>\n",
              "      <td>NaN</td>\n",
              "      <td>NaN</td>\n",
              "      <td>NaN</td>\n",
              "      <td>1240786012772667399</td>\n",
              "      <td>https://twitter.com/theshantadenise/status/124...</td>\n",
              "    </tr>\n",
              "    <tr>\n",
              "      <th>9</th>\n",
              "      <td>2020-03-19 23:42:52</td>\n",
              "      <td>DrGBaylon</td>\n",
              "      <td>NaN</td>\n",
              "      <td>2</td>\n",
              "      <td>0</td>\n",
              "      <td>9</td>\n",
              "      <td>While stocking up on essentials for our San Fr...</td>\n",
              "      <td>NaN</td>\n",
              "      <td>@LisandroMaya</td>\n",
              "      <td>#ShelterInPlace #MatchDay2020</td>\n",
              "      <td>1240785845558194176</td>\n",
              "      <td>https://twitter.com/DrGBaylon/status/124078584...</td>\n",
              "    </tr>\n",
              "  </tbody>\n",
              "</table>\n",
              "</div>\n",
              "      <button class=\"colab-df-convert\" onclick=\"convertToInteractive('df-47f53ecb-12ff-4839-93b0-183a0ce96607')\"\n",
              "              title=\"Convert this dataframe to an interactive table.\"\n",
              "              style=\"display:none;\">\n",
              "        \n",
              "  <svg xmlns=\"http://www.w3.org/2000/svg\" height=\"24px\"viewBox=\"0 0 24 24\"\n",
              "       width=\"24px\">\n",
              "    <path d=\"M0 0h24v24H0V0z\" fill=\"none\"/>\n",
              "    <path d=\"M18.56 5.44l.94 2.06.94-2.06 2.06-.94-2.06-.94-.94-2.06-.94 2.06-2.06.94zm-11 1L8.5 8.5l.94-2.06 2.06-.94-2.06-.94L8.5 2.5l-.94 2.06-2.06.94zm10 10l.94 2.06.94-2.06 2.06-.94-2.06-.94-.94-2.06-.94 2.06-2.06.94z\"/><path d=\"M17.41 7.96l-1.37-1.37c-.4-.4-.92-.59-1.43-.59-.52 0-1.04.2-1.43.59L10.3 9.45l-7.72 7.72c-.78.78-.78 2.05 0 2.83L4 21.41c.39.39.9.59 1.41.59.51 0 1.02-.2 1.41-.59l7.78-7.78 2.81-2.81c.8-.78.8-2.07 0-2.86zM5.41 20L4 18.59l7.72-7.72 1.47 1.35L5.41 20z\"/>\n",
              "  </svg>\n",
              "      </button>\n",
              "      \n",
              "  <style>\n",
              "    .colab-df-container {\n",
              "      display:flex;\n",
              "      flex-wrap:wrap;\n",
              "      gap: 12px;\n",
              "    }\n",
              "\n",
              "    .colab-df-convert {\n",
              "      background-color: #E8F0FE;\n",
              "      border: none;\n",
              "      border-radius: 50%;\n",
              "      cursor: pointer;\n",
              "      display: none;\n",
              "      fill: #1967D2;\n",
              "      height: 32px;\n",
              "      padding: 0 0 0 0;\n",
              "      width: 32px;\n",
              "    }\n",
              "\n",
              "    .colab-df-convert:hover {\n",
              "      background-color: #E2EBFA;\n",
              "      box-shadow: 0px 1px 2px rgba(60, 64, 67, 0.3), 0px 1px 3px 1px rgba(60, 64, 67, 0.15);\n",
              "      fill: #174EA6;\n",
              "    }\n",
              "\n",
              "    [theme=dark] .colab-df-convert {\n",
              "      background-color: #3B4455;\n",
              "      fill: #D2E3FC;\n",
              "    }\n",
              "\n",
              "    [theme=dark] .colab-df-convert:hover {\n",
              "      background-color: #434B5C;\n",
              "      box-shadow: 0px 1px 3px 1px rgba(0, 0, 0, 0.15);\n",
              "      filter: drop-shadow(0px 1px 2px rgba(0, 0, 0, 0.3));\n",
              "      fill: #FFFFFF;\n",
              "    }\n",
              "  </style>\n",
              "\n",
              "      <script>\n",
              "        const buttonEl =\n",
              "          document.querySelector('#df-47f53ecb-12ff-4839-93b0-183a0ce96607 button.colab-df-convert');\n",
              "        buttonEl.style.display =\n",
              "          google.colab.kernel.accessAllowed ? 'block' : 'none';\n",
              "\n",
              "        async function convertToInteractive(key) {\n",
              "          const element = document.querySelector('#df-47f53ecb-12ff-4839-93b0-183a0ce96607');\n",
              "          const dataTable =\n",
              "            await google.colab.kernel.invokeFunction('convertToInteractive',\n",
              "                                                     [key], {});\n",
              "          if (!dataTable) return;\n",
              "\n",
              "          const docLinkHtml = 'Like what you see? Visit the ' +\n",
              "            '<a target=\"_blank\" href=https://colab.research.google.com/notebooks/data_table.ipynb>data table notebook</a>'\n",
              "            + ' to learn more about interactive tables.';\n",
              "          element.innerHTML = '';\n",
              "          dataTable['output_type'] = 'display_data';\n",
              "          await google.colab.output.renderOutput(dataTable, element);\n",
              "          const docLink = document.createElement('div');\n",
              "          docLink.innerHTML = docLinkHtml;\n",
              "          element.appendChild(docLink);\n",
              "        }\n",
              "      </script>\n",
              "    </div>\n",
              "  </div>\n",
              "  "
            ]
          },
          "metadata": {},
          "execution_count": 8
        }
      ],
      "source": [
        "df.head(10)"
      ]
    },
    {
      "cell_type": "markdown",
      "metadata": {
        "id": "m3qbcp3pLIxw"
      },
      "source": [
        "**Data Exploration**"
      ]
    },
    {
      "cell_type": "code",
      "execution_count": null,
      "metadata": {
        "colab": {
          "base_uri": "https://localhost:8080/"
        },
        "id": "hlDv2B7TaPDn",
        "outputId": "b064c5e4-7e44-466f-c2eb-df8d8c88fc84"
      },
      "outputs": [
        {
          "output_type": "execute_result",
          "data": {
            "text/plain": [
              "(5000, 12)"
            ]
          },
          "metadata": {},
          "execution_count": 9
        }
      ],
      "source": [
        "df.shape"
      ]
    },
    {
      "cell_type": "code",
      "execution_count": null,
      "metadata": {
        "colab": {
          "base_uri": "https://localhost:8080/"
        },
        "id": "vJ6_Wui5aa-U",
        "outputId": "de50a905-a5ff-4423-b38d-51a31c3aa137"
      },
      "outputs": [
        {
          "output_type": "execute_result",
          "data": {
            "text/plain": [
              "date          object\n",
              "username      object\n",
              "to            object\n",
              "replies        int64\n",
              "retweets       int64\n",
              "favorites      int64\n",
              "text          object\n",
              "geo          float64\n",
              "mentions      object\n",
              "hashtags      object\n",
              "id             int64\n",
              "permalink     object\n",
              "dtype: object"
            ]
          },
          "metadata": {},
          "execution_count": 10
        }
      ],
      "source": [
        "df.dtypes"
      ]
    },
    {
      "cell_type": "code",
      "execution_count": null,
      "metadata": {
        "id": "BL0zhNKfacZb"
      },
      "outputs": [],
      "source": [
        "#Removing redundant columns like date username to replies\n",
        "\n",
        "df = df.drop(['date','username','to','replies','retweets','favorites','geo','mentions','hashtags','id','permalink'], axis = 1)\n",
        "df.head(10)\n",
        "dataset2=df"
      ]
    },
    {
      "cell_type": "code",
      "execution_count": null,
      "metadata": {
        "colab": {
          "base_uri": "https://localhost:8080/",
          "height": 354
        },
        "id": "KhN8a0clLOwt",
        "outputId": "4771d41c-183f-43a0-f296-4613f5891b3f"
      },
      "outputs": [
        {
          "output_type": "execute_result",
          "data": {
            "text/plain": [
              "Text(0.5, 1.0, 'Tweets')"
            ]
          },
          "metadata": {},
          "execution_count": 12
        },
        {
          "output_type": "display_data",
          "data": {
            "text/plain": [
              "<Figure size 720x360 with 1 Axes>"
            ],
            "image/png": "[encoded data removed]"
          },
          "metadata": {
            "needs_background": "light"
          }
        }
      ],
      "source": [
        "fig,(ax1)=plt.subplots(1,figsize=(10,5))\n",
        "tweet_len=df['text'].str.len()\n",
        "ax1.hist(tweet_len,color='red')\n",
        "ax1.set_title('Tweets')"
      ]
    },
    {
      "cell_type": "code",
      "execution_count": null,
      "metadata": {
        "colab": {
          "base_uri": "https://localhost:8080/"
        },
        "id": "LknapG2gbPZE",
        "outputId": "63730ff0-b691-4e68-f724-5bace74a4540"
      },
      "outputs": [
        {
          "output_type": "execute_result",
          "data": {
            "text/plain": [
              "text    0\n",
              "dtype: int64"
            ]
          },
          "metadata": {},
          "execution_count": 13
        }
      ],
      "source": [
        "df.isnull().sum()"
      ]
    },
    {
      "cell_type": "markdown",
      "metadata": {
        "id": "hRNxGH1AoMih"
      },
      "source": [
        "**Data Preprocessing**"
      ]
    },
    {
      "cell_type": "code",
      "execution_count": null,
      "metadata": {
        "colab": {
          "base_uri": "https://localhost:8080/"
        },
        "id": "F7MFoBl-scGh",
        "outputId": "03c84045-e59c-4ee4-faf3-6cd6dbe36046"
      },
      "outputs": [
        {
          "output_type": "stream",
          "name": "stdout",
          "text": [
            "Looking in indexes: https://pypi.org/simple, https://us-python.pkg.dev/colab-wheels/public/simple/\n",
            "Collecting pyspellchecker\n",
            "  Downloading pyspellchecker-0.7.0-py3-none-any.whl (2.5 MB)\n",
            "\u001b[K     |████████████████████████████████| 2.5 MB 4.1 MB/s \n",
            "\u001b[?25hInstalling collected packages: pyspellchecker\n",
            "Successfully installed pyspellchecker-0.7.0\n"
          ]
        }
      ],
      "source": [
        "!pip install pyspellchecker"
      ]
    },
    {
      "cell_type": "code",
      "execution_count": null,
      "metadata": {
        "id": "r_OojR2scS74"
      },
      "outputs": [],
      "source": [
        "import re\n",
        "from gensim.utils import simple_preprocess\n",
        "import gensim\n",
        "import string\n",
        "import nltk\n",
        "from nltk.corpus import stopwords\n",
        "from nltk.tokenize import word_tokenize\n",
        "\n",
        "from nltk.corpus import stopwords\n",
        "from keras.preprocessing.text import Tokenizer\n",
        "\n",
        "import spellchecker\n",
        "from spellchecker import SpellChecker\n",
        "import spacy\n"
      ]
    },
    {
      "cell_type": "markdown",
      "metadata": {
        "id": "8XNdTzC5oIrp"
      },
      "source": [
        "**Removing Emojis**"
      ]
    },
    {
      "cell_type": "code",
      "execution_count": null,
      "metadata": {
        "id": "1pCfERcpn1L6"
      },
      "outputs": [],
      "source": [
        "def remove_emoji(text):\n",
        "    emoji_pattern = re.compile(\"[\"\n",
        "                           u\"\\U0001F600-\\U0001F64F\"  # emoticons\n",
        "                           u\"\\U0001F300-\\U0001F5FF\"  # symbols & pictographs\n",
        "                           u\"\\U0001F680-\\U0001F6FF\"  # transport & map symbols\n",
        "                           u\"\\U0001F1E0-\\U0001F1FF\"  # flags (iOS)\n",
        "                           u\"\\U00002702-\\U000027B0\"\n",
        "                           u\"\\U000024C2-\\U0001F251\"\n",
        "                           \"]+\", flags=re.UNICODE)\n",
        "    return emoji_pattern.sub(r'', text)\n"
      ]
    },
    {
      "cell_type": "markdown",
      "metadata": {
        "id": "S8MWq8dOo6o8"
      },
      "source": []
    },
    {
      "cell_type": "markdown",
      "metadata": {
        "id": "wuDgxturshrf"
      },
      "source": [
        "**Spelling Correction**"
      ]
    },
    {
      "cell_type": "code",
      "execution_count": null,
      "metadata": {
        "id": "FllcPO0MqG1l"
      },
      "outputs": [],
      "source": [
        "\n",
        "\n",
        "spell = SpellChecker()\n",
        "def correct_spellings(text):\n",
        "    corrected_text = []\n",
        "    misspelled_words = spell.unknown(text.split())\n",
        "    for word in text.split():\n",
        "        if word in misspelled_words:\n",
        "            corrected_text.append(spell.correction(word))\n",
        "        else:\n",
        "            corrected_text.append(word)\n",
        "    return \" \".join(corrected_text)\n",
        "        \n"
      ]
    },
    {
      "cell_type": "markdown",
      "metadata": {
        "id": "-s8dn84KoXSq"
      },
      "source": [
        "**Removing URLs with a regular expression**"
      ]
    },
    {
      "cell_type": "code",
      "execution_count": null,
      "metadata": {
        "colab": {
          "base_uri": "https://localhost:8080/"
        },
        "id": "tFRjvFNFtmeB",
        "outputId": "c27ea293-32b0-414e-b5ce-9801bfc57235"
      },
      "outputs": [
        {
          "output_type": "execute_result",
          "data": {
            "text/plain": [
              "text    object\n",
              "dtype: object"
            ]
          },
          "metadata": {},
          "execution_count": 18
        }
      ],
      "source": [
        "df.dtypes"
      ]
    },
    {
      "cell_type": "markdown",
      "metadata": {
        "id": "N9PSGOujumBR"
      },
      "source": [
        "**Removing Hashtags**"
      ]
    },
    {
      "cell_type": "code",
      "execution_count": null,
      "metadata": {
        "id": "JM-4VgPHqGKl"
      },
      "outputs": [],
      "source": [
        "def remove_urls(text):\n",
        "    res = re.sub(r'[^\\w\\s]', '', df['text'])\n",
        "    return res.sub(r'', text)"
      ]
    },
    {
      "cell_type": "code",
      "execution_count": null,
      "metadata": {
        "colab": {
          "base_uri": "https://localhost:8080/",
          "height": 363
        },
        "id": "RShIIEGEcFzs",
        "outputId": "c94b11d5-71e0-49b4-a15b-a96c71e4c771"
      },
      "outputs": [
        {
          "output_type": "execute_result",
          "data": {
            "text/plain": [
              "                                                text\n",
              "0  Check out page 8 of this week’s East Aurora Ad...\n",
              "1  Anxiety keeping you up? Amazons got you at 3:3...\n",
              "2  Harlem Nights, Booksmart, Fletch, the Hangover...\n",
              "3  All quarantine has done so far is give me anxi...\n",
              "4  The scariest part is the “No Symptoms” gives m...\n",
              "5  My anxiety is the worst it’s ever been in my l...\n",
              "6  This is something I’ll do .. it helps with my ...\n",
              "7  We all know what’s causing some people stress ...\n",
              "8             I was diagnosed with anxiety yesterday\n",
              "9  While stocking up on essentials for our San Fr..."
            ],
            "text/html": [
              "\n",
              "  <div id=\"df-55e85bed-6975-47bc-9d29-ee3592f392bd\">\n",
              "    <div class=\"colab-df-container\">\n",
              "      <div>\n",
              "<style scoped>\n",
              "    .dataframe tbody tr th:only-of-type {\n",
              "        vertical-align: middle;\n",
              "    }\n",
              "\n",
              "    .dataframe tbody tr th {\n",
              "        vertical-align: top;\n",
              "    }\n",
              "\n",
              "    .dataframe thead th {\n",
              "        text-align: right;\n",
              "    }\n",
              "</style>\n",
              "<table border=\"1\" class=\"dataframe\">\n",
              "  <thead>\n",
              "    <tr style=\"text-align: right;\">\n",
              "      <th></th>\n",
              "      <th>text</th>\n",
              "    </tr>\n",
              "  </thead>\n",
              "  <tbody>\n",
              "    <tr>\n",
              "      <th>0</th>\n",
              "      <td>Check out page 8 of this week’s East Aurora Ad...</td>\n",
              "    </tr>\n",
              "    <tr>\n",
              "      <th>1</th>\n",
              "      <td>Anxiety keeping you up? Amazons got you at 3:3...</td>\n",
              "    </tr>\n",
              "    <tr>\n",
              "      <th>2</th>\n",
              "      <td>Harlem Nights, Booksmart, Fletch, the Hangover...</td>\n",
              "    </tr>\n",
              "    <tr>\n",
              "      <th>3</th>\n",
              "      <td>All quarantine has done so far is give me anxi...</td>\n",
              "    </tr>\n",
              "    <tr>\n",
              "      <th>4</th>\n",
              "      <td>The scariest part is the “No Symptoms” gives m...</td>\n",
              "    </tr>\n",
              "    <tr>\n",
              "      <th>5</th>\n",
              "      <td>My anxiety is the worst it’s ever been in my l...</td>\n",
              "    </tr>\n",
              "    <tr>\n",
              "      <th>6</th>\n",
              "      <td>This is something I’ll do .. it helps with my ...</td>\n",
              "    </tr>\n",
              "    <tr>\n",
              "      <th>7</th>\n",
              "      <td>We all know what’s causing some people stress ...</td>\n",
              "    </tr>\n",
              "    <tr>\n",
              "      <th>8</th>\n",
              "      <td>I was diagnosed with anxiety yesterday</td>\n",
              "    </tr>\n",
              "    <tr>\n",
              "      <th>9</th>\n",
              "      <td>While stocking up on essentials for our San Fr...</td>\n",
              "    </tr>\n",
              "  </tbody>\n",
              "</table>\n",
              "</div>\n",
              "      <button class=\"colab-df-convert\" onclick=\"convertToInteractive('df-55e85bed-6975-47bc-9d29-ee3592f392bd')\"\n",
              "              title=\"Convert this dataframe to an interactive table.\"\n",
              "              style=\"display:none;\">\n",
              "        \n",
              "  <svg xmlns=\"http://www.w3.org/2000/svg\" height=\"24px\"viewBox=\"0 0 24 24\"\n",
              "       width=\"24px\">\n",
              "    <path d=\"M0 0h24v24H0V0z\" fill=\"none\"/>\n",
              "    <path d=\"M18.56 5.44l.94 2.06.94-2.06 2.06-.94-2.06-.94-.94-2.06-.94 2.06-2.06.94zm-11 1L8.5 8.5l.94-2.06 2.06-.94-2.06-.94L8.5 2.5l-.94 2.06-2.06.94zm10 10l.94 2.06.94-2.06 2.06-.94-2.06-.94-.94-2.06-.94 2.06-2.06.94z\"/><path d=\"M17.41 7.96l-1.37-1.37c-.4-.4-.92-.59-1.43-.59-.52 0-1.04.2-1.43.59L10.3 9.45l-7.72 7.72c-.78.78-.78 2.05 0 2.83L4 21.41c.39.39.9.59 1.41.59.51 0 1.02-.2 1.41-.59l7.78-7.78 2.81-2.81c.8-.78.8-2.07 0-2.86zM5.41 20L4 18.59l7.72-7.72 1.47 1.35L5.41 20z\"/>\n",
              "  </svg>\n",
              "      </button>\n",
              "      \n",
              "  <style>\n",
              "    .colab-df-container {\n",
              "      display:flex;\n",
              "      flex-wrap:wrap;\n",
              "      gap: 12px;\n",
              "    }\n",
              "\n",
              "    .colab-df-convert {\n",
              "      background-color: #E8F0FE;\n",
              "      border: none;\n",
              "      border-radius: 50%;\n",
              "      cursor: pointer;\n",
              "      display: none;\n",
              "      fill: #1967D2;\n",
              "      height: 32px;\n",
              "      padding: 0 0 0 0;\n",
              "      width: 32px;\n",
              "    }\n",
              "\n",
              "    .colab-df-convert:hover {\n",
              "      background-color: #E2EBFA;\n",
              "      box-shadow: 0px 1px 2px rgba(60, 64, 67, 0.3), 0px 1px 3px 1px rgba(60, 64, 67, 0.15);\n",
              "      fill: #174EA6;\n",
              "    }\n",
              "\n",
              "    [theme=dark] .colab-df-convert {\n",
              "      background-color: #3B4455;\n",
              "      fill: #D2E3FC;\n",
              "    }\n",
              "\n",
              "    [theme=dark] .colab-df-convert:hover {\n",
              "      background-color: #434B5C;\n",
              "      box-shadow: 0px 1px 3px 1px rgba(0, 0, 0, 0.15);\n",
              "      filter: drop-shadow(0px 1px 2px rgba(0, 0, 0, 0.3));\n",
              "      fill: #FFFFFF;\n",
              "    }\n",
              "  </style>\n",
              "\n",
              "      <script>\n",
              "        const buttonEl =\n",
              "          document.querySelector('#df-55e85bed-6975-47bc-9d29-ee3592f392bd button.colab-df-convert');\n",
              "        buttonEl.style.display =\n",
              "          google.colab.kernel.accessAllowed ? 'block' : 'none';\n",
              "\n",
              "        async function convertToInteractive(key) {\n",
              "          const element = document.querySelector('#df-55e85bed-6975-47bc-9d29-ee3592f392bd');\n",
              "          const dataTable =\n",
              "            await google.colab.kernel.invokeFunction('convertToInteractive',\n",
              "                                                     [key], {});\n",
              "          if (!dataTable) return;\n",
              "\n",
              "          const docLinkHtml = 'Like what you see? Visit the ' +\n",
              "            '<a target=\"_blank\" href=https://colab.research.google.com/notebooks/data_table.ipynb>data table notebook</a>'\n",
              "            + ' to learn more about interactive tables.';\n",
              "          element.innerHTML = '';\n",
              "          dataTable['output_type'] = 'display_data';\n",
              "          await google.colab.output.renderOutput(dataTable, element);\n",
              "          const docLink = document.createElement('div');\n",
              "          docLink.innerHTML = docLinkHtml;\n",
              "          element.appendChild(docLink);\n",
              "        }\n",
              "      </script>\n",
              "    </div>\n",
              "  </div>\n",
              "  "
            ]
          },
          "metadata": {},
          "execution_count": 20
        }
      ],
      "source": [
        "def remove_urls(text):\n",
        "    url_pattern = re.compile(r'https?://\\S+|www\\.\\S+')\n",
        "    return url_pattern.sub(r'', text)\n",
        "\n",
        "for i in range(len(df)):\n",
        "  df.at[i,'text'] = remove_urls(df.iloc[i]['text'])\n",
        "\n",
        "df.head(10)"
      ]
    },
    {
      "cell_type": "code",
      "source": [
        "# # Define functions for stopwords\n",
        "\n",
        "# stop_words = set(stopwords.words(\"english\"))\n",
        "\n",
        "\n",
        "# def remove_stopwords(texts):\n",
        "#     return [[word for word in simple_preprocess(str(doc)) if word not in stop_words] for doc in texts]\n",
        "#     data_words_nostops = remove_stopwords(data_words)"
      ],
      "metadata": {
        "id": "Vp6jXtb2hvJG"
      },
      "execution_count": null,
      "outputs": []
    },
    {
      "cell_type": "code",
      "execution_count": null,
      "metadata": {
        "id": "b-iWhWHDdPuW"
      },
      "outputs": [],
      "source": [
        "#converting df to list\n",
        "datalist = df['text'].values.tolist()\n",
        "# Remove Emails\n",
        "datalist = [re.sub('\\S*@\\S*\\s?', '', sent) for sent in datalist]\n",
        "\n",
        "# Remove new line characters\n",
        "datalist = [re.sub('\\s+', ' ', sent) for sent in datalist]\n",
        "\n",
        "# Remove distracting single quotes\n",
        "datalist = [re.sub(\"\\'\", \"\", sent) for sent in datalist]\n",
        "\n"
      ]
    },
    {
      "cell_type": "markdown",
      "source": [
        "**Sentence to Words**"
      ],
      "metadata": {
        "id": "00gdxrX06oCz"
      }
    },
    {
      "cell_type": "code",
      "source": [
        "#convert sentence to words\n",
        "def sent_to_words(sentences):\n",
        "    for sentence in sentences:\n",
        "        yield(gensim.utils.simple_preprocess(str(sentence), deacc=True))\n",
        " \n",
        "\n",
        "data_to_word = list(sent_to_words(datalist))\n",
        "\n",
        "print(data_to_word[:10])"
      ],
      "metadata": {
        "colab": {
          "base_uri": "https://localhost:8080/"
        },
        "id": "ErcKEq4V6m38",
        "outputId": "cf1d7052-f344-480d-8527-fad59e87f397"
      },
      "execution_count": null,
      "outputs": [
        {
          "output_type": "stream",
          "name": "stdout",
          "text": [
            "[['check', 'out', 'page', 'of', 'this', 'week', 'east', 'aurora', 'advertiser', 'for', 'tips', 'on', 'taking', 'care', 'of', 'yourself', 'during', 'this', 'stressful', 'time', 'you', 'can', 'help', 'yourself', 'to', 'lower', 'your', 'anxiety', 'level', 'and', 'to', 'keep', 'your', 'body', 'as', 'healthy', 'as', 'possible'], ['anxiety', 'keeping', 'you', 'up', 'amazons', 'got', 'you', 'at', 'am', 'when', 'you', 'want', 'to', 'order', 'some', 'foot', 'scrub', 'and', 'dog', 'brush'], ['harlem', 'nights', 'booksmart', 'fletch', 'the', 'hangover', 'tommy', 'boy', 'high', 'anxiety', 'history', 'of', 'the', 'world', 'part', 'spaceballs', 'daffy', 'duck', 'quackbusters', 'abbott', 'and', 'costello', 'meet', 'frankenstein'], ['all', 'quarantine', 'has', 'done', 'so', 'far', 'is', 'give', 'me', 'anxiety', 'and', 'an', 'online', 'shopping', 'addiction'], ['the', 'scariest', 'part', 'is', 'the', 'no', 'symptoms', 'gives', 'me', 'anxiety', 'tbh'], ['my', 'anxiety', 'is', 'the', 'worst', 'it', 'ever', 'been', 'in', 'my', 'life', 'but', 'am', 'very', 'thankful', 'to', 'be', 'in', 'self', 'isolation', 'honestly', 'don', 'think', 'could', 'handle', 'weeks', 'of', 'nothing', 'but', 'my', 'own', 'company'], ['this', 'is', 'something', 'll', 'do', 'it', 'helps', 'with', 'my', 'anxiety', 'like', 'just', 'start', 'crying', 'outta', 'no', 'where'], ['we', 'all', 'know', 'what', 'causing', 'some', 'people', 'stress', 'and', 'anxiety', 'but', 'what', 'making', 'you', 'happy', 'right', 'now'], ['was', 'diagnosed', 'with', 'anxiety', 'yesterday'], ['while', 'stocking', 'up', 'on', 'essentials', 'for', 'our', 'san', 'francisco', 'shelterinplace', 'order', 'we', 'forgot', 'to', 'include', 'champagne', 'for', 'our', 'matchday', 'celebration', 'forgot', 'the', 'simpler', 'times', 'when', 'my', 'main', 'source', 'of', 'anxiety', 'was', 'thinking', 'about', 'where', 'will', 'do', 'his', 'residency']]\n"
          ]
        }
      ]
    },
    {
      "cell_type": "code",
      "source": [
        "# Initialize spacy 'en' model, keeping only tagger component (for efficiency)\n",
        "# python3 -m spacy download en\n",
        "# nlp = spacy.load(\"en_core_web_sm\")\n",
        "# nlp = spacy.load('en', disable=['parser', 'ner'])"
      ],
      "metadata": {
        "id": "qlkscEUz3i5Q"
      },
      "execution_count": null,
      "outputs": []
    },
    {
      "cell_type": "code",
      "source": [
        "# Build the bigram and trigram models\n",
        "bigram = gensim.models.Phrases(data_to_word, min_count=5, threshold=100) # higher threshold fewer phrases.\n",
        "trigram = gensim.models.Phrases(bigram[data_to_word], threshold=100)  \n",
        "\n",
        "# Faster way to get a sentence clubbed as a trigram/bigram\n",
        "bigram_mod = gensim.models.phrases.Phraser(bigram)\n",
        "trigram_mod = gensim.models.phrases.Phraser(trigram)\n",
        "\n",
        "# See trigram example\n",
        "print(trigram_mod[bigram_mod[data_to_word[0]]])"
      ],
      "metadata": {
        "colab": {
          "base_uri": "https://localhost:8080/"
        },
        "id": "q3HIbZn1kCjN",
        "outputId": "0c5e9806-6ca6-4db8-b289-8f84ba582ec8"
      },
      "execution_count": null,
      "outputs": [
        {
          "output_type": "stream",
          "name": "stderr",
          "text": [
            "/usr/local/lib/python3.7/dist-packages/gensim/models/phrases.py:598: UserWarning: For a faster implementation, use the gensim.models.phrases.Phraser class\n",
            "  warnings.warn(\"For a faster implementation, use the gensim.models.phrases.Phraser class\")\n"
          ]
        },
        {
          "output_type": "stream",
          "name": "stdout",
          "text": [
            "['check', 'out', 'page', 'of', 'this', 'week', 'east', 'aurora', 'advertiser', 'for', 'tips', 'on', 'taking', 'care', 'of', 'yourself', 'during', 'this', 'stressful', 'time', 'you', 'can', 'help', 'yourself', 'to', 'lower', 'your', 'anxiety', 'level', 'and', 'to', 'keep', 'your', 'body', 'as', 'healthy', 'as', 'possible']\n"
          ]
        }
      ]
    },
    {
      "cell_type": "code",
      "source": [
        "import nltk\n",
        "nltk.download('stopwords')"
      ],
      "metadata": {
        "colab": {
          "base_uri": "https://localhost:8080/"
        },
        "id": "KgRjlJArlory",
        "outputId": "81404752-1029-49ec-9dab-58bc676e5e68"
      },
      "execution_count": null,
      "outputs": [
        {
          "output_type": "stream",
          "name": "stderr",
          "text": [
            "[nltk_data] Downloading package stopwords to /root/nltk_data...\n",
            "[nltk_data]   Unzipping corpora/stopwords.zip.\n"
          ]
        },
        {
          "output_type": "execute_result",
          "data": {
            "text/plain": [
              "True"
            ]
          },
          "metadata": {},
          "execution_count": 26
        }
      ]
    },
    {
      "cell_type": "code",
      "source": [
        "# Define functions for stopwords, bigrams, trigrams and lemmatization\n",
        "\n",
        "stop_words = set(stopwords.words(\"english\"))\n",
        "\n",
        "\n",
        "def remove_stopwords(texts):\n",
        "    return [[word for word in simple_preprocess(str(doc)) if word not in stop_words] for doc in texts]\n",
        "\n",
        "def make_bigrams(texts):\n",
        "    return [bigram_mod[doc] for doc in texts]\n",
        "\n",
        "def make_trigrams(texts):\n",
        "    return [trigram_mod[bigram_mod[doc]] for doc in texts]"
      ],
      "metadata": {
        "id": "LOhTiSHukekD"
      },
      "execution_count": null,
      "outputs": []
    },
    {
      "cell_type": "code",
      "source": [
        "# Initialize spacy 'en' model, keeping only tagger component (for efficiency)\n",
        "# python3 -m spacy download en\n",
        "nlp = spacy.load('en_core_web_sm', disable=['parser', 'ner'])"
      ],
      "metadata": {
        "id": "Iud9wg8OmGhk"
      },
      "execution_count": null,
      "outputs": []
    },
    {
      "cell_type": "code",
      "execution_count": null,
      "metadata": {
        "id": "Didwl7rSeahf",
        "colab": {
          "base_uri": "https://localhost:8080/"
        },
        "outputId": "a1f7c5ef-fd44-43c8-e7a7-2e23446b661f"
      },
      "outputs": [
        {
          "output_type": "stream",
          "name": "stdout",
          "text": [
            "[['check', 'page', 'week', 'tip', 'take', 'care', 'stressful', 'time', 'help', 'lower', 'anxiety', 'level', 'keep', 'body', 'as', 'healthy', 'possible']]\n"
          ]
        }
      ],
      "source": [
        "# Do lemmatization keeping only noun, adj, vb, adv\n",
        "def lemmatization(texts, allowed_postags=['NOUN', 'ADJ', 'VERB', 'ADV']):\n",
        "    texts_out = []\n",
        "    for sent in texts:\n",
        "        doc = nlp(\" \".join(sent)) \n",
        "        texts_out.append([token.lemma_ for token in doc if token.pos_ in allowed_postags])\n",
        "    return texts_out\n",
        "data_lemmatized = lemmatization(data_to_word, allowed_postags=['NOUN', 'ADJ', 'VERB', 'ADV'])\n",
        "\n",
        "print(data_lemmatized[:1])"
      ]
    },
    {
      "cell_type": "code",
      "source": [
        "# Remove Stop Words\n",
        "data_words_nostops = remove_stopwords(data_to_word)\n",
        "\n",
        "# Form Bigrams\n",
        "data_words_bigrams = make_bigrams(data_words_nostops)\n",
        "\n",
        "\n",
        "\n",
        "# Do lemmatization keeping only noun, adj, vb, adv\n",
        "data_lemmatized = lemmatization(data_words_bigrams, allowed_postags=['NOUN', 'ADJ', 'VERB', 'ADV'])\n",
        "\n",
        "print(data_lemmatized[:1])"
      ],
      "metadata": {
        "colab": {
          "base_uri": "https://localhost:8080/"
        },
        "id": "xDkek4iskquO",
        "outputId": "3a6b428a-dc5e-4dcc-b797-8283873f0ba4"
      },
      "execution_count": null,
      "outputs": [
        {
          "output_type": "stream",
          "name": "stdout",
          "text": [
            "[['check', 'page', 'week', 'advertiser', 'tip', 'take', 'care', 'stressful', 'time', 'help', 'low', 'anxiety', 'level', 'keep', 'body', 'healthy', 'possible']]\n"
          ]
        }
      ]
    },
    {
      "cell_type": "markdown",
      "source": [],
      "metadata": {
        "id": "ALeoJdZz9n_4"
      }
    },
    {
      "cell_type": "markdown",
      "source": [
        "**Put Lametized words in corpus**"
      ],
      "metadata": {
        "id": "GqgApXwR-WiU"
      }
    },
    {
      "cell_type": "code",
      "source": [
        "corpus = []\n",
        "for i in range(len(data_lemmatized)):\n",
        "    corpus.append(\" \".join(data_lemmatized[i]))\n",
        "corpus = pd.Series(corpus)\n",
        "\n",
        "print (corpus[:10])"
      ],
      "metadata": {
        "colab": {
          "base_uri": "https://localhost:8080/"
        },
        "id": "hwcqDOXb9aky",
        "outputId": "fa567511-875e-4629-ff52-586948c9b35f"
      },
      "execution_count": null,
      "outputs": [
        {
          "output_type": "stream",
          "name": "stdout",
          "text": [
            "0    check page week advertiser tip take care stres...\n",
            "1    anxiety keep amazon get want order foot scrub ...\n",
            "2    night fletch hangover boy high anxiety history...\n",
            "3    quarantine do far give anxiety online shopping...\n",
            "4                      scary part symptom give anxiety\n",
            "5    anxiety bad ever life thankful self_isolation ...\n",
            "6                         help anxiety start cry outta\n",
            "7    know cause people stress anxiety make happy right\n",
            "8                           diagnose anxiety yesterday\n",
            "9    stocking essential order forgot include champa...\n",
            "dtype: object\n"
          ]
        }
      ]
    },
    {
      "cell_type": "markdown",
      "source": [
        "**TF-IDF**"
      ],
      "metadata": {
        "id": "CDNeUwby-jcO"
      }
    },
    {
      "cell_type": "code",
      "source": [
        "dataset2['cleaned'] = corpus\n",
        "dataset2"
      ],
      "metadata": {
        "colab": {
          "base_uri": "https://localhost:8080/",
          "height": 423
        },
        "id": "lxQ8tm_M2gsU",
        "outputId": "8c66ba0c-871a-4fc8-ede4-5f5ec37f7fee"
      },
      "execution_count": null,
      "outputs": [
        {
          "output_type": "execute_result",
          "data": {
            "text/plain": [
              "                                                   text  \\\n",
              "0     Check out page 8 of this week’s East Aurora Ad...   \n",
              "1     Anxiety keeping you up? Amazons got you at 3:3...   \n",
              "2     Harlem Nights, Booksmart, Fletch, the Hangover...   \n",
              "3     All quarantine has done so far is give me anxi...   \n",
              "4     The scariest part is the “No Symptoms” gives m...   \n",
              "...                                                 ...   \n",
              "4995  Depression, anxiety and PTSD are very real. I ...   \n",
              "4996  Lord, ask that you watch and keep us on the wa...   \n",
              "4997  As someone with an actual anxiety disorder I h...   \n",
              "4998  Amerie went home sick w/ a cough and 103 fever...   \n",
              "4999  My Friday the 13th marathon is next but first,...   \n",
              "\n",
              "                                                cleaned  \n",
              "0     check page week advertiser tip take care stres...  \n",
              "1     anxiety keep amazon get want order foot scrub ...  \n",
              "2     night fletch hangover boy high anxiety history...  \n",
              "3     quarantine do far give anxiety online shopping...  \n",
              "4                       scary part symptom give anxiety  \n",
              "...                                                 ...  \n",
              "4995  depression anxiety ptsd real like friend post ...  \n",
              "4996  ask keep way back body soul guide respective d...  \n",
              "4997  actual anxiety disorder weird thing feel less ...  \n",
              "4998  go home sick cough fever anxiety test say ask ...  \n",
              "4999              marathon next pic_twitter com dcoaqja  \n",
              "\n",
              "[5000 rows x 2 columns]"
            ],
            "text/html": [
              "\n",
              "  <div id=\"df-a17d71c1-09ba-4f2e-9c97-846538902bd7\">\n",
              "    <div class=\"colab-df-container\">\n",
              "      <div>\n",
              "<style scoped>\n",
              "    .dataframe tbody tr th:only-of-type {\n",
              "        vertical-align: middle;\n",
              "    }\n",
              "\n",
              "    .dataframe tbody tr th {\n",
              "        vertical-align: top;\n",
              "    }\n",
              "\n",
              "    .dataframe thead th {\n",
              "        text-align: right;\n",
              "    }\n",
              "</style>\n",
              "<table border=\"1\" class=\"dataframe\">\n",
              "  <thead>\n",
              "    <tr style=\"text-align: right;\">\n",
              "      <th></th>\n",
              "      <th>text</th>\n",
              "      <th>cleaned</th>\n",
              "    </tr>\n",
              "  </thead>\n",
              "  <tbody>\n",
              "    <tr>\n",
              "      <th>0</th>\n",
              "      <td>Check out page 8 of this week’s East Aurora Ad...</td>\n",
              "      <td>check page week advertiser tip take care stres...</td>\n",
              "    </tr>\n",
              "    <tr>\n",
              "      <th>1</th>\n",
              "      <td>Anxiety keeping you up? Amazons got you at 3:3...</td>\n",
              "      <td>anxiety keep amazon get want order foot scrub ...</td>\n",
              "    </tr>\n",
              "    <tr>\n",
              "      <th>2</th>\n",
              "      <td>Harlem Nights, Booksmart, Fletch, the Hangover...</td>\n",
              "      <td>night fletch hangover boy high anxiety history...</td>\n",
              "    </tr>\n",
              "    <tr>\n",
              "      <th>3</th>\n",
              "      <td>All quarantine has done so far is give me anxi...</td>\n",
              "      <td>quarantine do far give anxiety online shopping...</td>\n",
              "    </tr>\n",
              "    <tr>\n",
              "      <th>4</th>\n",
              "      <td>The scariest part is the “No Symptoms” gives m...</td>\n",
              "      <td>scary part symptom give anxiety</td>\n",
              "    </tr>\n",
              "    <tr>\n",
              "      <th>...</th>\n",
              "      <td>...</td>\n",
              "      <td>...</td>\n",
              "    </tr>\n",
              "    <tr>\n",
              "      <th>4995</th>\n",
              "      <td>Depression, anxiety and PTSD are very real. I ...</td>\n",
              "      <td>depression anxiety ptsd real like friend post ...</td>\n",
              "    </tr>\n",
              "    <tr>\n",
              "      <th>4996</th>\n",
              "      <td>Lord, ask that you watch and keep us on the wa...</td>\n",
              "      <td>ask keep way back body soul guide respective d...</td>\n",
              "    </tr>\n",
              "    <tr>\n",
              "      <th>4997</th>\n",
              "      <td>As someone with an actual anxiety disorder I h...</td>\n",
              "      <td>actual anxiety disorder weird thing feel less ...</td>\n",
              "    </tr>\n",
              "    <tr>\n",
              "      <th>4998</th>\n",
              "      <td>Amerie went home sick w/ a cough and 103 fever...</td>\n",
              "      <td>go home sick cough fever anxiety test say ask ...</td>\n",
              "    </tr>\n",
              "    <tr>\n",
              "      <th>4999</th>\n",
              "      <td>My Friday the 13th marathon is next but first,...</td>\n",
              "      <td>marathon next pic_twitter com dcoaqja</td>\n",
              "    </tr>\n",
              "  </tbody>\n",
              "</table>\n",
              "<p>5000 rows × 2 columns</p>\n",
              "</div>\n",
              "      <button class=\"colab-df-convert\" onclick=\"convertToInteractive('df-a17d71c1-09ba-4f2e-9c97-846538902bd7')\"\n",
              "              title=\"Convert this dataframe to an interactive table.\"\n",
              "              style=\"display:none;\">\n",
              "        \n",
              "  <svg xmlns=\"http://www.w3.org/2000/svg\" height=\"24px\"viewBox=\"0 0 24 24\"\n",
              "       width=\"24px\">\n",
              "    <path d=\"M0 0h24v24H0V0z\" fill=\"none\"/>\n",
              "    <path d=\"M18.56 5.44l.94 2.06.94-2.06 2.06-.94-2.06-.94-.94-2.06-.94 2.06-2.06.94zm-11 1L8.5 8.5l.94-2.06 2.06-.94-2.06-.94L8.5 2.5l-.94 2.06-2.06.94zm10 10l.94 2.06.94-2.06 2.06-.94-2.06-.94-.94-2.06-.94 2.06-2.06.94z\"/><path d=\"M17.41 7.96l-1.37-1.37c-.4-.4-.92-.59-1.43-.59-.52 0-1.04.2-1.43.59L10.3 9.45l-7.72 7.72c-.78.78-.78 2.05 0 2.83L4 21.41c.39.39.9.59 1.41.59.51 0 1.02-.2 1.41-.59l7.78-7.78 2.81-2.81c.8-.78.8-2.07 0-2.86zM5.41 20L4 18.59l7.72-7.72 1.47 1.35L5.41 20z\"/>\n",
              "  </svg>\n",
              "      </button>\n",
              "      \n",
              "  <style>\n",
              "    .colab-df-container {\n",
              "      display:flex;\n",
              "      flex-wrap:wrap;\n",
              "      gap: 12px;\n",
              "    }\n",
              "\n",
              "    .colab-df-convert {\n",
              "      background-color: #E8F0FE;\n",
              "      border: none;\n",
              "      border-radius: 50%;\n",
              "      cursor: pointer;\n",
              "      display: none;\n",
              "      fill: #1967D2;\n",
              "      height: 32px;\n",
              "      padding: 0 0 0 0;\n",
              "      width: 32px;\n",
              "    }\n",
              "\n",
              "    .colab-df-convert:hover {\n",
              "      background-color: #E2EBFA;\n",
              "      box-shadow: 0px 1px 2px rgba(60, 64, 67, 0.3), 0px 1px 3px 1px rgba(60, 64, 67, 0.15);\n",
              "      fill: #174EA6;\n",
              "    }\n",
              "\n",
              "    [theme=dark] .colab-df-convert {\n",
              "      background-color: #3B4455;\n",
              "      fill: #D2E3FC;\n",
              "    }\n",
              "\n",
              "    [theme=dark] .colab-df-convert:hover {\n",
              "      background-color: #434B5C;\n",
              "      box-shadow: 0px 1px 3px 1px rgba(0, 0, 0, 0.15);\n",
              "      filter: drop-shadow(0px 1px 2px rgba(0, 0, 0, 0.3));\n",
              "      fill: #FFFFFF;\n",
              "    }\n",
              "  </style>\n",
              "\n",
              "      <script>\n",
              "        const buttonEl =\n",
              "          document.querySelector('#df-a17d71c1-09ba-4f2e-9c97-846538902bd7 button.colab-df-convert');\n",
              "        buttonEl.style.display =\n",
              "          google.colab.kernel.accessAllowed ? 'block' : 'none';\n",
              "\n",
              "        async function convertToInteractive(key) {\n",
              "          const element = document.querySelector('#df-a17d71c1-09ba-4f2e-9c97-846538902bd7');\n",
              "          const dataTable =\n",
              "            await google.colab.kernel.invokeFunction('convertToInteractive',\n",
              "                                                     [key], {});\n",
              "          if (!dataTable) return;\n",
              "\n",
              "          const docLinkHtml = 'Like what you see? Visit the ' +\n",
              "            '<a target=\"_blank\" href=https://colab.research.google.com/notebooks/data_table.ipynb>data table notebook</a>'\n",
              "            + ' to learn more about interactive tables.';\n",
              "          element.innerHTML = '';\n",
              "          dataTable['output_type'] = 'display_data';\n",
              "          await google.colab.output.renderOutput(dataTable, element);\n",
              "          const docLink = document.createElement('div');\n",
              "          docLink.innerHTML = docLinkHtml;\n",
              "          element.appendChild(docLink);\n",
              "        }\n",
              "      </script>\n",
              "    </div>\n",
              "  </div>\n",
              "  "
            ]
          },
          "metadata": {},
          "execution_count": 32
        }
      ]
    },
    {
      "cell_type": "code",
      "execution_count": null,
      "metadata": {
        "id": "p-qY46hQFoM9"
      },
      "outputs": [],
      "source": [
        "from sklearn.feature_extraction.text import TfidfVectorizer                                                                        "
      ]
    },
    {
      "cell_type": "code",
      "execution_count": null,
      "metadata": {
        "id": "OFV6iR1kFoKd",
        "colab": {
          "base_uri": "https://localhost:8080/"
        },
        "outputId": "08bd1734-1c16-477e-c017-f46e4080a365"
      },
      "outputs": [
        {
          "output_type": "stream",
          "name": "stdout",
          "text": [
            "['abandon', 'ability', 'able', 'able access', 'able escape', 'able focus', 'able get', 'able get back', 'able go', 'able pay', 'able see', 'able sleep', 'able sleep week', 'abortion', 'absolute', 'absolute bad', 'absolutely', 'absolutely disgusting', 'absorb', 'abundance', 'abuse', 'academic', 'accept', 'acceptance', 'access', 'accident', 'accidentally', 'accommodation', 'accomplish', 'accord', 'account', 'ache', 'ache anxiety', 'achieve', 'acid', 'acid reflux', 'acknowledge', 'act', 'action', 'active', 'active practice', 'actively', 'activity', 'actual', 'actual anxiety', 'actually', 'actually anxiety', 'actually cause', 'actually get', 'actually give', 'actually good', 'actually make', 'actually need', 'actually sick', 'actually suffer', 'acupuncture', 'adapt', 'adapt combat', 'adapt combat worry', 'add', 'add anxiety', 'add people', 'add people anxiety', 'addiction', 'addition', 'additional', 'address', 'address anxiety', 'adhd', 'adjust', 'adjust new', 'adjust new norm', 'adjustment', 'admit', 'admit anxiety', 'adopt', 'adult', 'adult kid', 'adulte', 'advance', 'advantage', 'adventure', 'adversity', 'advice', 'advice help', 'advice help craft', 'advisory', 'advocate', 'aesthetic', 'af', 'affect', 'afford', 'afraid', 'afternoon', 'afternoon walk', 'aftershock', 'age', 'age anxiety', 'aged', 'agent', 'aggression', 'ago', 'ago feel', 'agree', 'agree stay', 'ahead', 'aid', 'air', 'air day', 'airport', 'aka', 'alarm', 'alarming', 'album', 'alcohol', 'alert', 'alive', 'allergy', 'allergy anxiety', 'allergy asthma', 'allergy asthma anxiety', 'allergy season', 'allergy year', 'alleviate', 'alleviate anxiety', 'alleviate stress', 'allow', 'allow people', 'almost', 'almost always', 'almost anxiety', 'almost anxiety attack', 'almost month', 'almost week', 'alone', 'alone anxiety', 'alone apartment', 'alone apartment anxiety', 'alone feel', 'alone get', 'alone meet', 'alone thought', 'alot', 'alot anxiety', 'already', 'already anxiety', 'already bad', 'already bad anxiety', 'already deal', 'already enough', 'already fill', 'already fill anxiety', 'already get', 'already get anxiety', 'already give', 'already give anxiety', 'already increase', 'already make', 'already really', 'already run', 'already stress', 'also', 'also anxiety', 'also anxiety attack', 'also call', 'also contagious', 'also deal', 'also feel', 'also get', 'also give', 'also go', 'also good', 'also ground', 'also help', 'also include', 'also know', 'also make', 'also need', 'also parent', 'also pretty', 'also reach', 'also see', 'also set', 'also sleep', 'also suffer', 'also work', 'also worry', 'alt', 'alternative', 'always', 'always anxiety', 'always cope', 'always easy', 'always feel', 'always get', 'always go', 'always help', 'always keep', 'always make', 'always open', 'always parasympathetic', 'always parasympathetic rest', 'always say', 'always super', 'always take_care', 'amazing', 'amazon', 'american', 'american people', 'amethyst', 'amount', 'amount anxiety', 'amount anxiety feeling', 'amount anxiety go', 'amount people', 'amount stress', 'amount stress anxiety', 'amp', 'amp anxiety', 'amp anxiety pic_twitter', 'ampe', 'amplify', 'amplify anxiety', 'amy', 'analyze', 'angel', 'anger', 'anger frustration', 'anger sadness', 'angry', 'animal', 'animal cross', 'animal crossing', 'animal refuge', 'anniversary', 'announce', 'announcement', 'annoy', 'annoyed', 'annoying', 'answer', 'anti', 'anti anxiety', 'anti anxiety med', 'anti depressant', 'anticipate', 'antidote', 'antidote anxiety', 'antidote exercise', 'antidote exercise free', 'anxietie', 'anxiety', 'anxiety able', 'anxiety act', 'anxiety actually', 'anxiety affect', 'anxiety air', 'anxiety airport', 'anxiety album', 'anxiety allergy', 'anxiety almost', 'anxiety alone', 'anxiety already', 'anxiety also', 'anxiety also contagious', 'anxiety also good', 'anxiety always', 'anxiety always get', 'anxiety anger', 'anxiety anger sadness', 'anxiety anxiety', 'anxiety anxietyisaliar', 'anxiety anxious', 'anxiety anymore', 'anxiety ask', 'anxiety associate', 'anxiety attack', 'anxiety attack cause', 'anxiety attack come', 'anxiety attack day', 'anxiety attack first', 'anxiety attack hate', 'anxiety attack hour', 'anxiety attack morning', 'anxiety attack people', 'anxiety attack take', 'anxiety attack think', 'anxiety attack time', 'anxiety attack today', 'anxiety attack virus', 'anxiety attack way', 'anxiety attack worry', 'anxiety attempt', 'anxiety attempt kill', 'anxiety away', 'anxiety awful', 'anxiety back', 'anxiety bad', 'anxiety bad enough', 'anxiety bad lately', 'anxiety bad today', 'anxiety bad ugh', 'anxiety badly', 'anxiety bake', 'anxiety barely', 'anxiety bay', 'anxiety beat', 'anxiety beat ass', 'anxiety become', 'anxiety begin', 'anxiety bipolar', 'anxiety bit', 'anxiety bitch', 'anxiety bitch ve', 'anxiety blanket', 'anxiety body', 'anxiety boost', 'anxiety boost immune_system', 'anxiety boredom', 'anxiety boredom remind', 'anxiety brain', 'anxiety break', 'anxiety bring', 'anxiety build', 'anxiety building', 'anxiety buy', 'anxiety call', 'anxiety calm', 'anxiety care', 'anxiety catch', 'anxiety cause', 'anxiety change', 'anxiety channel', 'anxiety chaos', 'anxiety chart', 'anxiety chart day', 'anxiety check', 'anxiety child', 'anxiety chronic', 'anxiety chronic ass', 'anxiety cleaning', 'anxiety close', 'anxiety come', 'anxiety comfort', 'anxiety comfort soul', 'anxiety completely', 'anxiety concern', 'anxiety confusion', 'anxiety constant', 'anxiety constant state', 'anxiety consume', 'anxiety contagious', 'anxiety content', 'anxiety control', 'anxiety corona_virus', 'anxiety coronapocolypse', 'anxiety coronavirus', 'anxiety coronavirus check', 'anxiety cost', 'anxiety cost sleep', 'anxiety cough', 'anxiety country', 'anxiety couple', 'anxiety couple day', 'anxiety course', 'anxiety covid', 'anxiety covid pandemic', 'anxiety covidー', 'anxiety crazy', 'anxiety create', 'anxiety creep', 'anxiety crippling', 'anxiety crisis', 'anxiety cure', 'anxiety current', 'anxiety current situation', 'anxiety currently', 'anxiety daily', 'anxiety day', 'anxiety day feel', 'anxiety deal', 'anxiety death', 'anxiety decide', 'anxiety decrease', 'anxiety definitely', 'anxiety depression', 'anxiety depression also', 'anxiety depression get', 'anxiety depression go', 'anxiety depression hard', 'anxiety depression keep', 'anxiety depression many', 'anxiety depression ocd', 'anxiety depression real', 'anxiety depression roof', 'anxiety depression time', 'anxiety die', 'anxiety diff', 'anxiety difficult', 'anxiety difficult time', 'anxiety difficulty', 'anxiety disorder', 'anxiety disorder depression', 'anxiety disorder hard', 'anxiety distress', 'anxiety do', 'anxiety dog', 'anxiety doubt', 'anxiety dread', 'anxiety dream', 'anxiety drive', 'anxiety dude', 'anxiety due', 'anxiety due covid', 'anxiety due virus', 'anxiety ease', 'anxiety eat', 'anxiety eat food', 'anxiety economic', 'anxiety else', 'anxiety emotional', 'anxiety end', 'anxiety enjoy', 'anxiety enough', 'anxiety enter', 'anxiety especially', 'anxiety even', 'anxiety even go', 'anxiety ever', 'anxiety everywhere', 'anxiety exercise', 'anxiety expect', 'anxiety experience', 'anxiety extremely', 'anxiety face', 'anxiety fact', 'anxiety family', 'anxiety far', 'anxiety fatigue', 'anxiety fear', 'anxiety fear able', 'anxiety fear let', 'anxiety fear perfect', 'anxiety fear real', 'anxiety fear unknown', 'anxiety feel', 'anxiety feel bad', 'anxiety feel coronavirus', 'anxiety feel good', 'anxiety feel well', 'anxiety feeling', 'anxiety feeling day', 'anxiety feeling isolation', 'anxiety fill', 'anxiety fill day', 'anxiety finally', 'anxiety find', 'anxiety fine', 'anxiety finish', 'anxiety fire', 'anxiety flare', 'anxiety folk', 'anxiety follow', 'anxiety food', 'anxiety forget', 'anxiety freak', 'anxiety free', 'anxiety friend', 'anxiety frustration', 'anxiety fuck', 'anxiety fuck bitch', 'anxiety fuck roof', 'anxiety fuckin', 'anxiety fucking', 'anxiety fuel', 'anxiety fun', 'anxiety fun time', 'anxiety future', 'anxiety game', 'anxiety gas', 'anxiety get', 'anxiety get bad', 'anxiety get feel', 'anxiety get good', 'anxiety get really', 'anxiety get sick', 'anxiety get well', 'anxiety give', 'anxiety glad', 'anxiety go', 'anxiety go away', 'anxiety go back', 'anxiety go crazy', 'anxiety go grocery_store', 'anxiety go insane', 'anxiety go nut', 'anxiety go real', 'anxiety go roof', 'anxiety go store', 'anxiety go work', 'anxiety good', 'anxiety good enough', 'anxiety gratitude', 'anxiety great', 'anxiety great joy', 'anxiety great movie', 'anxiety grief', 'anxiety grocery_shoppe', 'anxiety grow', 'anxiety guess', 'anxiety half', 'anxiety hand', 'anxiety handle', 'anxiety handle much', 'anxiety happen', 'anxiety happy', 'anxiety hard', 'anxiety hate', 'anxiety head', 'anxiety health', 'anxiety healthy', 'anxiety hear', 'anxiety heighten', 'anxiety hell', 'anxiety help', 'anxiety high', 'anxiety high alert', 'anxiety high gear', 'anxiety high right', 'anxiety high sleep', 'anxiety high take', 'anxiety high today', 'anxiety hit', 'anxiety hit roof', 'anxiety hittin', 'anxiety hold', 'anxiety hope', 'anxiety hopefully', 'anxiety hour', 'anxiety huge', 'anxiety huge crowd', 'anxiety idea', 'anxiety idk', 'anxiety impact', 'anxiety important', 'anxiety improve', 'anxiety include', 'anxiety increase', 'anxiety induce', 'anxiety induce moment', 'anxiety induce news', 'anxiety induce pic_twitter', 'anxiety induce thing', 'anxiety induce tweet', 'anxiety insomnia', 'anxiety isolate', 'anxiety isolation', 'anxiety issue', 'anxiety job', 'anxiety joke', 'anxiety keep', 'anxiety keep think', 'anxiety kick', 'anxiety kick full', 'anxiety kicking', 'anxiety kicking ass', 'anxiety kid', 'anxiety kill', 'anxiety know', 'anxiety last', 'anxiety last day', 'anxiety lately', 'anxiety lately get', 'anxiety lately let', 'anxiety least', 'anxiety leave', 'anxiety leave alone', 'anxiety less', 'anxiety let', 'anxiety let go', 'anxiety level', 'anxiety level drop', 'anxiety level go', 'anxiety level high', 'anxiety level keep', 'anxiety level pic_twitter', 'anxiety level rise', 'anxiety level roof', 'anxiety level time', 'anxiety level today', 'anxiety lie', 'anxiety life', 'anxiety like', 'anxiety likely', 'anxiety list', 'anxiety listen', 'anxiety literally', 'anxiety literally make', 'anxiety little', 'anxiety live', 'anxiety lmao', 'anxiety lmfao', 'anxiety lol', 'anxiety loneliness', 'anxiety long', 'anxiety long time', 'anxiety look', 'anxiety look news', 'anxiety lose', 'anxiety loss', 'anxiety lot', 'anxiety love', 'anxiety love blind', 'anxiety loved_one', 'anxiety make', 'anxiety make feel', 'anxiety make hard', 'anxiety make sick', 'anxiety make sure', 'anxiety making', 'anxiety making think', 'anxiety man', 'anxiety manage', 'anxiety manageable', 'anxiety management', 'anxiety manifest', 'anxiety many', 'anxiety many people', 'anxiety market', 'anxiety maybe', 'anxiety mean', 'anxiety med', 'anxiety med refill', 'anxiety med work', 'anxiety medication', 'anxiety medicine', 'anxiety medium', 'anxiety meet', 'anxiety mental', 'anxiety mentalhealth', 'anxiety mentalillness', 'anxiety mess', 'anxiety mf', 'anxiety mind', 'anxiety minimum', 'anxiety mom', 'anxiety moment', 'anxiety money', 'anxiety morning', 'anxiety mount', 'anxiety mount neighbor', 'anxiety move', 'anxiety much', 'anxiety much bad', 'anxiety need', 'anxiety need get', 'anxiety nervous', 'anxiety never', 'anxiety never experience', 'anxiety never feel', 'anxiety new', 'anxiety new way', 'anxiety news', 'anxiety next', 'anxiety nice', 'anxiety night', 'anxiety nightmare', 'anxiety normal', 'anxiety normal day', 'anxiety notch', 'anxiety occur', 'anxiety ocd', 'anxiety offer', 'anxiety office', 'anxiety officially', 'anxiety often', 'anxiety old', 'anxiety old friend', 'anxiety online', 'anxiety other', 'anxiety overdrive', 'anxiety overload', 'anxiety overwhelming', 'anxiety pain', 'anxiety pandemic', 'anxiety panic', 'anxiety panic attack', 'anxiety panic disorder', 'anxiety paranoia', 'anxiety parent', 'anxiety patient', 'anxiety peak', 'anxiety peaking', 'anxiety people', 'anxiety people feel', 'anxiety people need', 'anxiety phone', 'anxiety pic_twitter', 'anxiety pic_twitter com', 'anxiety pick', 'anxiety picture', 'anxiety pill', 'anxiety plant', 'anxiety play', 'anxiety poop', 'anxiety poor', 'anxiety potentially', 'anxiety powerful', 'anxiety ppl', 'anxiety practice', 'anxiety prayer', 'anxiety prepare', 'anxiety present', 'anxiety pretty', 'anxiety pretty much', 'anxiety probably', 'anxiety problem', 'anxiety produce', 'anxiety productive', 'anxiety promise', 'anxiety prone', 'anxiety provoke', 'anxiety provoke time', 'anxiety ptsd', 'anxiety ptsdpic', 'anxiety public', 'anxiety pull', 'anxiety put', 'anxiety quarantine', 'anxiety quarantinelife', 'anxiety re', 'anxiety reach', 'anxiety read', 'anxiety ready', 'anxiety real', 'anxiety real thing', 'anxiety really', 'anxiety really high', 'anxiety reason', 'anxiety regard', 'anxiety relate', 'anxiety relief', 'anxiety remember', 'anxiety replace', 'anxiety repost', 'anxiety rest', 'anxiety ridden', 'anxiety ride', 'anxiety right', 'anxiety right get', 'anxiety right go', 'anxiety rise', 'anxiety risk', 'anxiety rollercoaster', 'anxiety rona', 'anxiety roof', 'anxiety roof day', 'anxiety roof haha', 'anxiety roof last', 'anxiety roof lately', 'anxiety roof let', 'anxiety roof need', 'anxiety roof right', 'anxiety roof try', 'anxiety roof want', 'anxiety routine', 'anxiety ruin', 'anxiety rule', 'anxiety run', 'anxiety run high', 'anxiety sadness', 'anxiety say', 'anxiety scared', 'anxiety school', 'anxiety scream', 'anxiety see', 'anxiety seem', 'anxiety self', 'anxiety send', 'anxiety sense', 'anxiety set', 'anxiety shake', 'anxiety share', 'anxiety shelter', 'anxiety shit', 'anxiety shit hit', 'anxiety shoot', 'anxiety shortness', 'anxiety shortness breath', 'anxiety sickness', 'anxiety side', 'anxiety side effect', 'anxiety sis', 'anxiety situation', 'anxiety sky', 'anxiety sky high', 'anxiety sky rocket', 'anxiety skyrocket', 'anxiety sleep', 'anxiety sleep hour', 'anxiety slight', 'anxiety smart', 'anxiety smoking', 'anxiety soar', 'anxiety social', 'anxiety sometimes', 'anxiety soo', 'anxiety sorry', 'anxiety speak', 'anxiety spike', 'anxiety spiral', 'anxiety start', 'anxiety start get', 'anxiety start hit', 'anxiety start kick', 'anxiety state', 'anxiety stay', 'anxiety stay home', 'anxiety stay tune', 'anxiety stem', 'anxiety stick', 'anxiety stick home', 'anxiety still', 'anxiety still high', 'anxiety stop', 'anxiety store', 'anxiety stress', 'anxiety stress cause', 'anxiety stress covid', 'anxiety stress level', 'anxiety stress relief', 'anxiety stressful', 'anxiety stressful time', 'anxiety struggle', 'anxiety student', 'anxiety stuff', 'anxiety suck', 'anxiety suffer', 'anxiety sufferer', 'anxiety suicidal', 'anxiety suicidal ideation', 'anxiety super', 'anxiety suppose', 'anxiety sure', 'anxiety surround', 'anxiety surround covid', 'anxiety sweet', 'anxiety swirl', 'anxiety symptom', 'anxiety take', 'anxiety take much', 'anxiety talk', 'anxiety tear', 'anxiety tell', 'anxiety tension', 'anxiety terrible', 'anxiety test', 'anxiety thank', 'anxiety therapy', 'anxiety thing', 'anxiety think', 'anxiety think spiral', 'anxiety thinking', 'anxiety thought', 'anxiety throw', 'anxiety time', 'anxiety time go', 'anxiety time hard', 'anxiety time high', 'anxiety time hope', 'anxiety tip', 'anxiety today', 'anxiety tone', 'anxiety tone proven_solution', 'anxiety tonight', 'anxiety top', 'anxiety totally', 'anxiety travel', 'anxiety trigger', 'anxiety truly', 'anxiety try', 'anxiety try antidote', 'anxiety try think', 'anxiety turn', 'anxiety turn confidence', 'anxiety turn work', 'anxiety twitter', 'anxiety unavoidable', 'anxiety unavoidable prison', 'anxiety uncertainty', 'anxiety uncertainty people', 'anxiety understand', 'anxiety unknown', 'anxiety use', 'anxiety use antidote', 'anxiety usual', 'anxiety usually', 'anxiety ve', 'anxiety ve deal', 'anxiety vibe', 'anxiety virtual', 'anxiety virus', 'anxiety wait', 'anxiety wake', 'anxiety wake morning', 'anxiety walk', 'anxiety want', 'anxiety want know', 'anxiety wanting', 'anxiety waste', 'anxiety waste time', 'anxiety wat', 'anxiety watch', 'anxiety watching', 'anxiety wave', 'anxiety way', 'anxiety week', 'anxiety weekend', 'anxiety weigh', 'anxiety weigh seek', 'anxiety well', 'anxiety whole', 'anxiety whole new', 'anxiety win', 'anxiety wonder', 'anxiety wonderful', 'anxiety work', 'anxiety work home', 'anxiety world', 'anxiety world want', 'anxiety worried', 'anxiety worry', 'anxiety worse', 'anxiety year', 'anxiety yesterday', 'anxietyisaliar', 'anxietyrelief', 'anxietysuck', 'anxious', 'anxious anxiety', 'anxious feeling', 'anxious go', 'anxious people', 'anxious person', 'anxious pray', 'anxious right', 'anxious time', 'anxious world', 'anxiousness', 'anymore', 'anymore anxiety', 'anymore see', 'anyone_else', 'anyone_else feel', 'anyone_else get', 'anytime', 'anyway', 'anyway tired', 'anyways', 'anywhere', 'apart', 'apartment', 'apartment anxiety', 'apartment give', 'apocalypse', 'apocalypse anxiety', 'apocalyptic', 'apologize', 'apology', 'app', 'app free', 'apparently', 'appear', 'appear real', 'appetite', 'apple', 'apple music', 'application', 'apply', 'appointment', 'appointment check', 'appointment phone', 'appreciate', 'appreciate staff', 'appreciate time', 'approach', 'appropriate', 'appropriately', 'approve', 'appt', 'apt', 'area', 'arise', 'arm', 'around', 'around give', 'around go', 'arrest', 'arrive', 'art', 'article', 'articulate', 'artie', 'artist', 'ashamed', 'asian', 'aside', 'ask', 'ask anxiety', 'ask fear', 'ask fear anxiety', 'ask go', 'ask help', 'ask people', 'ask question', 'ask self', 'ask student', 'ask student dress', 'ask take', 'asleep', 'aspect', 'aspect bad', 'ass', 'ass anxiety', 'ass iconic', 'ass right', 'ass today', 'assault', 'asse', 'assessment', 'asshole', 'assignment', 'assist', 'assistance', 'associate', 'associate anxiety', 'assume', 'assure', 'asthma', 'asthma anxiety', 'astrology', 'athlete', 'atm', 'atmosphere', 'attach', 'attachment', 'attack', 'attack also', 'attack anxiety', 'attack cause', 'attack come', 'attack day', 'attack depression', 'attack first', 'attack first time', 'attack get', 'attack hate', 'attack hour', 'attack let', 'attack morning', 'attack people', 'attack people know', 'attack take', 'attack think', 'attack time', 'attack today', 'attack virus', 'attack way', 'attack work', 'attack worry', 'attempt', 'attempt kill', 'attempt kill back', 'attend', 'attention', 'attitude', 'audience', 'autism', 'autism newsletter', 'autistic', 'auto', 'automatically', 'availability', 'available', 'available need', 'average', 'average day', 'avoid', 'avoid people', 'avoid physical', 'avoid physical contact', 'avoidance', 'awake', 'awake anxiety', 'awake night', 'aware', 'awareness', 'away', 'away anxiety', 'away home', 'away time', 'awesome', 'awful', 'awful anxiety', 'awhile', 'awkward', 'babe', 'baby', 'back', 'back anxiety', 'back anxiety attack', 'back asleep', 'back back', 'back bed', 'back get', 'back home', 'back leg', 'back leg stomach', 'back normal', 'back school', 'back sleep', 'back today', 'back want', 'back work', 'background', 'backlog', 'backyard', 'bacteria', 'bad', 'bad anxiety', 'bad anxiety attack', 'bad anxiety day', 'bad anxiety go', 'bad anxiety lately', 'bad case', 'bad case scenario', 'bad day', 'bad depression', 'bad depression anxiety', 'bad enough', 'bad fear', 'bad get', 'bad hate', 'bad idea', 'bad joke', 'bad lately', 'bad make', 'bad news', 'bad nightmare', 'bad part', 'bad past', 'bad right', 'bad separation', 'bad separation anxiety', 'bad sleep', 'bad social', 'bad social anxiety', 'bad still', 'bad thing', 'bad thing happen', 'bad time', 'bad time anxiety', 'bad today', 'bad trip', 'bad ugh', 'bad week', 'badly', 'bag', 'bake', 'balance', 'ball', 'ball anxiety', 'ball fall', 'band', 'bank', 'bar', 'bar restaurant', 'barber', 'barely', 'barely sleep', 'base', 'base strategy', 'base strategy cope', 'baseline', 'basement', 'basic', 'basically', 'basically shut', 'basis', 'basketball', 'bastard', 'bath', 'bathroom', 'bathroom cry', 'batshit', 'battle', 'battle anxiety', 'battle depression', 'battle depression anxiety', 'bay', 'bcuz', 'be', 'beach', 'bean', 'bear', 'beast', 'beat', 'beat ass', 'beautiful', 'beautiful day', 'beautiful however', 'beautiful however simple', 'beautiful thing', 'beautifully', 'beauty', 'beauty nature', 'become', 'becuz', 'bed', 'bed anxiety', 'bed day', 'bed early', 'bedroom', 'beer', 'beg', 'begin', 'begin need', 'beginning', 'behavior', 'behavior low', 'behavior low point', 'behavioral', 'behavioral health', 'bekind', 'belief', 'believe', 'believe anxiety', 'bell', 'benchmark', 'benefit', 'bernie', 'bestfriend', 'bettertogether', 'bf', 'bias', 'big', 'big anxiety', 'big cause anxiety', 'big deal', 'big house', 'big part', 'big step', 'big thing', 'big time', 'big time anxiety', 'bike', 'bill', 'bind', 'binge', 'bipolar', 'bipolar anxiety', 'bipolar anxiety ptsdpic', 'bipolar depression', 'bipolardisorder', 'bird', 'birth', 'birthday', 'bit', 'bit anxiety', 'bit help', 'bit much', 'bit much anxiety', 'bitch', 'bitch take', 'bitch ve', 'bite', 'bite lemon', 'bite nail', 'bitter', 'bitter taste', 'black', 'black tarry', 'black tarry stool', 'blame', 'blanket', 'bleed', 'bleed gum', 'bleed gum blister', 'bless', 'blessing', 'blind', 'blister', 'blister peel', 'blister peel loosen', 'block', 'block anxiety', 'blog', 'blood', 'blood urine', 'blood urine stool', 'blood_pressure', 'bloom', 'blow', 'blow anxiety', 'blow anxiety attack', 'blue', 'blue sky', 'blunt', 'blur', 'blur decrease', 'board', 'boat', 'body', 'body know', 'body mind', 'body shame', 'body shame anxiety', 'body soul', 'bomb', 'bone', 'bonker', 'bonker second', 'bonker second iamsoblesse', 'book', 'book thrive', 'book thrive anxiety', 'boost', 'boost immune_system', 'bored', 'boredom', 'boredom anxiety', 'boredom remind', 'boredom remind connect', 'boring', 'borrowing', 'boss', 'botanical', 'bother', 'bottle', 'bottom', 'bounce', 'bout', 'bout anxiety', 'bowl', 'box', 'boy', 'boyfriend', 'brag', 'brain', 'brain anxiety', 'brain injury', 'brain tell', 'branch', 'brand', 'brand new', 'brave', 'bread', 'break', 'break anxiety', 'break day', 'break fuck', 'break get', 'break heart', 'break news', 'break take', 'break today', 'breakdown', 'breakfast', 'breakfast sammich', 'breaking', 'breaking point', 'breast', 'breath', 'breath anxiety', 'breath chest', 'breath chest pain', 'breath cough', 'breath covid', 'breath high', 'breathe', 'breathe actually', 'breathe anxiety', 'breathe give', 'breathe give anxiety', 'breathing', 'breathing technique', 'brief', 'briefing', 'bright', 'bright day', 'bright side', 'brighten', 'brighten day', 'brilliant', 'bring', 'bring anxiety', 'bring home', 'bring joy', 'bring joy time', 'bring much', 'bring much anxiety', 'bring peace', 'british', 'bro', 'broadcast', 'broccoli', 'bronchitis', 'brother', 'brown', 'brown paper', 'brown paper bag', 'bruh', 'brush', 'brutal', 'btw', 'bubble', 'buddy', 'bug', 'build', 'build anxiety', 'building', 'bulk', 'bullshit', 'bully', 'bum', 'bump', 'bunch', 'bunch anxiety', 'burden', 'burn', 'burn anxiety', 'burnout', 'bus', 'bus ride', 'business', 'business anxiety', 'business get', 'business owner', 'business usual', 'busy', 'butt', 'butter', 'buy', 'buy couple', 'buy grocery', 'buy thing', 'buy thing really', 'buy toilet_pap', 'buyer', 'buying', 'buzz', 'cabin', 'cabin fever', 'cabinet', 'cable', 'cafe', 'caffeine', 'caffeine really', 'call', 'call anxiety', 'call back', 'call check', 'call covid', 'call doctor', 'call facetime', 'call mom', 'call pic_twitter', 'call pic_twitter com', 'call say', 'call text', 'call therapist', 'call work', 'call work anxiety', 'calm', 'calm anxiety', 'calm app', 'calm collect', 'calm community', 'calm community mindfulness', 'calm give', 'calm help', 'calm mind', 'calm nerve', 'calm nerve anxiety', 'calm stress', 'calm try', 'calm whole', 'calm work', 'calming', 'calmly', 'calmness', 'calorie', 'campaign', 'campus', 'canadian', 'cancel', 'cancel anxiety', 'cancel appointment', 'cancel job', 'cancel school', 'cancel travel', 'cancellation', 'cancellation sport', 'cancer', 'candle', 'cannabinoid', 'cannabis', 'capable', 'capitalism', 'car', 'car accident', 'car go', 'card', 'cardio', 'care', 'care exercise', 'care exercise reduce', 'care feel overwhelmed', 'care friend', 'care peace', 'care peace anxiety', 'care time', 'care today', 'care worker', 'career', 'careful', 'carry', 'cart', 'case', 'case pic_twitter', 'case pic_twitter com', 'case scenario', 'cashier', 'casino', 'cast', 'cast anxiety', 'cast anxiety care', 'cast fear', 'cast fear anxiety', 'casual', 'cat', 'catch', 'catch virus', 'cause', 'cause additional', 'cause anxiety', 'cause anxiety depression', 'cause anxiety go', 'cause anxiety stress', 'cause chest', 'cause death', 'cause depression', 'cause fear', 'cause get', 'cause great', 'cause great deal', 'cause lot', 'cause lot anxiety', 'cause major', 'cause much', 'cause much anxiety', 'cause panic', 'cause people', 'cause really', 'cause stress', 'cause stress anxiety', 'cautious', 'cbd', 'cbd oil', 'cbd product', 'cbd product help', 'cbt', 'cc', 'cease', 'ceiling', 'celebrate', 'celebrate birthday', 'celebrate small', 'celebrity', 'cell', 'center', 'ceo', 'ceremony', 'certain', 'certain people', 'certainly', 'chain', 'chair', 'challenge', 'challenge time', 'challenging', 'challenging season', 'chamomile', 'chamomile tea', 'champagne', 'chance', 'change', 'change happen', 'change life', 'change minute', 'change routine', 'change routine anxiety', 'change sure', 'channel', 'channel anxiety', 'chaos', 'chaos anxiety', 'chaotic', 'chapter', 'character', 'charge', 'charger', 'chart', 'chart day', 'chat', 'cheap', 'check', 'check anxiety', 'check covid', 'check friend', 'check friend anxiety', 'check friend family', 'check friend struggle', 'check know', 'check loved_one', 'check new', 'check people', 'check see', 'check thank', 'checking', 'checking know', 'checking know suffer', 'cheek', 'cheer', 'cheese', 'chest', 'chest covid', 'chest covid anxiety', 'chest feel', 'chest hurt', 'chest pain', 'chest pain usually', 'chest tight', 'chest tighten', 'chew', 'chicken', 'chief', 'child', 'child anxiety', 'child spectrum', 'child spectrum eat', 'childcare', 'childhood', 'chill', 'chill pic_twitter', 'chill pic_twitter com', 'chinese', 'chocolate', 'chocolate feel', 'choice', 'choose', 'chop', 'chore', 'christian', 'chronic', 'chronic anxiety', 'chronic ass', 'chronic ass iconic', 'chronic illness', 'church', 'circle', 'circumstance', 'citizen', 'city', 'claim', 'clarity', 'class', 'class go', 'class help', 'class online', 'class semester', 'class today', 'classic', 'classical', 'classical music', 'classroom', 'clean', 'clean ever', 'clean whole', 'cleaning', 'cleanse', 'clear', 'clear throat', 'clearing', 'clearly', 'clench', 'clench jaw', 'clench jaw due', 'click', 'click link', 'client', 'climate', 'climate anxiety', 'clinic', 'clinical', 'clinical depression', 'clinical depression anxiety', 'close', 'close eye', 'close gym', 'close home', 'close next', 'close notice', 'close restaurant', 'close school', 'close today', 'close together', 'close tomorrow', 'closely', 'closing', 'closure', 'clothe', 'cloud', 'club', 'clue', 'clutch', 'coach', 'coaching', 'cocktail', 'code', 'coffee', 'coffee anxiety', 'coffee help', 'cold', 'cold allergy', 'cold sweat', 'collaborate', 'collapse', 'colleague', 'collect', 'collective', 'collective anxiety', 'collective goodness', 'collectively', 'college', 'color', 'color book', 'colorado', 'coloring', 'com', 'com mj', 'combat', 'combat anxiety', 'combat stress', 'combat worry', 'combat worry fear', 'combination', 'combine', 'combine anxiety', 'combo', 'come', 'come also', 'come anxiety', 'come back', 'come clutch', 'come day', 'come full', 'come go', 'come home', 'come let', 'come live', 'come nowhere', 'come quarantine', 'come situation', 'come stare', 'come today', 'come together', 'come tomorrow', 'come true', 'come use', 'come week', 'come work', 'comfort', 'comfort food', 'comfort food relieve', 'comfort soul', 'comfort soul psalm', 'comfortable', 'comfortable leave', 'comment', 'commercial', 'commission', 'common', 'commotion', 'communicate', 'communication', 'communication challenge', 'community', 'community experience', 'community mindfulness', 'community mindfulness care', 'community mindset', 'community mindset spread', 'commute', 'companion', 'company', 'company anxiety', 'compare', 'compassion', 'compete', 'compile', 'complain', 'complain anxiety', 'complaint', 'complete', 'completely', 'completely normal', 'complex', 'complicate', 'complication', 'compromise', 'compromise immune_system', 'concentrate', 'concept', 'concern', 'concern anxiety', 'concern anxiety level', 'concerned', 'concert', 'condition', 'conference', 'conference call', 'confidence', 'confident', 'confine', 'confirm', 'confirmation', 'conflict', 'confront', 'confused', 'confusion', 'congested', 'congrat', 'connect', 'connect human', 'connect human specie', 'connect people', 'connected', 'connection', 'conquer', 'consider', 'consider pick', 'consider pick phone', 'considerate', 'consist', 'consistent', 'conspiracy', 'constant', 'constant anxiety', 'constant anxiety pic_twitter', 'constant news', 'constant state', 'constant state anxiety', 'constant state panic', 'constantly', 'constantly think', 'constantly try', 'construction', 'consultation', 'consume', 'consume daily', 'consumption', 'contact', 'contact family', 'contact feel', 'contact today', 'contagion', 'contagionmovie', 'contagious', 'contain', 'contamination', 'contamination anxiety', 'contemplate', 'content', 'continue', 'contract', 'contract coronavirus', 'contracting', 'contribute', 'contribute anxiety', 'control', 'control anxiety', 'control buy', 'control buy thing', 'control even', 'control pic_twitter', 'control pic_twitter com', 'control right', 'conversation', 'conversation friend', 'conversation give', 'convert', 'convey', 'convince', 'convinced', 'cook', 'cooking', 'cool', 'cool cool', 'cop', 'cope', 'cope anxiety', 'cope anxiety depression', 'cope clarity', 'cope mechanism', 'cope skill', 'cope strategy', 'cope stress', 'cope stress help', 'cope stress pic_twitter', 'copy', 'copy paste', 'corner', 'corner earth', 'corona', 'corona_virus', 'corona_virus anxiety', 'coronapocalypse', 'coronapocolypse', 'coronavirus', 'coronavirus alone', 'coronavirus anxiety', 'coronavirus anxiety look', 'coronavirus check', 'coronavirus covid', 'coronavirus make', 'coronavirus outbreak', 'coronavirus take', 'coronavirus take toll', 'coronaviruspic', 'corporation', 'correct', 'cortisol', 'cost', 'cost sleep', 'cost sleep bring', 'couch', 'cough', 'cough fever', 'cough time', 'counsel', 'counseling', 'counseling depression', 'counseling depression bipolar', 'counselor', 'count', 'countless', 'country', 'country morning', 'country morning dish', 'couple', 'couple day', 'couple hour', 'couple month', 'couple week', 'couple week go', 'courage', 'course', 'course know', 'course open', 'cousin', 'cover', 'coverage', 'covid', 'covid anxiety', 'covid anxietyrelief', 'covid case', 'covid cause', 'covid depression', 'covid get', 'covid help', 'covid know', 'covid pandemic', 'covid panic', 'covid pic_twitter', 'covid pic_twitter com', 'covid situation', 'covid symptom', 'covid time', 'covid trigger', 'covidー', 'covidー anxiety', 'covidー related', 'covidー related anxiety', 'coworker', 'coworker kid', 'coworker use', 'cp', 'crack', 'crack joke', 'craft', 'craft manage', 'craft manage anxiety', 'crane', 'crank', 'crap', 'crash', 'crave', 'crave routine', 'crawl', 'craziness', 'craziness go', 'crazy', 'crazy anxiety', 'crazy anxiety right', 'crazy stuff', 'crazy time', 'crazy world', 'cream', 'create', 'create anxiety', 'create art', 'create lot', 'create much', 'create much anxiety', 'create panic', 'create stress', 'creation', 'creative', 'credit', 'credit card', 'creep', 'creepy', 'crew', 'crippled', 'crippled anxiety', 'crippling', 'crippling anxiety', 'crippling anxiety depression', 'crisis', 'crisis local', 'crisis use', 'critical', 'cross', 'crossing', 'crowd', 'crowd give', 'crowd give anxiety', 'crowd go', 'crowded', 'crucial', 'cruel', 'crush', 'crush anxiety', 'cry', 'cry anxiety', 'cry cause', 'cry tear', 'cry tear diary', 'cry time', 'crystal', 'cuddle', 'cuddle dog', 'cue', 'cunt', 'cup', 'cup coffee', 'curate', 'curb', 'curb anxiety', 'curbside', 'cure', 'cure anxiety', 'cure bipolar', 'curfew', 'curious', 'current', 'current anxiety', 'current covid', 'current crisis', 'current event', 'current situation', 'current status', 'currently', 'currently anxiety', 'currently anxiety roof', 'currently work', 'curtain', 'curve', 'cus', 'cus social', 'custom', 'customer', 'customer service', 'cut', 'cut anxiety', 'cute', 'cutting', 'cvs', 'cw', 'cycle', 'cycle anxiety', 'dad', 'daddy', 'dadjoke', 'dadjoke time', 'dadjoke time pic_twitter', 'daily', 'daily basis', 'daily live', 'daily routine', 'daily schedule', 'damage', 'damn', 'damn roof', 'dance', 'dance yoga', 'dancing', 'danger', 'dangerous', 'dark', 'dark start', 'data', 'date', 'datum', 'daughter', 'daughter get', 'daughter sole', 'daughter sole form', 'day', 'day able', 'day ago', 'day ahead', 'day anxiety', 'day anxiety fear', 'day anxiety still', 'day cause', 'day come', 'day day', 'day day day', 'day depression', 'day depression anxiety', 'day due', 'day even', 'day everyday', 'day everyday want', 'day feel', 'day fill', 'day fill anxiety', 'day find', 'day full', 'day full anxiety', 'day get', 'day get bad', 'day go', 'day honestly', 'day keep', 'day know', 'day leave', 'day life', 'day live', 'day love', 'day make', 'day maybe', 'day much', 'day need', 'day new', 'day online', 'day pandemic', 'day parent', 'day pic_twitter', 'day pic_twitter com', 'day praise', 'day praise day', 'day quarantine', 'day quarantinelife', 'day row', 'day see', 'day self', 'day self quarantine', 'day show', 'day social', 'day social anxiety', 'day social_distance', 'day sometimes', 'day stay', 'day sure', 'day take', 'day tell', 'day think', 'day time', 'day today', 'day try', 'day ve', 'day wait', 'day wake', 'day week', 'day work', 'day worth', 'day yesterday', 'daycare', 'dead', 'deadline', 'deal', 'deal anxiety', 'deal anxiety covidー', 'deal anxiety depression', 'deal anxiety stress', 'deal corona_virus', 'deal corona_virus anxiety', 'deal crazy', 'deal deal', 'deal depression', 'deal depression anxiety', 'deal feel', 'deal kid', 'deal level', 'deal lot', 'deal social', 'deal social anxiety', 'deal stress', 'deal stress anxiety', 'dear', 'dear anxiety', 'death', 'debate', 'debating', 'debilitate', 'debt', 'decade', 'decent', 'decide', 'decide anxiety', 'decide get', 'decide go', 'decide offer', 'decide watch', 'decision', 'decision go', 'decrease', 'decrease anxiety', 'dedicated', 'deep', 'deep anxiety', 'deep breath', 'deep_breath', 'deep_breathe', 'deep_breathing', 'deeply', 'defense', 'define', 'definitely', 'definitely anxiety', 'definitely anxiety provoke', 'definitely help', 'definitely need', 'definitely people', 'degree', 'delay', 'delete', 'delete social_media', 'deliver', 'delivery', 'demand', 'demon', 'deny', 'depend', 'depress', 'depress anxiety', 'depressant', 'depressed', 'depressed need', 'depression', 'depression also', 'depression anxiety', 'depression anxiety feel', 'depression anxiety get', 'depression anxiety go', 'depression anxiety real', 'depression anxiety really', 'depression anxiety suicidal', 'depression anxiety time', 'depression bipolar', 'depression bipolar anxiety', 'depression check', 'depression focus', 'depression get', 'depression go', 'depression hard', 'depression help', 'depression isolation', 'depression keep', 'depression lose', 'depression many', 'depression ocd', 'depression panic', 'depression ptsd', 'depression quarantine', 'depression real', 'depression real try', 'depression roof', 'depression seem', 'depression severe', 'depression severe anxiety', 'depression take', 'depression think', 'depression time', 'depression time high', 'depression trauma', 'depression trauma treatment', 'depression uncertainty', 'depressive', 'depressive episode', 'derive', 'describe', 'desert', 'deserve', 'design', 'desire', 'desk', 'despair', 'destroy', 'destroy anxiety', 'detail', 'deteriorate', 'detox', 'detrimental', 'develop', 'development', 'development covid', 'devil', 'diabete', 'diagnose', 'diagnose anxiety', 'diagnose generalize', 'diagnose generalize anxiety', 'diagnosis', 'diary', 'diary sometimes', 'dictate', 'die', 'die afraid', 'die alone', 'die anxiety', 'die go', 'diet', 'diff', 'difference', 'different', 'different country', 'different type', 'different way', 'different world', 'differentiate', 'differently', 'difficult', 'difficult especially', 'difficult time', 'difficulty', 'difficulty breathe', 'dig', 'dig thank', 'digital', 'dilemma', 'dimension', 'diminish', 'dinner', 'direct', 'directly', 'director', 'dirty', 'disability', 'disabled', 'disappear', 'disappointing', 'disappointment', 'disaster', 'discipline', 'disclose', 'discomfort', 'discount', 'discover', 'discuss', 'discussion', 'disease', 'disgusting', 'dish', 'dish advice', 'dish advice help', 'disinfect', 'dismissive', 'disorder', 'disorder depression', 'disorder hard', 'dispensary', 'display', 'disruption', 'dissipate', 'distance', 'distance anxiety', 'distance running', 'distance running help', 'distancing', 'distant', 'distract', 'distraction', 'distraction anxiety', 'distress', 'district', 'ditto', 'dive', 'dizziness', 'dizzy', 'dm', 'dms', 'do', 'do anxiety', 'doctor', 'doctor appointment', 'doctor know', 'doctor office', 'document', 'dog', 'dog anxiety', 'dog dog', 'dog separation', 'dog separation anxiety', 'dog take', 'dog thing', 'doggie', 'doggo', 'dogtraine', 'doin', 'dollar', 'domestic', 'domestic violence', 'dominate', 'donate', 'doodle', 'doom', 'door', 'dorito', 'dosage', 'dose', 'double', 'double anxiety', 'doubt', 'dough', 'download', 'downstairs', 'dozen', 'drag', 'drain', 'drama', 'drama anxiety', 'dramatically', 'drastically', 'draw', 'draw get', 'draw today', 'draw today go', 'drawing', 'dread', 'dread anxiety', 'dream', 'dream moment', 'dress', 'drink', 'drink coffee', 'drink go', 'drink pic_twitter', 'drink pic_twitter com', 'drink water', 'drink wine', 'drinking', 'drive', 'drive anxiety', 'driver', 'drone', 'drop', 'dropping', 'drown', 'drown anxiety', 'drug', 'drunk', 'dry', 'dry air', 'dry cough', 'dude', 'due', 'due anxiety', 'due closure', 'due corona_virus', 'due covid', 'due pandemic', 'due virus', 'duet', 'dumb', 'dumbass', 'dummy', 'duration', 'duress', 'dysphoria', 'eagle', 'ear', 'early', 'early morning', 'early want', 'earth', 'earthquake', 'ease', 'ease anxiety', 'ease anxiety fear', 'ease fear', 'ease fear anxiety', 'ease lot', 'ease lot anxiety', 'easily', 'easy', 'easy anxiety', 'easy get', 'eat', 'eat alive', 'eat day', 'eat food', 'eat healthy', 'eat sleep', 'eat thing', 'eat thing everyday', 'eating', 'echo', 'economic', 'economic anxiety', 'economy', 'ed', 'edge', 'edible', 'edit', 'educate', 'educate public', 'education', 'educator', 'eerie', 'effect', 'effect anxiety', 'effecting', 'effective', 'effort', 'elderly', 'elevate', 'eliminate', 'else', 'else anxiety', 'else feel', 'email', 'embroidery', 'emerge', 'emergency', 'emergency broadcast', 'emergency room', 'emily', 'emotion', 'emotion sadness', 'emotion sadness depression', 'emotional', 'emotional distress', 'emotional feeling', 'emotionally', 'empath', 'empath time', 'empathy', 'employ', 'employee', 'employer', 'empty', 'empty get', 'empty shelf', 'encounter', 'encourage', 'encouragement', 'encouraging', 'end', 'end anxiety', 'end lose', 'end time', 'end time joke', 'end world', 'endless', 'endorphin', 'endure', 'enemy', 'energy', 'engage', 'enhance', 'enjoy', 'enjoy take', 'enough', 'enough anxiety', 'enough find', 'enough food', 'enough go', 'enough money', 'enough work', 'ensure', 'enter', 'entertainment', 'entire', 'entire life', 'entire world', 'entirely', 'entitle', 'environment', 'envy', 'epidemic', 'episode', 'equip', 'equipment', 'equivalent', 'erase', 'escalate', 'escape', 'escape anxiety', 'escapist', 'esp', 'especially', 'especially anxiety', 'especially many', 'especially time', 'especially vulnerable', 'essential', 'even', 'even anxiety', 'even anxiety ride', 'even bad', 'even call', 'even care', 'even feel', 'even get', 'even get bed', 'even go', 'even good', 'even help', 'even imagine', 'even know', 'even know begin', 'even little', 'even make', 'even medication', 'even medication anxiety', 'even midst', 'even minute', 'even pandemic', 'even really', 'even see', 'even take', 'even think', 'even walk', 'even want', 'event', 'event cancel', 'event mentor', 'event mentor join', 'eventually', 'ever', 'ever anxiety', 'ever experience', 'ever feel', 'ever get', 'ever give', 'ever life', 'ever need', 'ever need talk', 'ever prioritize', 'ever prioritize resource', 'ever see', 'everyday', 'everyday pray', 'everyday pray shut', 'everyday want', 'everyday want overcome', 'everyone', 'everyone anxiety', 'everything', 'everytime', 'everywhere', 'evidence', 'evidence base', 'evil', 'exacerbate', 'exacerbate anxiety', 'exact', 'exactly', 'exactly need', 'exam', 'example', 'excellent', 'excersise', 'excess', 'excess anxiety', 'exchange', 'excited', 'excitement', 'excuse', 'executive', 'exercise', 'exercise calm', 'exercise free', 'exercise free minute', 'exercise help', 'exercise help relieve', 'exercise reduce', 'exercise reduce anxiety', 'exhaust', 'exhausted', 'exhausting', 'exhaustion', 'exhibit', 'exhibit sign', 'exist', 'existence', 'existential', 'existential anxiety', 'existential dread', 'expect', 'expect anxiety', 'expensive', 'experience', 'experience anxiety', 'experience fear', 'experience high', 'experience high level', 'experience last', 'experience lot', 'experience lot anxiety', 'experience much', 'experience much anxiety', 'experience panic', 'experience panic anxiety', 'experience stress', 'experience stress anxiety', 'experience time', 'experiment', 'expert', 'expert deal', 'explain', 'explain anxiety', 'explain child', 'explain child anxiety', 'explore', 'exponentially', 'expose', 'exposure', 'express', 'express anxiety', 'expression', 'extend', 'extension', 'external', 'extinction', 'extinction anxiety', 'extra', 'extra anxiety', 'extra time', 'extreme', 'extreme anxiety', 'extreme social', 'extreme social anxiety', 'extremely', 'extremely challenging', 'extremely challenging season', 'extremely hard', 'extremely trigger', 'eye', 'eyebrow', 'eyelash', 'fabricate', 'fabulous', 'face', 'face anxiety', 'face mask', 'face much', 'face new', 'face time', 'face world', 'facebook', 'facetime', 'facetime play', 'facility', 'fact', 'faculty', 'fail', 'failure', 'faint', 'fair', 'fairly', 'faith', 'faithful', 'fake', 'fake news', 'fall', 'fall asleep', 'fall back', 'fall back asleep', 'fall love', 'fall_asleep', 'false', 'familiar', 'family', 'family child', 'family friend', 'family friend suffer', 'family member', 'family neighbor', 'family put', 'family stay', 'family work', 'famous', 'fan', 'fanfic', 'fantastic', 'far', 'farmer', 'fast', 'fast shallow', 'fat', 'father', 'fatigue', 'favor', 'favorite', 'favourite', 'fear', 'fear able', 'fear also', 'fear anxiety', 'fear anxiety boredom', 'fear anxiety covid', 'fear anxiety get', 'fear anxiety make', 'fear anxiety new', 'fear anxiety panic', 'fear anxiety people', 'fear anxiety reach', 'fear anxiety right', 'fear anxiety stress', 'fear anxiety uncertainty', 'fear anxiety unknown', 'fear anxiety world', 'fear concern', 'fear control', 'fear fear', 'fear go', 'fear let', 'fear let see', 'fear lose', 'fear love', 'fear never', 'fear panic', 'fear perfect', 'fear perfect time', 'fear pic_twitter', 'fear pic_twitter com', 'fear real', 'fear sadness', 'fear take', 'fear uncertainty', 'fear unknown', 'fear worry', 'fear worry anxiety', 'fearful', 'fearless', 'feature', 'federal', 'fee', 'feed', 'feed kid', 'feedback', 'feel', 'feel alone', 'feel amazing', 'feel anxiety', 'feel anxiety depression', 'feel anxiety kicking', 'feel anxiety level', 'feel anxious', 'feel anxious right', 'feel bad', 'feel bored', 'feel break', 'feel calm', 'feel come', 'feel comfortable', 'feel control', 'feel coronavirus', 'feel coronavirus alone', 'feel coronavirus take', 'feel day', 'feel different', 'feel drain', 'feel end', 'feel end world', 'feel fear', 'feel fear anxiety', 'feel feel', 'feel free', 'feel get', 'feel give', 'feel go', 'feel good', 'feel good outside', 'feel good time', 'feel great', 'feel guilty', 'feel hard', 'feel heavy', 'feel helpless', 'feel high', 'feel intense', 'feel kinda', 'feel less', 'feel let', 'feel level', 'feel little', 'feel long', 'feel long time', 'feel lot', 'feel lot anxiety', 'feel low', 'feel make', 'feel moment', 'feel much', 'feel much anxiety', 'feel much well', 'feel need', 'feel normal', 'feel overwhelmed', 'feel overwhelmed emotion', 'feel people', 'feel pretty', 'feel really', 'feel right', 'feel run', 'feel safe', 'feel scared', 'feel self', 'feel sense', 'feel sick', 'feel stress', 'feel stress anxiety', 'feel thing', 'feel throw', 'feel time', 'feel today', 'feel try', 'feel uncomfortable', 'feel wake', 'feel want', 'feel way', 'feel well', 'feel well anxiety', 'feel work', 'feel world', 'feel world end', 'feel year', 'feeling', 'feeling anxiety', 'feeling day', 'feeling dread', 'feeling isolation', 'feeling isolation extremely', 'feeling know', 'feeling lose', 'feeling pic_twitter', 'feeling pic_twitter com', 'feeling valid', 'feeling well', 'fellow', 'fellow anxiety', 'fellow anxiety sufferer', 'fellow warrior', 'fetch', 'fever', 'fever anxiety', 'fiance', 'field', 'fifth', 'fifth time', 'fight', 'fight anxiety', 'fight daily', 'fight flight', 'figure', 'file', 'file unemployment', 'fill', 'fill anxiety', 'fill day', 'fill much', 'fill much anxiety', 'fill time', 'film', 'filter', 'final', 'finally', 'finally feel', 'finally get', 'finally put', 'finally see', 'financial', 'find', 'find anxiety', 'find funny', 'find get', 'find joy', 'find moment', 'find moment joy', 'find peace', 'find really', 'find safe', 'find self', 'find still', 'find thing', 'find thing see', 'find way', 'find work', 'finding', 'fine', 'fine anxiety', 'fine fine', 'finger', 'finish', 'fire', 'first', 'first anxiety', 'first anxiety attack', 'first day', 'first get', 'first responder', 'first thing', 'first thing morning', 'first time', 'first time ever', 'first time today', 'first time year', 'fish', 'fishing', 'fist', 'fit', 'fitness', 'fix', 'flare', 'flaring', 'flash', 'flatten', 'flatten curve', 'flattenthecurve', 'flesh', 'flight', 'flight anxiety', 'flip', 'floor', 'flow', 'flower', 'flu', 'fluid', 'fly', 'fly back', 'focus', 'focus anxiety', 'focus breathing', 'focus good', 'focus health', 'focus right', 'focus stay', 'focus thing', 'focused', 'fold', 'folk', 'folk anxiety', 'follow', 'follower', 'fomo', 'food', 'food also', 'food feed', 'food house', 'food relieve', 'fool', 'foot', 'football', 'forbid', 'force', 'foreign', 'foreseeable', 'foreseeable future', 'forest', 'forever', 'forget', 'forget anxiety', 'forget take', 'forget take time', 'forgive', 'forgot', 'form', 'form anxiety', 'form nutrition', 'form nutrition point', 'fortunate', 'forward', 'foster', 'fr', 'fragile', 'freak', 'freaking', 'free', 'free anxiety', 'free meditation', 'free minute', 'free minute new', 'free time', 'free_resource', 'free_resource help', 'freedom', 'freelance', 'freeze', 'frequently', 'fresh', 'fresh_air', 'friend', 'friend anxiety', 'friend anxiety depression', 'friend colleague', 'friend community', 'friend depression', 'friend depression anxiety', 'friend family', 'friend find', 'friend go', 'friend leave', 'friend maybe', 'friend pic_twitter', 'friend pic_twitter com', 'friend please', 'friend really', 'friend really struggle', 'friend send', 'friend struggle', 'friend suffer', 'friend suffer anxiety', 'friend understand', 'friendly', 'friendly reminder', 'front', 'front line', 'frozen', 'frozen pizza', 'fruit', 'frustrate', 'frustrating', 'frustration', 'frustration anxiety', 'frustration real', 'fuck', 'fuck alone', 'fuck anxiety', 'fuck anxiety think', 'fuck bitch', 'fuck crazy', 'fuck go', 'fuck happen', 'fuck man', 'fuck people', 'fuck roof', 'fuckin', 'fucking', 'fucking anxiety', 'fucking edge', 'fucking hour', 'fucking roof', 'fuel', 'fuel anxiety', 'fulfil', 'full', 'full anxiety', 'full blow', 'full blow anxiety', 'full day', 'full panic', 'full panic attack', 'full time', 'fully', 'fun', 'fun send', 'fun time', 'function', 'fund', 'funny', 'fur', 'furniture', 'furry', 'future', 'fwy', 'fyi', 'gain', 'gain pound', 'gal', 'galore', 'game', 'game anxiety', 'game worth', 'gaming', 'gang', 'garden', 'gas', 'gather', 'gathering', 'gear', 'geez', 'gem', 'gender', 'general', 'general anxiety', 'generalize', 'generalize anxiety', 'generalize anxiety disorder', 'generally', 'generate', 'generation', 'genetic', 'gentle', 'genuine', 'genuinely', 'germ', 'get', 'get anxiety', 'get anxiety attack', 'get anxiety feeling', 'get anxiety go', 'get anxiety med', 'get anxiety pic_twitter', 'get anxiety shit', 'get anxiety thinking', 'get anxiety time', 'get anxious', 'get avoid', 'get avoid people', 'get away', 'get back', 'get back sleep', 'get bad', 'get bad anxiety', 'get bed', 'get big', 'get cancel', 'get catch', 'get chest', 'get close', 'get coffee', 'get come', 'get confident', 'get control', 'get covid', 'get creative', 'get crippling', 'get crippling anxiety', 'get cut', 'get day', 'get depressed', 'get distract', 'get early', 'get emotional', 'get enough', 'get feel', 'get feeling', 'get finally', 'get finish', 'get first', 'get food', 'get friend', 'get fuck', 'get full', 'get get', 'get go', 'get good', 'get grocery', 'get hair', 'get hand', 'get hard', 'get head', 'get help', 'get high', 'get home', 'get house', 'get irritated', 'get keep', 'get kid', 'get knock', 'get know', 'get lay', 'get little', 'get look', 'get lose', 'get lot', 'get major', 'get make', 'get med', 'get medical', 'get message', 'get mile', 'get month', 'get much', 'get much anxiety', 'get need', 'get nervous', 'get news', 'get old', 'get outside', 'get outta', 'get overwhelmed', 'get pay', 'get people', 'get pic_twitter', 'get pic_twitter com', 'get picture', 'get place', 'get point', 'get puppy', 'get quarantine', 'get quick', 'get ready', 'get ready leave', 'get real', 'get really', 'get really anxious', 'get really bad', 'get response', 'get result', 'get rid', 'get rid anxiety', 'get rough', 'get run', 'get say', 'get see', 'get see tonight', 'get send', 'get send home', 'get sense', 'get sense control', 'get severe', 'get sick', 'get sleep', 'get sleep anxiety', 'get social', 'get social anxiety', 'get stay', 'get stomach', 'get stuck', 'get stuff', 'get stuff do', 'get super', 'get take', 'get tell', 'get test', 'get time', 'get together', 'get use', 'get virtually', 'get virus', 'get want', 'get way', 'get well', 'get well last', 'get work', 'gettin', 'getting', 'gf', 'ghost', 'ghost town', 'giant', 'gift', 'gig', 'girl', 'girl anxiety', 'girl anxiety roof', 'girlfriend', 'give', 'give anxiety', 'give anxiety attack', 'give anxiety even', 'give anxiety feel', 'give anxiety keep', 'give anxiety long', 'give anxiety love', 'give anxiety need', 'give anxiety pic_twitter', 'give anxiety really', 'give anxiety roof', 'give anxiety stress', 'give anxiety take', 'give anxiety watch', 'give bad', 'give bad anxiety', 'give break', 'give crippling', 'give crippling anxiety', 'give extreme', 'give extreme anxiety', 'give feel', 'give headache', 'give heart', 'give heart attack', 'give huge', 'give lot', 'give lot anxiety', 'give mad', 'give mad anxiety', 'give major', 'give major anxiety', 'give massive', 'give massive anxiety', 'give mega', 'give mega anxiety', 'give much', 'give much anxiety', 'give peace', 'give people', 'give social', 'give social anxiety', 'give time', 'glad', 'glad alone', 'glad get', 'glad proverb', 'glad see', 'glad slowly', 'glad wait', 'gladly', 'glass', 'global', 'global community', 'global crisis', 'global pandemic', 'globally', 'gloom', 'glove', 'go', 'go anxiety', 'go anxiety attack', 'go anymore', 'go anywhere', 'go around', 'go away', 'go back', 'go back home', 'go back normal', 'go back sleep', 'go back work', 'go bad', 'go bar', 'go batshit', 'go bed', 'go bed early', 'go body', 'go bonker', 'go bonker second', 'go come', 'go come quarantine', 'go cope', 'go covid', 'go crazy', 'go day', 'go delete', 'go die', 'go doctor', 'go door', 'go downstairs', 'go draw', 'go draw today', 'go eat', 'go end', 'go even', 'go everywhere', 'go feel', 'go find', 'go first', 'go freak', 'go fuck', 'go get', 'go give', 'go give anxiety', 'go go', 'go good', 'go great', 'go grocery', 'go grocery_store', 'go happen', 'go happen next', 'go help', 'go home', 'go insane', 'go interesting', 'go isolation', 'go job', 'go kill', 'go know', 'go lie', 'go lie anxiety', 'go life', 'go lil', 'go live', 'go long', 'go long walk', 'go long way', 'go look', 'go lose', 'go make', 'go massive', 'go massive amount', 'go mean', 'go mentally', 'go mind', 'go much', 'go next', 'go nice', 'go non', 'go normal', 'go nut', 'go office', 'go online', 'go outside', 'go pass', 'go pay', 'go pic_twitter', 'go pic_twitter com', 'go quick', 'go quick keep', 'go real', 'go really', 'go right', 'go roof', 'go roof right', 'go run', 'go second', 'go see', 'go show', 'go sleep', 'go social_media', 'go start', 'go stay', 'go stay away', 'go store', 'go store get', 'go store normal', 'go struggle', 'go take', 'go thing', 'go time', 'go today', 'go tomorrow', 'go tough', 'go try', 'go use', 'go wake', 'go walk', 'go want', 'go way', 'go well', 'go work', 'go work today', 'go work tomorrow', 'go work week', 'go world', 'go write', 'go wrong', 'goal', 'god', 'godsend', 'good', 'good advice', 'good also', 'good anxiety', 'good care', 'good chance', 'good combo', 'good day', 'good enough', 'good fight', 'good form', 'good friend', 'good friend pic_twitter', 'good get', 'good happen', 'good idea', 'good know', 'good leader', 'good leader take', 'good luck', 'good morning', 'good morning happy', 'good night', 'good one', 'good outside', 'good people', 'good planet', 'good strategy', 'good stuff', 'good tell', 'good thing', 'good thing get', 'good time', 'good time anxiety', 'good vibe', 'good way', 'good way get', 'good word', 'goodness', 'goodvibe', 'gossip', 'government', 'government find', 'governor', 'govt', 'grab', 'grace', 'grade', 'grade anxiety', 'grade fever', 'grade student', 'graduate', 'graduating', 'graduating class', 'graduation', 'gramfam', 'grandkid', 'grandma', 'grandmother', 'grandparent', 'grant', 'grateful', 'gratitude', 'grave', 'great', 'great anxiety', 'great anxiety depression', 'great british', 'great day', 'great deal', 'great deal anxiety', 'great depression', 'great guy', 'great joy', 'great joy psalm', 'great movie', 'great night', 'great resource', 'great source', 'great source anxiety', 'great time', 'great video', 'great way', 'greatly', 'green', 'greet', 'grief', 'grief anxiety', 'grief loss', 'grip', 'grip anxiety', 'grocery', 'grocery_shoppe', 'grocery_shopping', 'grocery_store', 'grocery_store anxiety', 'gross', 'ground', 'ground calm', 'ground technique', 'group', 'group message', 'group people', 'grow', 'grow anxiety', 'grow day', 'growing', 'growth', 'guess', 'guess good', 'guess watch', 'guest', 'guidance', 'guide', 'guideline', 'guilt', 'guilty', 'gum', 'gum blister', 'gum blister peel', 'gummie', 'gun', 'gunshot', 'guy', 'guy meet', 'gym', 'gym anxiety', 'gym close', 'gym want', 'gym want day', 'habit', 'hack', 'haha', 'hair', 'half', 'half brain', 'hall', 'halt', 'hand', 'hand include', 'hand include way', 'hand washing', 'handle', 'handle anxiety', 'handle much', 'handle stress', 'handshake', 'hang', 'hang anxiety', 'hang friend', 'happen', 'happen anxiety', 'happen fear', 'happen happen', 'happen hope', 'happen next', 'happen really', 'happen remain', 'happen right', 'happen world', 'happen yet', 'happiness', 'happy', 'happy birthday', 'happy day', 'happy get', 'happy see', 'hard', 'hard already', 'hard also', 'hard breathe', 'hard day', 'hard deal', 'hard feel', 'hard get', 'hard give', 'hard make', 'hard part', 'hard right', 'hard scared', 'hard stay', 'hard stay positive', 'hard struggle', 'hard tell', 'hard time', 'hard work', 'hardcore', 'hardly', 'harm', 'harm other', 'harmony', 'harvard', 'hate', 'hate anxiety', 'hate anxiety attack', 'hate anxiety make', 'hate feel', 'hate wake', 'hate wake anxiety', 'haunt', 'havoc', 'head', 'head anxiety', 'head back', 'head work', 'headache', 'headline', 'headspace', 'heal', 'healing', 'health', 'health anxiety', 'health care', 'health care worker', 'health family', 'health official', 'health organization', 'health professional', 'health relate', 'health relate anxiety', 'health safety', 'healthcare', 'healthcare professional', 'healthcare system', 'healthy', 'healthy mind', 'healthy need', 'healthy pic_twitter com', 'healthy stay', 'healthy time', 'hear', 'hear anxiety', 'hear face', 'hear gunshot', 'hear see', 'hear siren', 'hear virus', 'hearing', 'heart', 'heart attack', 'heart beat', 'heart break', 'heart drop', 'heart go', 'heart hurt', 'heart sing', 'heart sing virus', 'heart_rate', 'heartache', 'heartburn', 'heat', 'heavenly', 'heavily', 'heavy', 'heb', 'heighten', 'heighten anxiety', 'helicopter', 'hell', 'hellll', 'help', 'help alleviate', 'help alleviate anxiety', 'help anxiety', 'help anxiety depression', 'help anxiety fear', 'help anxiety keep', 'help anxiety level', 'help anxiety make', 'help anxiety pic_twitter', 'help anxiety start', 'help anxiety stress', 'help anxiety today', 'help avoid', 'help bring', 'help bring anxiety', 'help calm', 'help calm anxiety', 'help calm nerve', 'help child', 'help combat', 'help combat anxiety', 'help community', 'help cope', 'help coronavirus', 'help covid', 'help craft', 'help craft manage', 'help curb', 'help curb anxiety', 'help deal', 'help deal anxiety', 'help depression', 'help ease', 'help ease anxiety', 'help feel', 'help feel anxiety', 'help fight', 'help fight anxiety', 'help flatten', 'help flatten curve', 'help focus', 'help get', 'help get pic_twitter', 'help hand', 'help hand include', 'help help', 'help hope', 'help improve', 'help keep', 'help keep anxiety', 'help keep mind', 'help kid', 'help learn', 'help let', 'help lot', 'help lot anxiety', 'help low', 'help make', 'help manage', 'help manage anxiety', 'help need', 'help other', 'help people', 'help people anxiety', 'help pic_twitter', 'help pic_twitter com', 'help reduce', 'help reduce anxiety', 'help reduce stress', 'help regulate', 'help relieve', 'help relieve anxiety', 'help relieve stress', 'help remain', 'help sleep', 'help soothe', 'help soothe anxiety', 'help spread', 'help stay', 'help stress', 'help stress anxiety', 'help take', 'help understand', 'help want', 'help want go', 'help wonder', 'helpful', 'helpful anxiety', 'helpless', 'helplessness', 'helpline', 'herb', 'herbal', 'here', 'hero', 'hesitate', 'hide', 'high', 'high alert', 'high already', 'high anxiety', 'high anxiety want', 'high barely', 'high barely sleep', 'high due', 'high gear', 'high get', 'high go', 'high keep', 'high know', 'high lately', 'high level', 'high level anxiety', 'high need', 'high right', 'high risk', 'high risk really', 'high school', 'high sleep', 'high stress', 'high stress anxiety', 'high take', 'high think', 'high today', 'high virus', 'high want', 'highlight', 'highly', 'highly suggest', 'highly_recommend', 'hike', 'hilarious', 'hinder', 'hire', 'history', 'history depression', 'hit', 'hit anxiety', 'hit different', 'hit hard', 'hit panic', 'hit point', 'hit roof', 'hittin', 'hive', 'hoard', 'hoard impulse', 'hoard impulse mental', 'hoarder', 'hoarding', 'hobby', 'hockey', 'hold', 'hold anxiety', 'hold back', 'hole', 'hole anxiety', 'holy', 'holy fuck', 'home', 'home able', 'home alone', 'home also', 'home anxiety', 'home avoid', 'home cause', 'home cause anxiety', 'home come', 'home covid', 'home day', 'home early', 'home focus', 'home get', 'home get anxiety', 'home go', 'home help', 'home know', 'home least', 'home little', 'home office', 'home practice', 'home really', 'home remember', 'home rest', 'home stay', 'home stay_safe', 'home still', 'home take', 'home think', 'home time', 'home week', 'home work', 'home workout', 'home yard', 'homeless', 'homeschool', 'homework', 'homie', 'honest', 'honestly', 'honestly anxiety', 'honestly feel', 'honestly give', 'honestly know', 'honestly say', 'honestly think', 'honestly whole', 'honey', 'honor', 'hop', 'hop plane', 'hope', 'hope anxiety', 'hope bring', 'hope bring peace', 'hope feel', 'hope future', 'hope get', 'hope hang', 'hope help', 'hope well', 'hopeful', 'hopefully', 'hopefully ease', 'hopefully get', 'hopelessness', 'horrible', 'horrible anxiety', 'horrible time', 'horribly', 'horrific', 'horror', 'hospital', 'hospital today', 'host', 'hot', 'hot tip', 'hotel', 'hour', 'hour ago', 'hour anxiety', 'hour day', 'hour get', 'hour hour', 'hour long', 'hour long anxiety', 'hour news', 'hour night', 'hour night week', 'hour sleep', 'hour work', 'hourly', 'house', 'house give', 'house give anxiety', 'house keep', 'household', 'housing', 'housing crisis', 'however', 'however anxiety', 'however simple', 'however simple small', 'hr', 'hrs', 'hubby', 'hug', 'huge', 'huge anxiety', 'huge crowd', 'huge crowd go', 'human', 'human anxiety', 'human interaction', 'human panic', 'human specie', 'human specie span', 'humanity', 'humble', 'humor', 'humor get', 'hungry', 'hunt', 'hunter', 'hurry', 'hurt', 'hurt anxiety', 'hurt soul', 'hurt think', 'husband', 'hype', 'hyper', 'hyperventilate', 'hypnosis', 'hypochondriac', 'hysteria', 'iamsoblesse', 'iamsoblesse tpforsale', 'iamsoblesse tpforsale yoga', 'ice', 'ice cream', 'iconic', 'idea', 'idea anxiety', 'idea much', 'ideal', 'ideation', 'idek', 'identity', 'idiot', 'idk', 'idk anxiety', 'idk else', 'idk people', 'ignorant', 'ignore', 'ik', 'ill', 'ill keep', 'illness', 'image', 'imaginary', 'imagination', 'imagine', 'imagine anxiety', 'immediate', 'immediately', 'immediately feel', 'immensely', 'immune', 'immune compromise', 'immune system', 'immune_system', 'immune_system go', 'immunesystem', 'immunity', 'imo', 'impact', 'impact pandemic', 'impend', 'impending_doom', 'importance', 'important', 'important ever', 'important ever prioritize', 'important self', 'important thing', 'importantly', 'impose', 'impose anxiety', 'impossible', 'improve', 'improve anxiety', 'improve health', 'impulse', 'impulse mental', 'impulse mental behavior', 'impulsive', 'incite', 'include', 'include anxiety', 'include fear', 'include way', 'include way plug', 'income', 'inconsiderate', 'increase', 'increase anxiety', 'increase anxiety level', 'increase feeling', 'increase feeling anxiety', 'increasingly', 'incredible', 'incredibly', 'indecision', 'indeed', 'independent', 'individual', 'indoor', 'induce', 'induce anxiety', 'induce fear', 'induce moment', 'induce news', 'induce pic_twitter', 'induce pic_twitter com', 'induce thing', 'induce tweet', 'industry', 'inevitable', 'infect', 'infection', 'infidelity', 'infj', 'inflict', 'info', 'info anxiety', 'inform', 'information', 'informative', 'informed', 'inhaler', 'inherent', 'injury', 'inner', 'inner peace', 'inner peace price', 'innovation', 'inquiry', 'insane', 'insane anxiety', 'insanity', 'insecurity', 'insecurity anxiety', 'insensitive', 'inside', 'insight', 'insomnia', 'insomniac', 'inspiration', 'inspire', 'insta', 'instagram', 'instantly', 'instantly get', 'instead', 'instead anxiety', 'instead panic', 'instill', 'institution', 'instruction', 'insult', 'insurance', 'intake', 'intense', 'intense anxiety', 'intense feeling', 'intensity', 'intensive', 'intention', 'intentional', 'interact', 'interact people', 'interaction', 'interest', 'interested', 'interesting', 'internal', 'internalize', 'international', 'internet', 'interrupt', 'interrupt anxiety', 'interruption', 'intervention', 'interview', 'introvert', 'intuition', 'invisible', 'invite', 'involve', 'ion', 'ironic', 'irrational', 'irrational anxiety', 'irresponsible', 'irritability', 'irritated', 'ish', 'island', 'isolate', 'isolate anxiety', 'isolate get', 'isolated', 'isolation', 'isolation anxiety', 'isolation check', 'isolation extremely', 'isolation extremely challenging', 'isolation fear', 'isolation panic', 'isolation stay', 'isolation time', 'issue', 'issue anxiety', 'italian', 'italian find', 'italian find moment', 'itch', 'item', 'jail', 'jaw', 'jaw due', 'jelly', 'jelly butter', 'jet', 'jewelry', 'job', 'job apply', 'job close', 'job closing', 'job due', 'job income', 'job interview', 'job manage', 'job manage anxiety', 'job open', 'job pandemic', 'join', 'join popular', 'join popular news', 'joint', 'joke', 'joke anxiety', 'journal', 'journale', 'journalist', 'journey', 'joy', 'joy moment', 'joy moment anxiety', 'joy psalm', 'joy psalm niv', 'joy time', 'joy time go', 'judge', 'judgement', 'judgment', 'juggle', 'juice', 'jump', 'junk', 'junk food', 'justify', 'keep', 'keep always', 'keep anxiety', 'keep anxiety check', 'keep ask', 'keep awake', 'keep busy', 'keep calm', 'keep distance', 'keep family', 'keep get', 'keep go', 'keep head', 'keep mind', 'keep mind busy', 'keep night', 'keep panic', 'keep panic attack', 'keep pic_twitter', 'keep pic_twitter com', 'keep pick', 'keep pick speed', 'keep positive', 'keep raise', 'keep remind', 'keep routine', 'keep safe', 'keep sane', 'keep say', 'keep simple', 'keep stress', 'keep stress anxiety', 'keep think', 'keep thought', 'keep together', 'keep want', 'keep work', 'keeper', 'keeping', 'key', 'kick', 'kicking', 'kicking ass', 'kicking butt', 'kid', 'kid anxiety', 'kid feel', 'kid get', 'kid go', 'kid help', 'kid home', 'kid know', 'kid life', 'kid parent', 'kid school', 'kid sleep', 'kid think', 'kid want', 'kid week', 'kiddo', 'kill', 'kill anxiety', 'kill back', 'kill back leg', 'kind', 'kind anxiety', 'kind give anxiety', 'kind other', 'kinda', 'kindness', 'kindness spread', 'kindness spread community', 'king', 'kiss', 'kit', 'kitchen', 'kitty', 'kitty swimmy', 'knife', 'knit', 'knock', 'knot', 'know', 'know able', 'know alone', 'know anxiety', 'know bad', 'know begin', 'know bit', 'know come', 'know deal', 'know far', 'know feeling', 'know finally', 'know fun', 'know get', 'know go', 'know go get', 'know go happen', 'know good', 'know good time', 'know happen', 'know hard', 'know help', 'know keep', 'know look', 'know lot', 'know lot anxiety', 'know lot people', 'know make', 'know many', 'know many feel', 'know much', 'know need', 'know next', 'know other', 'know people', 'know re', 'know really', 'know say', 'know scary', 'know share', 'know struggle', 'know student', 'know suffer', 'know suffer depression', 'know sure', 'know take', 'know thing', 'know think', 'know together', 'know well', 'know work', 'knowing', 'knowledge', 'la', 'lab', 'lack', 'lack knowledge', 'lack sleep', 'lady', 'land', 'landlord', 'landscape', 'language', 'lap', 'laptop', 'large', 'large amount', 'large group', 'lash', 'last', 'last couple', 'last couple day', 'last couple week', 'last day', 'last hrs', 'last minute', 'last month', 'last night', 'last season', 'last thing', 'last thing need', 'last time', 'last time anxiety', 'last two_week', 'last week', 'last week anxiety', 'last year', 'last_night', 'late', 'late night', 'lately', 'lately get', 'lately let', 'lately want', 'later', 'laugh', 'laugh laugh', 'laugh people', 'laugh people go', 'laughter', 'launch', 'lavender', 'law', 'lawd', 'lawyer', 'lay', 'lay anxiety', 'lay bed', 'lazy', 'lbs', 'lead', 'lead anxiety', 'lead depression', 'lead depression anxiety', 'leader', 'leader take', 'leader take anxiety', 'leadership', 'lean', 'lean good', 'learn', 'learn anxiety', 'learn kid', 'learn take', 'learner', 'learning', 'least', 'least feel', 'least get', 'least month', 'least time', 'least week', 'leave', 'leave alone', 'leave alone apartment', 'leave apartment', 'leave ever', 'leave fuck', 'leave fuck alone', 'leave good', 'leave home', 'leave house', 'leave person', 'leave work', 'lecture', 'leg', 'leg stomach', 'leg stomach pain', 'legacy', 'legal', 'legalize', 'legalize help', 'legit', 'lemme', 'lemon', 'lend', 'lend help', 'lend help hand', 'lent', 'less', 'less anxiety', 'less anxious', 'less people', 'lessen', 'lessen anxiety', 'lesson', 'lesson get', 'let', 'let add', 'let alone', 'let also', 'let anxiety', 'let anxiety consume', 'let anxiety get', 'let anxiety take', 'let depression', 'let depression anxiety', 'let fear', 'let forget', 'let get', 'let go', 'let go sleep', 'let hope', 'let know', 'let make', 'let people', 'let remember', 'let see', 'let see beautiful', 'let take', 'let tell', 'let use', 'let worry', 'letter', 'level', 'level anxiety', 'level anxiety fear', 'level anxiety stress', 'level drop', 'level go', 'level head', 'level help', 'level high', 'level keep', 'level pic_twitter', 'level pic_twitter com', 'level rise', 'level roof', 'level stress', 'level stress anxiety', 'level time', 'level time high', 'level today', 'lie', 'lie anxiety', 'lie feel', 'life', 'life anxiety', 'life change', 'life even', 'life find', 'life fine', 'life go', 'life great', 'life happen', 'life know', 'life pic_twitter', 'life pic_twitter com', 'life really', 'life right', 'life say', 'life sure', 'life work', 'lift', 'light', 'light candle', 'light day', 'light situation', 'like', 'like anxiety', 'likely', 'likely anxiety', 'likely experience', 'likely lead', 'lil', 'limit', 'limit exposure', 'limit news', 'limited', 'line', 'lining', 'link', 'list', 'list give', 'list give anxiety', 'list thing', 'listen', 'listen lot', 'listen music', 'listen need', 'listen voice', 'listening', 'literally', 'literally almost', 'literally anxiety', 'literally day', 'literally give', 'literally give anxiety', 'literally leave', 'literally make', 'literally sleep', 'literally take', 'literally thing', 'little', 'little anxiety', 'little bit', 'little bit help', 'little give', 'little help', 'little less', 'little much', 'little sleep', 'little thing', 'live', 'live alone', 'live anxiety', 'live anxiety depression', 'live constant', 'live constant state', 'live country', 'live day', 'live day day', 'live fear', 'live life', 'live long', 'live online', 'live show', 'live tiny', 'live uncertainty', 'live world', 'live year', 'living', 'lmao', 'lmaoo', 'lmfao', 'load', 'loaf', 'loan', 'local', 'local level', 'location', 'lock', 'lockdown', 'logical', 'logistic', 'lol', 'loneliness', 'loneliness come', 'lonely', 'long', 'long anxiety', 'long anxiety attack', 'long break', 'long last', 'long story', 'long story short', 'long term', 'long time', 'long wait', 'long walk', 'long way', 'look', 'look anxiety', 'look business', 'look calm', 'look forward', 'look good', 'look great', 'look guidance', 'look mirror', 'look much', 'look news', 'look pretty', 'look support', 'loom', 'loop', 'loose', 'loosen', 'loosen skin', 'loosen skin blood', 'lose', 'lose income', 'lose job', 'lose job pandemic', 'lose mind', 'lose mom', 'lose much', 'lose pound', 'loss', 'lot', 'lot anxiety', 'lot anxiety fear', 'lot anxiety go', 'lot anxiety right', 'lot anxiety today', 'lot anxiety virus', 'lot bad', 'lot easy', 'lot fear', 'lot fear anxiety', 'lot go', 'lot good', 'lot joke', 'lot people', 'lot people feel', 'lot public', 'lot stress', 'lot stress anxiety', 'lot support', 'lot take', 'lot time', 'lot uncertainty', 'lot walk', 'lot well', 'lot work', 'loud', 'love', 'love always', 'love always parasympathetic', 'love anxiety', 'love blind', 'love calm', 'love calm community', 'love care', 'love family', 'love feel', 'love go', 'love help', 'love look', 'love much', 'love need', 'love other', 'love pic_twitter', 'love pic_twitter com', 'love stay_safe', 'love support', 'love time', 'love virtually', 'love virtually teach', 'love watch', 'loved_one', 'loved_one keep', 'lovely', 'low', 'low anxiety', 'low grade', 'low grade fever', 'low help', 'low income', 'low key', 'low point', 'low point mental', 'low vibration', 'lower', 'lower anxiety', 'luck', 'luckily', 'lucky', 'lunch', 'lung', 'lung hurt', 'lysol', 'mad', 'mad anxiety', 'madness', 'madness anxiety', 'magic', 'mail', 'main', 'main source', 'main thing', 'maintain', 'major', 'major anxiety', 'majority', 'make', 'make anxiety', 'make anxiety bad', 'make anxiety go', 'make anxiety much', 'make art', 'make bad', 'make change', 'make cry', 'make day', 'make decision', 'make difficult', 'make doctor', 'make extra', 'make feel', 'make feel well', 'make food', 'make fun', 'make get', 'make glad', 'make glad proverb', 'make happy', 'make hard', 'make heart', 'make heart sing', 'make joke', 'make kid', 'make kid feel', 'make last', 'make laugh', 'make light', 'make light situation', 'make lot', 'make mad', 'make make', 'make mistake', 'make much', 'make much bad', 'make music', 'make nauseous', 'make pandemic', 'make panic', 'make phone', 'make phone call', 'make physically', 'make playlist', 'make sense', 'make short', 'make sick', 'make smile', 'make strong', 'make sure', 'make sure check', 'make sure enough', 'make sure get', 'make thing', 'make thing bad', 'make think', 'make time', 'make try', 'make want', 'make week', 'make well', 'makeup', 'makeup day', 'making', 'making feel', 'making think', 'male', 'mama', 'mammogram', 'man', 'man anxiety', 'man give', 'man give anxiety', 'manage', 'manage anxiety', 'manage anxiety coronavirus', 'manage anxiety covid', 'manage anxiety feel', 'manage anxiety stress', 'manage coronavirus', 'manage covid', 'manage covid anxiety', 'manage relate', 'manage relate anxiety', 'manage stress', 'manage stress anxiety', 'manageable', 'management', 'manager', 'mandate', 'manifest', 'manifest physically', 'many', 'many anxiety', 'many beautiful', 'many deal', 'many emotion', 'many experience', 'many family', 'many feel', 'many feeling', 'many friend', 'many other', 'many people', 'many people experience', 'many people feel', 'many question', 'many suffer', 'many thing', 'many time', 'marathon', 'marathon next', 'marble', 'marine', 'mark', 'market', 'market cause', 'market cause anxiety', 'marry', 'martial', 'mask', 'mass', 'mass hysteria', 'massage', 'massive', 'massive amount', 'massive amount anxiety', 'massive anxiety', 'master', 'masturbate', 'match', 'material', 'matter', 'matter much', 'maturity', 'maybe', 'maybe anxiety', 'maybe help', 'maybe little', 'maybe maybe', 'maybe need', 'maybe try', 'meal', 'mean', 'mean anxiety', 'mean get', 'mean go', 'mean lot', 'mean people', 'mean social', 'mean social isolation', 'mean spend', 'meaningful', 'meanwhile', 'meanwhile anxiety', 'measure', 'meat', 'mechanism', 'med', 'med anxiety', 'med calm', 'med first', 'med good', 'med refill', 'med work', 'mediate', 'medical', 'medical school', 'medical school recommend', 'medicate', 'medication', 'medication anxiety', 'medicine', 'medicine help', 'meditate', 'meditating', 'meditation', 'meditation app', 'meditation help', 'meditation michigan', 'medium', 'medium coverage', 'medium outlet', 'meet', 'meet new', 'meeting', 'meeting tomorrow', 'meeting work', 'mega', 'mega anxiety', 'melt', 'meltdown', 'member', 'meme', 'memory', 'mental', 'mental behavior', 'mental behavior low', 'mental break', 'mental breakdown', 'mental emotional', 'mental illness', 'mental physical', 'mental retardation', 'mental state', 'mental_health', 'mental_health also', 'mental_health issue', 'mental_illness', 'mentalhealth', 'mentalhealthpic', 'mentalillness', 'mentally', 'mentally healthy', 'mention', 'mentor', 'mentor join', 'mentor join popular', 'mess', 'mess anxiety', 'message', 'messy', 'method', 'mf', 'michigan', 'mid', 'middle', 'middle ground', 'middle night', 'midnight', 'midst', 'migraine', 'migraine anxiety', 'mild', 'mild anxiety', 'mild depression', 'mile', 'milk', 'millenial', 'millennial', 'million', 'min', 'mind', 'mind anxiety', 'mind body', 'mind business', 'mind busy', 'mind keep', 'mind let', 'mind need', 'mind soul', 'mind thing', 'minded', 'mindful', 'mindful breathing', 'mindfulness', 'mindfulness anxiety', 'mindfulness care', 'mindfulness care peace', 'mindset', 'mindset spread', 'mindset spread love', 'mine', 'mini', 'minimal', 'minimize', 'minimize anxiety', 'minimum', 'minute', 'minute get', 'minute go', 'minute meditation', 'minute minute', 'minute new', 'minute new link', 'minute video', 'mirror', 'miserable', 'misinformation', 'miss', 'miss much', 'mistake', 'mistake anxiety', 'mitigate', 'mix', 'mixed', 'mixed feeling', 'mj', 'mode', 'model', 'moderate', 'modern', 'mom', 'mom anxiety', 'mom ask', 'moment', 'moment anxiety', 'moment calm', 'moment joy', 'moment joy moment', 'moment moment', 'momlife', 'mommy', 'money', 'money anxiety', 'money bank', 'money go', 'money need', 'monitor', 'month', 'month ago', 'month anxiety', 'month anxiety level', 'month anxiety totally', 'month old', 'month pregnant', 'month really', 'month think', 'monthly', 'mood', 'mood reduce', 'morale', 'morning', 'morning anxiety', 'morning get', 'morning go', 'morning happy', 'morning hope', 'morning let', 'morning make', 'moron', 'mortgage', 'mostly', 'mother', 'motivation', 'mount', 'mount neighbor', 'mount neighbor lend', 'mouth', 'move', 'move back', 'movie', 'movie contagion', 'movie give', 'movie give anxiety', 'movie good', 'movie tv', 'movie tv show', 'msm', 'much', 'much anxiety', 'much anxiety fear', 'much anxiety feel', 'much anxiety get', 'much anxiety go', 'much anxiety right', 'much anxiety today', 'much anxiety try', 'much anxiety watch', 'much anxiety world', 'much anyway', 'much appreciate', 'much bad', 'much cause', 'much different', 'much fear', 'much fear anxiety', 'much get', 'much go', 'much less', 'much long', 'much love', 'much make', 'much money', 'much much', 'much need', 'much physical', 'much possible', 'much rather', 'much room', 'much share', 'much sleep', 'much social', 'much social anxiety', 'much soon', 'much stress', 'much stress anxiety', 'much tell', 'much time', 'much tweet', 'much want', 'much well', 'much worry', 'mullen', 'multiple', 'multiple time', 'multiple time day', 'mundane', 'murder', 'muscle', 'music', 'music recommendation', 'musician', 'mute', 'nail', 'name', 'nap', 'narcissistic', 'nasty', 'nate', 'nation', 'nation anxiety', 'national', 'national anxiety', 'natural', 'naturally', 'nature', 'nausea', 'nauseous', 'navigate', 'navigate time', 'nearly', 'necessarily', 'necessary', 'neck', 'neck get', 'need', 'need also', 'need anxiety', 'need buy', 'need change', 'need chat', 'need cry', 'need distraction', 'need drink', 'need focus', 'need food', 'need get', 'need get away', 'need give', 'need go', 'need go store', 'need happen', 'need hear', 'need help', 'need know', 'need let', 'need life', 'need listen', 'need make', 'need med', 'need mom', 'need move', 'need phrase', 'need right', 'need share', 'need stay', 'need stop', 'need support', 'need talk', 'need text', 'need therapist', 'need time', 'need today', 'need understand', 'need understand people', 'need utilize', 'need volunteer', 'need work', 'needle', 'negative', 'negative energy', 'negatively', 'negativity', 'negativity anxiety', 'neighbor', 'neighbor lend', 'neighbor lend help', 'neighborhood', 'nerve', 'nerve anxiety', 'nervous', 'nervous anxious', 'nervous work', 'nervous wreck', 'nervousness', 'netflix', 'network', 'never', 'never bad', 'never experience', 'never experience much', 'never fail', 'never feel', 'never feel anxiety', 'never get', 'never good', 'never lose', 'never reason', 'never see', 'never stop', 'never talk', 'never think', 'new', 'new anxiety', 'new anxiety med', 'new information', 'new level', 'new life', 'new link', 'new med', 'new music', 'new norm', 'new normal', 'new podcast', 'new recipe', 'new rule', 'new rule raise', 'new territory', 'new way', 'new world', 'new yorker', 'new_york', 'newborn', 'newly', 'news', 'news anxiety', 'news anxiety roof', 'news cycle', 'news feel', 'news get', 'news give', 'news give anxiety', 'news go', 'news make', 'news overload', 'news program', 'news program country', 'news say', 'news social_media', 'newsletter', 'next', 'next day', 'next month', 'next project', 'next time', 'next two_week', 'next week', 'next week know', 'next year', 'nice', 'nice anxiety', 'nice get', 'nice meet', 'nice people', 'nice read', 'nice walk', 'nice way', 'niece', 'night', 'night anxiety', 'night feel', 'night friend', 'night long', 'night pic_twitter', 'night pic_twitter com', 'night sleep', 'night think', 'night week', 'nightly', 'nightly anxiety', 'nightmare', 'niv', 'niv pic_twitter', 'niv pic_twitter com', 'noise', 'non', 'none', 'nonessential', 'nonstop', 'nope', 'norm', 'normal', 'normal anxiety', 'normal day', 'normal earthquake', 'normal feel', 'normal shit', 'normalcy', 'normality', 'normalize', 'normally', 'normally anxiety', 'nose', 'notch', 'note', 'notice', 'notification', 'notification mute', 'notion', 'nowhere', 'npi', 'npi number', 'numb', 'number', 'number anxiety', 'number positive', 'number time', 'numerous', 'nurse', 'nurture', 'nut', 'nutrition', 'nutrition point', 'nutrition point anxiety', 'object', 'obligation', 'oblivious', 'observe', 'obsess', 'obsessive', 'obsessive anxiety', 'obsessive anxiety think', 'obvious', 'obvious anxiety', 'obvious reason', 'obviously', 'occasional', 'occasionally', 'occupy', 'occur', 'ocd', 'odd', 'oddly', 'offer', 'offer relief', 'offer support', 'offering', 'office', 'office close', 'office today', 'officer', 'official', 'officially', 'officially close', 'often', 'often ask', 'often cause', 'oil', 'ok', 'okay', 'ol', 'old', 'old anxiety', 'old friend', 'omfg', 'omg', 'one', 'one get', 'one get anxiety', 'online', 'online get', 'online learning', 'online mean', 'online shopping', 'online_classe', 'onmyblock', 'open', 'open body', 'open body shame', 'open need', 'operate', 'operation', 'operational', 'opinion', 'opportunity', 'opposite', 'opt', 'option', 'orchid', 'ordeal', 'order', 'order get', 'organization', 'organize', 'organizing', 'orient', 'original', 'other', 'other anxiety', 'other keep', 'other let', 'otherwise', 'otherwise anxiety', 'otherwise anxiety depression', 'ounce', 'outbreak', 'outbreak give', 'outbreak sure', 'outcome', 'outdoor', 'outdoors', 'outing', 'outlet', 'outlook', 'outside', 'outta', 'outta hand', 'overall', 'overcome', 'overcome anxiety', 'overcome anxiety tone', 'overdose', 'overdrive', 'overload', 'overload right', 'overnight', 'overreact', 'overthink', 'overthink anxiety', 'overthinke', 'overthinke anxiety', 'overwhelm', 'overwhelm anxiety', 'overwhelmed', 'overwhelmed anxiety', 'overwhelmed emotion', 'overwhelmed emotion sadness', 'overwhelming', 'overwhelming anxiety', 'overwhelming cause', 'overwhelming feeling', 'overwhelming feeling anxiety', 'owner', 'pace', 'pack', 'package', 'packet', 'page', 'pain', 'pain anxiety', 'pain black', 'pain black tarry', 'pain depression', 'pain time', 'pain usually', 'paint', 'pair', 'palpitation', 'pandemic', 'pandemic anxiety', 'pandemic give', 'pandemic give anxiety', 'pandemic news', 'pandemic people', 'pandemic pic_twitter', 'pandemic pic_twitter com', 'pandemic take', 'pandemic thing', 'pandemic worried', 'panic', 'panic anxiety', 'panic anxiety attack', 'panic attack', 'panic attack anxiety', 'panic attack depression', 'panic attack get', 'panic buy', 'panic buying', 'panic create', 'panic disorder', 'panic else', 'panic fear', 'panic give', 'panic glad', 'panic know', 'panic lose', 'panic make', 'panic really', 'panic stock', 'panic sudden', 'panic thing', 'panicbuye', 'panick', 'panicked', 'pant', 'paper', 'paper bag', 'paralyze', 'paralyze anxiety', 'paranoia', 'paranoid', 'parasympathetic', 'parasympathetic rest', 'parasympathetic rest restore', 'parent', 'parent child', 'parent staff', 'parenting', 'park', 'parking', 'parking lot', 'part', 'part anxiety', 'part brain', 'part help', 'part life', 'particular', 'particularly', 'partly', 'partly anxiety', 'partner', 'party', 'pass', 'pass anxiety', 'pass away', 'pass hope', 'pass moment', 'pass take', 'pass understand', 'passion', 'passionate', 'past', 'past day', 'past month', 'pasta', 'paste', 'pastor', 'patch', 'path', 'pathetic', 'patience', 'patient', 'patrick', 'patrick day', 'patriotic', 'pattern', 'pause', 'pay', 'pay anxiety', 'pay attention', 'pay bill', 'pay get', 'pay rent', 'pay time', 'pay work', 'paycheck', 'payment', 'payment month', 'peace', 'peace anxiety', 'peace anxiety repost', 'peace mind', 'peace pass', 'peace pass understand', 'peace pic_twitter', 'peace pic_twitter com', 'peace price', 'peace price tag', 'peaceful', 'peak', 'peak anxiety', 'peaking', 'pee', 'peel', 'peel loosen', 'peel loosen skin', 'peep', 'pen', 'pende', 'penny', 'people', 'people act', 'people actually', 'people age', 'people alone', 'people already', 'people also', 'people anxiety', 'people anxiety depression', 'people anxiety feel', 'people anxiety issue', 'people around', 'people bad', 'people boat', 'people buy', 'people call', 'people cause', 'people come', 'people deal', 'people deal anxiety', 'people especially', 'people even', 'people experience', 'people faith', 'people feel', 'people feel coronavirus', 'people feel way', 'people fine', 'people get', 'people give', 'people give anxiety', 'people go', 'people go bonker', 'people good', 'people handle', 'people health', 'people health anxiety', 'people help', 'people hoard', 'people hoard impulse', 'people issue', 'people know', 'people leave', 'people leave fuck', 'people live', 'people need', 'people nice', 'people panic', 'people pic_twitter', 'people pic_twitter com', 'people post', 'people put', 'people really', 'people see', 'people share', 'people sick', 'people social', 'people social anxiety', 'people start', 'people stay', 'people stay home', 'people still', 'people stop', 'people store', 'people stress', 'people stress anxiety', 'people struggle', 'people suffer', 'people take', 'people take seriously', 'people talk', 'people talk anxiety', 'people text', 'people think', 'people time', 'people try', 'people try get', 'people twitter', 'people understand', 'people use', 'people ve', 'people wait', 'people way', 'people work', 'people worry', 'pepperoni', 'pepperoni daughter', 'pepperoni daughter sole', 'percent', 'percentage', 'percentage control', 'perfect', 'perfect time', 'perfectly', 'performance', 'performance anxiety', 'perhaps', 'period', 'periscope', 'permission', 'pero', 'pero respiro', 'persistent', 'person', 'person anxiety', 'person come', 'person feel', 'personal', 'personal life', 'personality', 'personally', 'personally try', 'perspective', 'pet', 'pet pic', 'pete', 'petty', 'pharmacy', 'phase', 'phenomenon', 'philly', 'phone', 'phone anxiety', 'phone appointment', 'phone call', 'phone checking', 'phone checking know', 'phone die', 'phone notification', 'photo', 'phrase', 'physical', 'physical activity', 'physical contact', 'physical effect', 'physical exercise', 'physical health', 'physically', 'pic', 'pic give', 'pic give anxiety', 'pic_twitter', 'pic_twitter com', 'pic_twitter com mj', 'pick', 'pick anxiety', 'pick dog', 'pick phone', 'pick phone checking', 'pick speed', 'picture', 'piece', 'pile', 'pill', 'pillow', 'pin', 'pinch', 'pink', 'piss', 'pit', 'pizza', 'place', 'place anxiety', 'place feel', 'place need', 'place talk', 'plague', 'plague anxiety', 'plain', 'plan', 'plane', 'planet', 'planning', 'plant', 'plant medicine', 'platform', 'platitude', 'play', 'play anxiety', 'play asthma', 'player', 'playing', 'playlist', 'please', 'pleasure', 'plenty', 'plug', 'pm', 'pocket', 'podcast', 'point', 'point anxiety', 'point mental', 'point mental retardation', 'pointless', 'police', 'policy', 'politic', 'political', 'pollen', 'pollution', 'ponder', 'pool', 'poop', 'poor', 'pop', 'popular', 'popular news', 'popular news program', 'population', 'position', 'positive', 'positive healthy', 'positive life', 'positive man', 'positive thing', 'positive vibe', 'positively', 'positivity', 'possibility', 'possible', 'possible feel', 'possibly', 'possibly go', 'post', 'post comment', 'post part', 'post sing', 'postpartum', 'postpartum depression', 'postpone', 'posture', 'pot', 'potential', 'potentially', 'potus', 'pound', 'pound beer', 'pour', 'power', 'powerful', 'powerful tool', 'ppl', 'ppl think', 'practical', 'practical self', 'practical self care', 'practice', 'practice breathing', 'practice social_distance', 'praise', 'praise anyway', 'praise anyway tired', 'praise day', 'pray', 'pray prepare', 'pray shut', 'pray shut pepperoni', 'pray stay', 'pray work', 'prayer', 'prayer fear', 'prayer go', 'pre', 'precaution', 'precious', 'prefer', 'pregnancy', 'pregnant', 'prep', 'preparation', 'prepare', 'prepare social_distance', 'prepare whole', 'prepare whole life', 'prepared', 'preparedness', 'preppe', 'prescribe', 'prescribe anxiety', 'prescription', 'presence', 'presence anxiety', 'presence anxiety unavoidable', 'present', 'presentation', 'president', 'press', 'press conference', 'presser', 'pressure', 'pretend', 'pretty', 'pretty anxiety', 'pretty bad', 'pretty dry', 'pretty much', 'pretty sure', 'pretty sure anxiety', 'prevent', 'prevention', 'previous', 'previously', 'prey', 'price', 'price tag', 'price tag new', 'primary', 'prime', 'principal', 'print', 'printer', 'prior', 'prioritize', 'prioritize resource', 'prioritize resource help', 'priority', 'prison', 'prison anxiety', 'private', 'privilege', 'privileged', 'pro', 'proactive', 'proactively', 'probably', 'probably anxiety', 'probably go', 'probably good', 'problem', 'problem anxietie', 'problem depression', 'problem work', 'procedure', 'proceed', 'process', 'process information', 'produce', 'produce anxiety', 'product', 'product help', 'productive', 'productive work', 'productivity', 'professional', 'professionalism', 'professor', 'profile', 'profit', 'profound', 'program', 'program country', 'program country morning', 'progress', 'project', 'promise', 'promise go', 'promote', 'prompt', 'prone', 'propaganda', 'proper', 'proper precaution', 'property', 'protect', 'proud', 'prove', 'proven_solution', 'proven_solution contact', 'proverb', 'provide', 'provide people', 'provider', 'provoke', 'provoke time', 'psa', 'psalm', 'psalm niv', 'psalm niv pic_twitter', 'psalm pic_twitter', 'psalm pic_twitter com', 'psilocybin', 'psychiatrist', 'psychiatry', 'psychological', 'psychologist', 'psychologist counseling', 'pt', 'ptsd', 'ptsd depression', 'ptsd depression anxiety', 'ptsdpic', 'public', 'public anxiety', 'public area', 'public health', 'public place', 'publichealth', 'publicly', 'publish', 'publish article', 'publix', 'puke', 'puke ass', 'pull', 'punk', 'puppy', 'puppy edible', 'purchase', 'pure', 'purpose', 'purr', 'push', 'push right', 'put', 'put anxiety', 'put anxiety ease', 'put back', 'put health', 'put heart', 'put risk', 'put sleep', 'put smile', 'put smile face', 'put stop', 'put together', 'pvc', 'pvc tubing', 'quake', 'quality', 'quarantine', 'quarantine anxiety', 'quarantine anxiety real', 'quarantine big', 'quarantine buddy', 'quarantine go', 'quarantine good', 'quarantine isolation', 'quarantine routine', 'quarantine thing', 'quarantine think', 'quarantinelife', 'quarentine', 'quarentinelife', 'quasimodo', 'queen', 'quell', 'quell anxiety', 'question', 'question anxiety', 'quick', 'quick keep', 'quick keep pick', 'quick tip', 'quickly', 'quiet', 'quiet mind', 'quit', 'quit make', 'quite', 'quite bit', 'quiz', 'quote', 'rabbi', 'rabbit', 'rabbit hole', 'race', 'racism', 'radio', 'rage', 'rain', 'rainbow', 'rainy', 'raise', 'raise anxiety', 'raise anxiety cost', 'raleigh', 'ramble', 'ramp', 'random', 'range', 'rapid', 'rapture', 'rare', 'rarely', 'rate', 'rate people', 'rather', 'rather keep', 'ration', 'rational', 'ray', 'rd', 're', 're alone', 're feel', 're go', 're live', 're well', 'reach', 'reach family', 'reach family friend', 'reach friend', 'reach people', 'reach support', 'react', 'react anxiety', 'reaction', 'read', 'read anxiety', 'read article', 'read book', 'read good', 'read help', 'read news', 'read people', 'read tweet', 'reading', 'ready', 'ready go', 'ready leave', 'ready respond', 'real', 'real anxiety', 'real bad', 'real concern', 'real even', 'real fear', 'real life', 'real name', 'real pic_twitter', 'real pic_twitter com', 'real self', 'real shit', 'real talk', 'real thing', 'real time', 'real try', 'real try laugh', 'realistic', 'reality', 'realization', 'realize', 'realize twitter', 'really', 'really anxiety', 'really anxious', 'really bad', 'really bad anxiety', 'really bad depression', 'really bad separation', 'really cool', 'really feel', 'really freak', 'really fuck', 'really get', 'really give', 'really give anxiety', 'really glad', 'really go', 'really good', 'really great', 'really guy', 'really hard', 'really help', 'really help anxiety', 'really helpful', 'really high', 'really hit', 'really hope', 'really know', 'really make', 'really make anxiety', 'really mess', 'really need', 'really need understand', 'really put', 'really really', 'really send', 'really send anxiety', 'really start', 'really stress', 'really struggle', 'really suck', 'really take', 'really think', 'really tough', 'really true', 'really understand', 'really use', 'really use prayer', 'really want', 'really wish', 'really work', 'reason', 'reason able', 'reason anxiety', 'reason anxious', 'reason come', 'reason go', 'reason still', 'reason stop', 'reason take', 'reassurance', 'reassure', 'reassure kid', 'recall', 'recap', 'receive', 'recent', 'recently', 'recession', 'recipe', 'recognize', 'recognize anxiety', 'recommend', 'recommend yoga', 'recommend yoga deal', 'recommendation', 'record', 'recording', 'recover', 'recovery', 'recovery woman', 'red', 'reddit', 'reduce', 'reduce anxiety', 'reduce anxiety depression', 'reduce anxiety pic_twitter', 'reduce public', 'reduce stress', 'reduce stress anxiety', 'reducer', 'reduction', 'reference', 'refill', 'reflect', 'reflection', 'reflux', 'refocus', 'refuge', 'refuse', 'regard', 'regardless', 'region', 'register', 'regular', 'regularly', 'regulate', 'rejoice', 'relatable', 'relate', 'relate anxiety', 'related', 'related anxiety', 'relationship', 'relative', 'relatively', 'relax', 'relax anxiety', 'relaxation', 'relaxed', 'release', 'release anxiety', 'release endorphin', 'relevant', 'reliable', 'relief', 'relief anxiety', 'relief pic_twitter', 'relief pic_twitter com', 'relief stock', 'relief work', 'relieve', 'relieve anxiety', 'relieve stress', 'relieve stress anxiety', 'relieved', 'religion', 'rely', 'remain', 'remain calm', 'remain hopeful', 'remainder', 'remark', 'remarkable', 'remedy', 'remember', 'remember feel', 'remember kind', 'remember think', 'remember use', 'remind', 'remind connect', 'remind connect human', 'reminder', 'reminder check', 'reminder take', 'reminder today', 'remote', 'remote work', 'remotely', 'remove', 'rent', 'reopen', 'repeat', 'repeatedly', 'replace', 'reply', 'report', 'repost', 'request', 'require', 'reschedule', 'rescue', 'research', 'residency', 'resident', 'resilience', 'resiliency', 'resilient', 'resist', 'resolution', 'resolve', 'resolve anxiety', 'resource', 'resource help', 'resource help manage', 'respect', 'respiratory', 'respiro', 'respiro write', 'respite', 'respond', 'response', 'response go', 'responsible', 'rest', 'rest restore', 'rest restore love', 'rest semester', 'rest week', 'restaurant', 'restaurant bar', 'restore', 'restore love', 'restore love calm', 'restriction', 'result', 'retail', 'retardation', 'return', 'return normal', 'rev', 'reveal', 'review', 'reviewer', 'reward', 'rice', 'rich', 'rid', 'rid anxiety', 'ridden', 'riddled', 'ride', 'ride anxiety', 'ride home', 'ride time', 'ridiculous', 'right', 'right also', 'right anxiety', 'right anxiety time', 'right bad', 'right cause', 'right covid', 'right feel', 'right get', 'right get stay', 'right give', 'right go', 'right hard', 'right help', 'right imagine', 'right keep', 'right know', 'right life', 'right little', 'right look', 'right make', 'right move', 'right pic_twitter', 'right pic_twitter com', 'right pure', 'right sorry', 'right stress', 'right stress anxiety', 'right thing', 'right time', 'right work', 'ring', 'rip', 'rise', 'rise anxiety', 'rise fear', 'rise fear anxiety', 'risk', 'risk family', 'risk people', 'risk really', 'risky', 'ritual', 'rly', 'roadtrip', 'rob', 'rock', 'rocket', 'role', 'roll', 'roller', 'rollercoaster', 'rona', 'rona anxiety', 'roof', 'roof damn', 'roof day', 'roof haha', 'roof home', 'roof know', 'roof last', 'roof lately', 'roof lawd', 'roof let', 'roof need', 'roof right', 'roof think', 'roof today', 'roof try', 'roof want', 'roof work', 'room', 'room find', 'roommate', 'root', 'rose', 'rosemary', 'rosemary orchid', 'rough', 'rough time', 'round', 'round quarantine', 'route', 'routine', 'routine anxiety', 'routine get', 'routine gym', 'routine important', 'routine keep', 'row', 'rt', 'ruin', 'ruin life', 'rule', 'rule raise', 'rule raise anxiety', 'rule world', 'rumor', 'run', 'run anxiety', 'run away', 'run day', 'run good', 'run high', 'run supply', 'run today', 'run today take', 'run toilet_pap', 'running', 'running help', 'runny', 'runny nose', 'rush', 'rutten', 'sad', 'sad anxious', 'sadly', 'sadness', 'sadness depression', 'sadness depression anxiety', 'sadness feel', 'safe', 'safe anxiety', 'safe healthy', 'safe help', 'safe space', 'safety', 'sage', 'sage remove', 'saint', 'saint day', 'sake', 'salary', 'sale', 'salon', 'salt', 'sammich', 'sand', 'sandwich', 'sane', 'sanitize', 'sanity', 'save', 'save life', 'saving', 'saw', 'say', 'say add', 'say anxiety', 'say deal', 'say end', 'say especially', 'say feel', 'say get', 'say good', 'say great', 'say little', 'say need', 'say never', 'say really', 'say spend', 'say thank', 'say thing', 'say think', 'say want', 'say worry', 'scale', 'scam', 'scan', 'scan today', 'scarcity', 'scare', 'scared', 'scared go', 'scared people', 'scared time', 'scared virus', 'scary', 'scary anxiety', 'scary especially', 'scary little', 'scary people', 'scary right', 'scary time', 'scenario', 'scene', 'schedule', 'schedule time', 'school', 'school close', 'school closure', 'school community', 'school counselor', 'school day', 'school education', 'school really', 'school recommend', 'school recommend yoga', 'school shut', 'school time', 'school week', 'school year', 'science', 'science base', 'science base strategy', 'score', 'scratch', 'scratchy', 'scream', 'scream get', 'scream need', 'screen', 'screening', 'screw', 'script', 'scripture', 'scripture ease', 'scripture ease anxiety', 'scroll', 'scrub', 'sea', 'search', 'season', 'season anxiety', 'seasonal', 'seasonal allergy', 'seat', 'second', 'second away', 'second hand', 'second hand washing', 'second iamsoblesse', 'second iamsoblesse tpforsale', 'second verse', 'second week', 'secret', 'secretly', 'section', 'secure', 'security', 'see', 'see anxiety', 'see beautiful', 'see beautiful however', 'see day', 'see empty', 'see empty shelf', 'see friend', 'see get', 'see go', 'see good', 'see hear', 'see know', 'see last', 'see long', 'see minute', 'see morning', 'see much', 'see news', 'see opportunity', 'see people', 'see post', 'see soon', 'see student', 'see take', 'see therapist', 'see thing', 'see tonight', 'seek', 'seek help', 'seek make', 'seek make glad', 'seem', 'seem easy', 'seem good', 'seem job', 'seem right', 'segment', 'sel', 'selection', 'self', 'self anxiety', 'self care', 'self care exercise', 'self care time', 'self isolate', 'self love', 'self love care', 'self quarantine', 'self_isolation', 'self_isolation anxiety', 'self_isolation self', 'selfcare', 'selfish', 'selfquarantine', 'sell', 'semblance', 'semester', 'send', 'send anxiety', 'send good', 'send help', 'send home', 'send love', 'send photo', 'send well', 'senior', 'senior citizen', 'senior kitty', 'senior kitty swimmy', 'senior year', 'sense', 'sense anxiety', 'sense control', 'sense control buy', 'sense normalcy', 'sense people', 'sensitive', 'sentence', 'separate', 'separation', 'separation anxiety', 'separation anxiety go', 'separation anxiety help', 'separation anxiety hit', 'serenity', 'series', 'series help', 'serious', 'serious inquiry', 'seriously', 'seriously anxiety', 'seriously fuck', 'seriously hate', 'seriously think', 'seriousness', 'sermon', 'serotonin', 'serve', 'server', 'service', 'service industry', 'sesh', 'session', 'session today', 'set', 'set anxiety', 'set timer', 'setting', 'settle', 'several', 'several day', 'severe', 'severe anxiety', 'severe anxiety depression', 'severe anxiety feeling', 'severe anxiety understand', 'severe separation', 'severe separation anxiety', 'sex', 'shake', 'shake anxiety', 'shake cry', 'shaky', 'shallow', 'shame', 'shame anxiety', 'shamrock', 'shape', 'share', 'share anxiety', 'share covid', 'share experience', 'share fear', 'share need', 'share resource', 'sharing', 'shave', 'shed', 'sheep', 'sheer', 'sheet', 'shelf', 'shelter', 'shelter place', 'shelterinplace', 'sheriff', 'shift', 'shift anxiety', 'shine', 'shirt', 'shit', 'shit anxiety', 'shit cause', 'shit crazy', 'shit get', 'shit get real', 'shit give', 'shit give anxiety', 'shit go', 'shit hit', 'shit joke', 'shit make', 'shit make anxiety', 'shit scary', 'shit show', 'shitty', 'shock', 'shocked', 'shoe', 'shoot', 'shooting', 'shop', 'shop whole', 'shop whole food', 'shopper', 'shopping', 'short', 'short term', 'shortage', 'shortness', 'shortness breath', 'shortness breath anxiety', 'shortness breath chest', 'shortness breath cough', 'shortness breath covid', 'shortness breath high', 'shot', 'shoulder', 'shout', 'shoutout', 'show', 'show compassion', 'show day', 'show today', 'show watch', 'shower', 'shower leave', 'shut', 'shut anxiety', 'shut pepperoni', 'shut pepperoni daughter', 'shutdown', 'shutitdown', 'shutitdown anxiety', 'sick', 'sick anxiety', 'sickness', 'side', 'side effect', 'side know', 'sidewalk', 'sigh', 'sight', 'sign', 'significant', 'significantly', 'silence', 'silent', 'silly', 'silver', 'silver lining', 'silverline', 'similar', 'similarly', 'simple', 'simple small', 'simple small write', 'simple time', 'simply', 'simulation', 'simultaneously', 'sincerely', 'sincerely hope', 'sing', 'sing virus', 'sing virus fear', 'singe', 'singe people', 'singing', 'single', 'single day', 'single time', 'singlehandedly', 'sink', 'sinus', 'sir', 'siren', 'siren go', 'sis', 'sister', 'sit', 'sit anxiety', 'sit anxiety attack', 'site', 'situation', 'situation control', 'situation crippling', 'situation feel', 'situation get', 'situation give', 'situation give much', 'situation good', 'situation make', 'situation need', 'situation really', 'situation world', 'skeptical', 'skill', 'skin', 'skin blood', 'skin blood urine', 'skip', 'sky', 'sky high', 'sky high go', 'sky rocket', 'skyrocket', 'slack', 'slash', 'slc', 'sleep', 'sleep aid', 'sleep anxiety', 'sleep anxiety pic_twitter', 'sleep anymore', 'sleep bring', 'sleep bring joy', 'sleep day', 'sleep due', 'sleep due anxiety', 'sleep early', 'sleep eat', 'sleep go', 'sleep hour', 'sleep mom', 'sleep much', 'sleep next', 'sleep night', 'sleep sleep', 'sleep take', 'sleep tonight', 'sleep wake', 'sleep week', 'sleep well', 'sleep worry', 'slice', 'slide', 'slight', 'slight anxiety', 'slightly', 'slip', 'slow', 'slow anxiety', 'slowly', 'slowly get', 'small', 'small business', 'small business owner', 'small space', 'small stuff', 'small win', 'small write', 'small write post', 'smart', 'smash', 'smell', 'smell thing', 'smell thing taste', 'smh', 'smile', 'smile face', 'smile make', 'smile matter', 'smile smile', 'smoke', 'smoke anxiety', 'smoking', 'smoking weed', 'snack', 'snap', 'snapchat', 'sneeze', 'sniffle', 'snuggle', 'soar', 'sob', 'sober', 'social', 'social anxiety', 'social anxiety also', 'social anxiety depression', 'social anxiety go', 'social anxiety know', 'social anxiety panic', 'social distance', 'social isolation', 'social_distance', 'social_distance anxiety', 'social_distance go', 'social_distance let', 'social_distance mean', 'social_distance mean social', 'social_distance necessary', 'social_distance thing', 'social_distance try', 'social_distance work', 'social_distancing', 'social_media', 'social_media anxiety', 'social_media anxiety roof', 'social_media feed', 'social_media make', 'social_media time', 'socialdistance', 'socialisolation', 'socialist', 'socialization', 'socialize', 'socially', 'socially distance', 'socially distant', 'socially isolate', 'societal', 'societal anxiety', 'society', 'soda', 'sofia', 'soft', 'sole', 'sole form', 'sole form nutrition', 'solely', 'solid', 'solo', 'solution', 'solve', 'somehow', 'sometime', 'sometimes', 'sometimes anxiety', 'sometimes get', 'somewhat', 'somewhat surreal', 'somewhat surreal turn', 'somewhere', 'son', 'song', 'song help', 'soo', 'soo much', 'soon', 'sooo', 'sooo much', 'sooo much anxiety', 'soooo', 'soooo much', 'soothe', 'soothe anxiety', 'sophisticated', 'sore', 'sore throat', 'sorry', 'sorry anxiety', 'sorry happen', 'sorry seem', 'sort', 'sort anxiety', 'sos', 'soul', 'soul crush', 'soul crush anxiety', 'soul psalm', 'soul psalm pic_twitter', 'soul take', 'sound', 'soundtrack', 'soup', 'sour', 'source', 'source anxiety', 'source income', 'sovereign', 'space', 'span', 'span corner', 'span corner earth', 'spare', 'spark', 'speak', 'speak anxiety', 'speak heart', 'speak help', 'special', 'special episode', 'special need', 'specie', 'specie span', 'specie span corner', 'specific', 'specifically', 'spectrum', 'spectrum eat', 'spectrum eat thing', 'speech', 'speed', 'spend', 'spend hour', 'spend last', 'spend lot', 'spend lot time', 'spend money', 'spend much', 'spend time', 'spend whole', 'spend year', 'spending', 'spending time', 'spider', 'spike', 'spike anxiety', 'spike anxiety depression', 'spin', 'spiral', 'spirit', 'spiritual', 'spite', 'sport', 'spot', 'spotlight', 'spouse', 'spread', 'spread anxiety', 'spread community', 'spread community mindset', 'spread covid', 'spread kindness', 'spread kindness spread', 'spread love', 'spread love always', 'spread spread', 'spread spread kindness', 'spread uncertainty', 'spread virus', 'spread worldwide', 'spring', 'spring break', 'sprinkle', 'stability', 'staff', 'stage', 'stair', 'stand', 'stand together', 'stand word', 'star', 'starbuck', 'stare', 'start', 'start anxiety', 'start cry', 'start daily', 'start day', 'start feel', 'start get', 'start get anxiety', 'start give', 'start go', 'start help', 'start hit', 'start kick', 'start meditate', 'start meditation', 'start new', 'start online', 'start realize', 'start see', 'start take', 'start talk', 'starve', 'stat', 'state', 'state anxiety', 'state panic', 'state test', 'state world', 'statement', 'station', 'statistic', 'status', 'statute', 'stay', 'stay anxiety', 'stay away', 'stay calm', 'stay calm stress', 'stay chill', 'stay connected', 'stay contact', 'stay focused', 'stay ground', 'stay healthy', 'stay home', 'stay home avoid', 'stay home get', 'stay home stay_safe', 'stay hour', 'stay indoor', 'stay informed', 'stay mentally', 'stay open', 'stay positive', 'stay safe', 'stay safe healthy', 'stay sane', 'stay state', 'stay tune', 'stay well', 'stay_safe', 'stay_safe stay', 'stay_safe stay healthy', 'stayhome', 'stayhomepic', 'staying', 'steal', 'stem', 'stem anxiety', 'step', 'step away', 'step back', 'step outside', 'stfu', 'stick', 'stick home', 'stick house', 'stiff', 'stigma', 'still', 'still anxiety', 'still awake', 'still come', 'still feel', 'still get', 'still go', 'still high', 'still leg', 'still open', 'still work', 'stimulate', 'stir', 'stir crazy', 'stl', 'stock', 'stock market', 'stocking', 'stockpile', 'stoke', 'stomach', 'stomach anxiety', 'stomach pain', 'stomach pain black', 'stone', 'stool', 'stool bleed', 'stool bleed gum', 'stool blur', 'stool blur decrease', 'stop', 'stop anxiety', 'stop cause', 'stop drink', 'stop midst', 'stop post', 'stop shake', 'stop spread', 'stop talk', 'stop tell', 'stop think', 'store', 'store get', 'store give', 'store normal', 'store open', 'store people', 'store see', 'store shelf', 'store still', 'store today', 'storm', 'story', 'story short', 'straight', 'straight anxiety', 'strain', 'strange', 'strange anxiety', 'strangely', 'stranger', 'strategy', 'strategy cope', 'strategy cope anxiety', 'stream', 'streaming', 'street', 'strength', 'strengthen', 'stress', 'stress anxiety', 'stress anxiety cause', 'stress anxiety due', 'stress anxiety especially', 'stress anxiety even', 'stress anxiety fear', 'stress anxiety feel', 'stress anxiety feeling', 'stress anxiety go', 'stress anxiety let', 'stress anxiety level', 'stress anxiety make', 'stress anxiety pic_twitter', 'stress anxiety relief', 'stress anxiety right', 'stress anxiety time', 'stress anxiety work', 'stress cause', 'stress covid', 'stress dream', 'stress eat', 'stress fear', 'stress feel', 'stress go', 'stress help', 'stress know', 'stress lead', 'stress level', 'stress many', 'stress much', 'stress pic_twitter', 'stress pic_twitter com', 'stress relief', 'stress right', 'stress stress', 'stress thing', 'stress time', 'stress unknown', 'stressed', 'stressful', 'stressful anxiety', 'stressful situation', 'stressful time', 'stressor', 'stressor anxiety', 'stretch', 'strike', 'strive', 'strong', 'strongly', 'structure', 'structure help', 'struggle', 'struggle anxiety', 'struggle anxiety depression', 'struggle anxiety panic', 'struggle deal', 'struggle depression', 'struggle depression anxiety', 'struggle find', 'struggle get', 'struggle isolation', 'struggle lot', 'stuck', 'stuck home', 'student', 'student anxiety', 'student dress', 'student experience', 'student know', 'student learn', 'student need', 'student service', 'student teacher', 'studio', 'study', 'stuff', 'stuff anxiety', 'stuff do', 'stuff get', 'stuff make', 'stuff scary', 'stupid', 'style', 'subconsciously', 'subliminal', 'submission', 'subscriber', 'subscription', 'subsequent', 'subside', 'substance', 'substance abuse', 'successful', 'succumb', 'suck', 'suck anxiety', 'sudden', 'suddenly', 'suffer', 'suffer anxiety', 'suffer anxiety depression', 'suffer anxiety due', 'suffer bad', 'suffer bad anxiety', 'suffer crippling', 'suffer depression', 'suffer depression anxiety', 'suffer depression severe', 'suffer many', 'suffer mental_illness', 'suffer really', 'suffer really bad', 'suffer severe', 'sufferer', 'suffering', 'sugar', 'suggest', 'suggest people', 'suggestion', 'suicidal', 'suicidal ideation', 'suicide', 'suit', 'sum', 'summer', 'sun', 'sunny', 'sunny day', 'sunrise', 'sunrise sunset', 'sunset', 'sunshine', 'super', 'super helpful', 'super high', 'supermarket', 'supplement', 'supply', 'supply anxiety', 'support', 'support anxiety', 'support group', 'support line', 'support serve', 'support therapy', 'support therapy counseling', 'supportive', 'suppose', 'suppose make', 'suppose phone', 'suppose tell', 'suppress', 'sure', 'sure anxiety', 'sure check', 'sure check friend', 'sure check people', 'sure else', 'sure enough', 'sure get', 'sure go', 'sure many', 'sure re', 'surely', 'surface', 'surgery', 'surprise', 'surprisingly', 'surreal', 'surreal turn', 'surreal turn event', 'surrender', 'surround', 'surround covid', 'surround familiar', 'surround people', 'surveillance', 'survival', 'survival mode', 'survive', 'survivor', 'suspect', 'suspend', 'suspend credit', 'suspend credit card', 'swear', 'sweat', 'sweat anxiety', 'sweeping', 'sweet', 'sweet friend', 'sweet girl', 'sweet senior', 'sweet senior kitty', 'swimmy', 'swirl', 'switch', 'symptom', 'symptom anxiety', 'system', 'table', 'tackle', 'tag', 'tag love', 'tag new', 'tag new rule', 'take', 'take advantage', 'take anti', 'take anxiety', 'take anxiety med', 'take anxiety turn', 'take anymore', 'take away', 'take back', 'take bath', 'take big', 'take big step', 'take break', 'take break anxiety', 'take break get', 'take care', 'take charge', 'take class', 'take control', 'take couple', 'take day', 'take day time', 'take deep', 'take deep breath', 'take deep_breath', 'take easy', 'take entire', 'take extra', 'take get', 'take good', 'take good care', 'take home', 'take long', 'take look', 'take lot', 'take med', 'take mind', 'take mind thing', 'take minute', 'take moment', 'take money', 'take much', 'take nap', 'take new', 'take online', 'take people', 'take picture', 'take precaution', 'take proper', 'take proper precaution', 'take quarantine', 'take run', 'take seriously', 'take shower', 'take social', 'take step', 'take step back', 'take temperature', 'take time', 'take time relax', 'take toll', 'take toll mental_health', 'take twitter', 'take twitter break', 'take virus', 'take virus seriously', 'take walk', 'take week', 'take whole', 'take_care', 'takeout', 'talented', 'talk', 'talk anxiety', 'talk child', 'talk cope', 'talk cope anxiety', 'talk covid', 'talk ever', 'talk ever need', 'talk go', 'talk guy', 'talk help', 'talk hour', 'talk kid', 'talk mom', 'talk much', 'talk people', 'talk phone', 'talk temporary', 'talk text', 'talk virus', 'talkwithus', 'tangible', 'tank', 'tap', 'target', 'tarry', 'tarry stool', 'tarry stool bleed', 'task', 'taste', 'tattoo', 'tax', 'tbh', 'tea', 'tea anxiety', 'teach', 'teach anxiety', 'teach intensive', 'teacher', 'teacher parent', 'teacher send', 'team', 'teammate', 'tear', 'tear diary', 'tear diary sometimes', 'technique', 'teen', 'teen anxiety', 'teenage', 'teenager', 'telehealth', 'teletherapy', 'tell', 'tell anxiety', 'tell bad', 'tell bad anxiety', 'tell covid', 'tell difference', 'tell get', 'tell go', 'tell manage', 'tell manage anxiety', 'tell people', 'tell people anxiety', 'tell really', 'tell really bad', 'tell right', 'tell time', 'tell work', 'temperature', 'temporarily', 'temporary', 'temptation', 'tenant', 'tend', 'tendency', 'tense', 'tension', 'tension anxiety', 'term', 'terminal', 'terrible', 'terrible anxiety', 'terrific', 'terrify', 'terrify go', 'terrifying', 'territory', 'terror', 'test', 'test anxiety', 'test come', 'test come back', 'test make', 'test need', 'test positive', 'test say', 'testing', 'testing center', 'testing go', 'text', 'text call', 'text facetime', 'text friend', 'text message', 'text talkwithus', 'texte', 'texte anxiety', 'thank', 'thank anxiety', 'thank ask', 'thank covid', 'thank enough', 'thank give', 'thank go', 'thank goodness', 'thank help', 'thank know', 'thank much', 'thank pic_twitter', 'thank pic_twitter com', 'thank share', 'thank stress', 'thank thank', 'thankful', 'thankfully', 'theme', 'theory', 'therapeutic', 'therapist', 'therapy', 'therapy anxiety', 'therapy help', 'therapy session', 'therefore', 'thermometer', 'thing', 'thing anxiety', 'thing bad', 'thing change', 'thing come', 'thing control', 'thing ease', 'thing ease anxiety', 'thing everyday', 'thing everyday pray', 'thing experience', 'thing feel', 'thing get', 'thing get bad', 'thing give', 'thing go', 'thing go anxiety', 'thing happen', 'thing hear', 'thing help', 'thing high', 'thing keep', 'thing life', 'thing literally', 'thing make', 'thing minimize', 'thing morning', 'thing need', 'thing normally', 'thing pretty', 'thing put', 'thing read', 'thing really', 'thing really need', 'thing right', 'thing say', 'thing see', 'thing see thing', 'thing set', 'thing smell', 'thing smell thing', 'thing start', 'thing stay', 'thing stress', 'thing take', 'thing taste', 'thing thing', 'thing think', 'thing time', 'thing worry', 'think', 'think anxiety', 'think anxiety get', 'think anxiety talk', 'think bad', 'think do', 'think fear', 'think fear anxiety', 'think feel', 'think friend', 'think get', 'think give', 'think go', 'think go die', 'think good', 'think great', 'think hate', 'think heart', 'think help', 'think kid', 'think know', 'think let', 'think lot', 'think much', 'think need', 'think panic', 'think positive', 'think problem', 'think say', 'think shit', 'think spiral', 'think take', 'think therapist', 'think think', 'think time', 'think today', 'think virus', 'thinker', 'thinking', 'third', 'tho', 'thoroughly', 'though', 'thought', 'thought anxiety', 'thought come', 'thought exactly', 'thought go', 'thought help', 'thought prayer', 'thought share', 'thoughtful', 'thousand', 'thread', 'thread deal', 'thread deal anxiety', 'thread today', 'threat', 'thrill', 'thrive', 'thrive anxiety', 'thrive anxiety fear', 'throat', 'throw', 'throw anxiety', 'thru', 'thunder', 'thur', 'thus', 'thx', 'tick', 'ticket', 'tickle', 'tie', 'tight', 'tight hard', 'tight hard breathe', 'tighten', 'tightness', 'tightness chest', 'tightness chest covid', 'time', 'time add', 'time alone', 'time also', 'time always', 'time anxiety', 'time anxiety attack', 'time anxiety disorder', 'time anxiety fear', 'time anxiety uncertainty', 'time assume', 'time back', 'time bad', 'time bring', 'time call', 'time cause', 'time cause anxiety', 'time check', 'time come', 'time community', 'time cough', 'time covid', 'time crisis', 'time day', 'time depression', 'time dog', 'time eat', 'time energy', 'time even', 'time ever', 'time experience', 'time family', 'time fear', 'time fear anxiety', 'time feel', 'time find', 'time first', 'time first time', 'time folk', 'time freak', 'time get', 'time get well', 'time give', 'time give anxiety', 'time go', 'time go quick', 'time good', 'time great', 'time hard', 'time heighten', 'time heighten anxiety', 'time help', 'time high', 'time high anxiety', 'time high right', 'time home', 'time hope', 'time important', 'time internet', 'time isolation', 'time joke', 'time know', 'time leave', 'time let', 'time life', 'time little', 'time live', 'time look', 'time lot', 'time love', 'time love virtually', 'time low', 'time make', 'time many', 'time moment', 'time much', 'time much anxiety', 'time need', 'time open', 'time panic', 'time pass', 'time people', 'time pic_twitter', 'time pic_twitter com', 'time prepare', 'time put', 'time relax', 'time remember', 'time right', 'time say', 'time scare', 'time scary', 'time see', 'time self', 'time social_distance', 'time soon', 'time space', 'time start', 'time stay', 'time still', 'time stock', 'time stop', 'time stress', 'time stress anxiety', 'time support', 'time take', 'time take walk', 'time talk', 'time tell', 'time think', 'time time', 'time today', 'time today anxiety', 'time together', 'time try', 'time uncertainty', 'time uncertainty anxiety', 'time understand', 'time virus', 'time watch', 'time week', 'time world', 'time write', 'time year', 'timeline', 'timer', 'tiny', 'tip', 'tip cope', 'tip deal', 'tip deal anxiety', 'tip help', 'tip help manage', 'tip manage', 'tip manage anxiety', 'tip take', 'tired', 'tit', 'today', 'today anxiety', 'today anxiety roof', 'today come', 'today consider', 'today consider pick', 'today covid', 'today day', 'today face', 'today feel', 'today find', 'today first', 'today first day', 'today get', 'today go', 'today go draw', 'today good', 'today hard', 'today host', 'today last', 'today let', 'today let know', 'today look', 'today lot', 'today people', 'today pic_twitter', 'today pic_twitter com', 'today remind', 'today sleep', 'today speak', 'today stop', 'today take', 'today thank', 'today weird', 'today work', 'together', 'together anxiety', 'together help', 'toilet_pap', 'toilet_pap anxiety', 'toilet_pap shortage', 'toilet_pap water', 'tolerate', 'toll', 'toll mental_health', 'tomorrow', 'tomorrow well', 'ton', 'ton anxiety', 'tone', 'tone proven_solution', 'tone proven_solution contact', 'tonight', 'tonight anxiety', 'tonight get', 'tonight go', 'tonight stop', 'tool', 'top', 'top anxiety', 'topic', 'tornado', 'total', 'totally', 'totally get', 'totally normal', 'touch', 'touch face', 'touching', 'tough', 'tough time', 'tough try', 'tour', 'tourist', 'tow', 'town', 'toxic', 'toy', 'toy story', 'tp', 'tpforsale', 'tpforsale yoga', 'tpforsale yoga meditation', 'track', 'trade', 'trader', 'trading', 'trading game', 'traffic', 'trail', 'train', 'trainer', 'training', 'transit', 'transition', 'trap', 'trash', 'trauma', 'trauma treatment', 'trauma treatment recovery', 'traumatic', 'travel', 'treadmill', 'treat', 'treatment', 'treatment recovery', 'treatment recovery woman', 'tree', 'tremble', 'tremendous', 'tremendous amount', 'tremendous amount anxiety', 'tremendous anxiety', 'trend', 'trial', 'trick', 'trigger', 'trigger anxiety', 'trigger social', 'trigger social anxiety', 'trip', 'trip ever', 'triple', 'trouble', 'trouble breathe', 'trouble breathe anxiety', 'truck', 'truck driver', 'true', 'true also', 'truly', 'trump', 'trumpvirus', 'trust', 'truth', 'try', 'try antidote', 'try antidote exercise', 'try anxiety', 'try calm', 'try cbd', 'try eat', 'try explain', 'try extremely', 'try extremely hard', 'try figure', 'try find', 'try focus', 'try freak', 'try gather', 'try get', 'try get sense', 'try give', 'try go', 'try good', 'try hard', 'try help', 'try help anxiety', 'try hold', 'try keep', 'try keep anxiety', 'try laugh', 'try laugh people', 'try less', 'try let', 'try let anxiety', 'try limit', 'try make', 'try new', 'try pull', 'try put', 'try reach', 'try really', 'try really hard', 'try remind', 'try see', 'try sleep', 'try stay', 'try stay calm', 'try stay positive', 'try stop', 'try think', 'try time', 'try time important', 'try watch', 'try work', 'tryna', 'tubing', 'tue', 'tune', 'tunnel', 'turn', 'turn anxiety', 'turn anxious', 'turn confidence', 'turn event', 'turn event mentor', 'turn news', 'turn phone', 'turn severe', 'turn upside', 'turn work', 'tv', 'tv show', 'tw', 'tw anxiety', 'tweet', 'tweet give', 'tweet give anxiety', 'twice', 'twist', 'twitch', 'twitter', 'twitter break', 'twitter make', 'two_week', 'type', 'type anxiety', 'typically', 'ubi', 'ugh', 'ugh anxiety', 'ugly', 'ultimate', 'ultimately', 'unable', 'unable stop', 'unable work', 'unavoidable', 'unavoidable prison', 'unavoidable prison anxiety', 'unbelievably', 'uncertain', 'uncertain anxiety', 'uncertain time', 'uncertain_time', 'uncertainty', 'uncertainty air', 'uncertainty anxiety', 'uncertainty cause', 'uncertainty cause anxiety', 'uncertainty check', 'uncertainty day', 'uncertainty fear', 'uncertainty isolation', 'uncertainty people', 'uncertainty people try', 'uncertainty virus', 'uncertainty worry', 'uncharte', 'uncharted', 'unchecked', 'uncle', 'uncomfortable', 'uncomfortable anxiety', 'unconscious', 'uncontrollable', 'uncut', 'uncut gem', 'underlie', 'understand', 'understand anxiety', 'understand cope', 'understand need', 'understand people', 'understand people hoard', 'understandable', 'understanding', 'undiagnosed', 'uneasy', 'unemployed', 'unemployment', 'unende', 'unende anxiety', 'unexpected', 'unfamiliar', 'unfortunately', 'unhealthy', 'unique', 'unit', 'unite', 'universe', 'university', 'unknowingly', 'unknown', 'unknown anxiety', 'unknown today', 'unnecessarily', 'unnecessary', 'unnecessary anxiety', 'unplug', 'unprecedented', 'unprecedented time', 'unrelated', 'unrest', 'unsettle', 'unsettling', 'unsure', 'unusual', 'unwarranted', 'upcoming', 'update', 'upended', 'upgrade', 'uplift', 'upper', 'upset', 'upside', 'urge', 'urgent', 'urgent care', 'urine', 'urine stool', 'urine stool blur', 'use', 'use antidote', 'use antidote exercise', 'use anxiety', 'use home', 'use humor', 'use prayer', 'use resource', 'use stress', 'use time', 'useful', 'useless', 'usual', 'usual anxiety', 'usually', 'usually post', 'utahearthquake', 'utility', 'utilize', 'vacation', 'vacation week', 'vaccine', 'vague', 'valid', 'validate', 'validation', 'value', 'vanish', 'variable', 'variety', 'vary', 've', 've anxiety', 've anxiety year', 've deal', 've do', 've feel', 've get', 've never', 've see', 'vent', 'venue', 'verge', 'verge anxiety', 'verge anxiety attack', 'verge tear', 'verse', 'version', 'vet', 'veteran', 'vibe', 'vibrate', 'vibration', 'victim', 'video', 'video call', 'video chat', 'video game', 'video give', 'video give anxiety', 'video parent', 'view', 'viewer', 'vigilant', 'villager', 'violence', 'viral', 'viral anxiety', 'virtual', 'virtually', 'virtually teach', 'virtually teach intensive', 'virus', 'virus anxiety', 'virus effect', 'virus fear', 'virus fear anxiety', 'virus get', 'virus give', 'virus go', 'virus impact', 'virus outbreak', 'virus think', 'vision', 'visit', 'vital', 'vitamin', 'vodka', 'voice', 'volunteer', 'vomit', 'vote', 'vulnerability', 'vulnerable', 'wa', 'wait', 'wait anxiety', 'wait car', 'wait get', 'wait hour', 'wait line', 'wait see', 'waive', 'wake', 'wake anxiety', 'wake crippling', 'wake crippling anxiety', 'wake day', 'wake early', 'wake feel', 'wake middle', 'wake middle night', 'wake morning', 'wake much', 'wake much anxiety', 'wake shake', 'waking', 'walk', 'walk back', 'walk dog', 'walk ease', 'walk ease anxiety', 'walk get', 'walk go', 'walk sunshine', 'walk today', 'walking', 'wall', 'want', 'want anxiety', 'want back', 'want buy', 'want call', 'want come', 'want cry', 'want cry anxiety', 'want day', 'want day everyday', 'want die', 'want even', 'want feel', 'want go', 'want go work', 'want hear', 'want help', 'want home', 'want keep', 'want kill', 'want know', 'want need', 'want overcome', 'want overcome anxiety', 'want part', 'want release', 'want say', 'want share', 'want smoke', 'want stay', 'want stay home', 'want stop', 'want support', 'want take', 'want talk', 'want want', 'want watch', 'want work', 'wanting', 'war', 'ward', 'ward anxiety', 'warm', 'warn', 'warning', 'warrior', 'wash', 'wash hand', 'washing', 'washing hand', 'washyourhand', 'waste', 'waste time', 'wat', 'watch', 'watch anxiety', 'watch contagion', 'watch day', 'watch episode', 'watch great', 'watch help', 'watch hunter', 'watch live', 'watch movie', 'watch news', 'watch outbreak', 'watch people', 'watch shit', 'watch tell', 'watch time', 'watch tv', 'watch uncut', 'watch uncut gem', 'watch video', 'watching', 'water', 'wave', 'waver', 'way', 'way anxiety', 'way anxiety set', 'way back', 'way bad', 'way cope', 'way deal', 'way deal anxiety', 'way feel', 'way get', 'way give', 'way give anxiety', 'way help', 'way home', 'way interact', 'way life', 'way manage', 'way manage relate', 'way much', 'way people', 'way pic_twitter', 'way pic_twitter com', 'way plug', 'way relieve', 'way tell', 'way time', 'way work', 'weak', 'wealthy', 'weapon', 'wear', 'wear mask', 'weather', 'weather really', 'web', 'webex', 'webinar', 'website', 'wedding', 'wedding anxiety', 'weed', 'weed help', 'week', 'week ago', 'week ago feel', 'week anxiety', 'week cancel', 'week feel', 'week get', 'week go', 'week hear', 'week know', 'week make', 'week much', 'week pic_twitter', 'week pic_twitter com', 'week quarantine', 'week really', 'week seem', 'week straight', 'week stress', 'week try', 'week work', 'weekend', 'weekend anxiety', 'weekend many', 'weekly', 'weigh', 'weigh seek', 'weigh seek make', 'weight', 'weight anxiety', 'weight chest', 'weight stress', 'weird', 'weird anxiety', 'weird thing', 'weird time', 'weirdly', 'welcome', 'welcome anxiety', 'well', 'well anxiety', 'well day', 'well do', 'well feel', 'well get', 'well help', 'well keep', 'well know', 'well last', 'well last day', 'well much', 'well probably', 'well problem', 'well see', 'well stay', 'well thank', 'well time', 'well today', 'well truly', 'wellbee', 'wellbeing', 'wellness', 'welp', 'wfh', 'whew', 'whiskey', 'white', 'whole', 'whole break', 'whole food', 'whole life', 'whole lot', 'whole lot anxiety', 'whole new', 'whole new level', 'whole ordeal', 'whole pandemic', 'whole situation', 'whole situation give', 'whole thing', 'whole thing anxiety', 'whole thing start', 'whole time', 'whole world', 'whoop', 'whore', 'wide', 'widely', 'widespread', 'wife', 'wild', 'willing', 'willingness', 'win', 'win anxiety', 'wind', 'window', 'wine', 'winter', 'wire', 'wisdom', 'wise', 'wish', 'wish anxiety', 'wish help', 'wish luck', 'wish people', 'wish well', 'wishing', 'withdrawal', 'wolf', 'woman', 'wonder', 'wonder anxiety', 'wonderful', 'wood', 'word', 'word describe', 'word encouragement', 'word matter', 'word today', 'work', 'work anxiety', 'work business', 'work class', 'work company', 'work crazy', 'work daily', 'work day', 'work do', 'work doctor', 'work even', 'work everyday', 'work food', 'work friend', 'work front', 'work front line', 'work get', 'work give', 'work give anxiety', 'work hard', 'work healthcare', 'work home', 'work home covid', 'work home really', 'work hospital', 'work job', 'work kid', 'work know', 'work make', 'work make day', 'work medical', 'work meeting', 'work meeting tomorrow', 'work morning', 'work night', 'work notice', 'work office', 'work pandemic', 'work pay', 'work people', 'work pic_twitter', 'work pic_twitter com', 'work protect', 'work quarantine', 'work really', 'work really hard', 'work remotely', 'work right', 'work risk', 'work schedule', 'work school', 'work still', 'work think', 'work time', 'work today', 'work tomorrow', 'work wait', 'work watch', 'work week', 'work well', 'work yesterday', 'worker', 'working', 'working healthcare', 'workingfromhome', 'workout', 'world', 'world anxiety', 'world come', 'world deal', 'world deal anxiety', 'world end', 'world fill', 'world fill much', 'world fire', 'world go', 'world help', 'world live', 'world man', 'world really', 'world right', 'world see', 'world sure', 'world today', 'world turn', 'world want', 'world week', 'worldwide', 'worm', 'worried', 'worried kid', 'worry', 'worry anxiety', 'worry become', 'worry bill', 'worry family', 'worry fear', 'worry fear anxiety', 'worry get', 'worry good', 'worry love', 'worry much', 'worry stress', 'worry stress anxiety', 'worry thing', 'worry worried', 'worrying', 'worse', 'worsen', 'worship', 'worst', 'worth', 'worth risk', 'worth watch', 'worthy', 'wrack', 'wrap', 'wreak', 'wreck', 'write', 'write book', 'write book thrive', 'write draw', 'write paper', 'write piece', 'write post', 'write post sing', 'write script', 'write want', 'write want release', 'writer', 'writing', 'wrong', 'wrong time', 'xanax', 'ya', 'yah', 'yard', 'yea', 'year', 'year anxiety', 'year day', 'year go', 'year high', 'year life', 'year long', 'year med', 'year old', 'year old anxiety', 'year work', 'years_ago', 'yell', 'yesterday', 'yesterday anxiety', 'yesterday anxiety take', 'yesterday bad', 'yesterday feel', 'yesterday good', 'yesterday try', 'yet', 'yet anxiety', 'yet anxiety attack', 'yike', 'yo', 'yoga', 'yoga class', 'yoga deal', 'yoga deal anxiety', 'yoga help', 'yoga meditation', 'yoga meditation michigan', 'yorker', 'young', 'young kid', 'young people', 'youth', 'youtube', 'youtube find', 'yr', 'zen', 'zoloft', 'zone', 'zoom', 'zp']\n"
          ]
        }
      ],
      "source": [
        "# tfidf = TfidfVectorizer(stop_words='english', max_features=9000).fit(raw_documents=dataset2['cleaned'])\n",
        "tfidf= TfidfVectorizer(ngram_range=(1,3), max_features=9000).fit(raw_documents=dataset2['cleaned'])\n",
        "# tfidf = TfidfVectorizer(min_df = 5, max_df = 0.95,stop_words='english', max_features=9000).fit(raw_documents=dataset2['cleaned'])\n",
        "tfidf_feature_names = tfidf.get_feature_names()\n",
        "print (tfidf_feature_names)\n"
      ]
    },
    {
      "cell_type": "markdown",
      "source": [
        "**Min-Max Scaler**"
      ],
      "metadata": {
        "id": "iipTzgZN_ItT"
      }
    },
    {
      "cell_type": "code",
      "source": [
        "tfidf_dataX = tfidf.transform(dataset2['cleaned'])\n",
        "print(tfidf_dataX)\n"
      ],
      "metadata": {
        "id": "azK93Tuf-7PX",
        "colab": {
          "base_uri": "https://localhost:8080/"
        },
        "outputId": "fd2f08ea-60a4-47c4-ff67-68d77408b9a0"
      },
      "execution_count": null,
      "outputs": [
        {
          "output_type": "stream",
          "name": "stderr",
          "text": [
            "/usr/local/lib/python3.7/dist-packages/sklearn/utils/deprecation.py:87: FutureWarning: Function get_feature_names is deprecated; get_feature_names is deprecated in 1.0 and will be removed in 1.2. Please use get_feature_names_out instead.\n",
            "  warnings.warn(msg, category=FutureWarning)\n"
          ]
        },
        {
          "output_type": "stream",
          "name": "stdout",
          "text": [
            "  (0, 8695)\t0.13886265690002214\n",
            "  (0, 8130)\t0.2727430403548462\n",
            "  (0, 8122)\t0.18225154812468652\n",
            "  (0, 8046)\t0.2634230112213115\n",
            "  (0, 7995)\t0.09776131273163821\n",
            "  (0, 7670)\t0.22283727967299902\n",
            "  (0, 7655)\t0.12521120099297192\n",
            "  (0, 7490)\t0.23715132464735397\n",
            "  (0, 7487)\t0.20675422589083398\n",
            "  (0, 5991)\t0.20405291392554564\n",
            "  (0, 5638)\t0.23373796257342858\n",
            "  (0, 4867)\t0.2634230112213115\n",
            "  (0, 4866)\t0.18648324701081956\n",
            "  (0, 4656)\t0.2727430403548462\n",
            "  (0, 4647)\t0.15064136036305165\n",
            "  (0, 4371)\t0.13783950947521717\n",
            "  (0, 3893)\t0.2727430403548462\n",
            "  (0, 3836)\t0.1123416878382778\n",
            "  (0, 3800)\t0.18501040357895765\n",
            "  (0, 1616)\t0.16255453115844423\n",
            "  (0, 1514)\t0.16596789323236968\n",
            "  (0, 1312)\t0.18159704150503223\n",
            "  (0, 584)\t0.2727430403548462\n",
            "  (0, 580)\t0.17211543110996316\n",
            "  (0, 251)\t0.0335241127256062\n",
            "  :\t:\n",
            "  (4997, 43)\t0.22754224883775653\n",
            "  (4998, 8264)\t0.19203585045766036\n",
            "  (4998, 7836)\t0.13423907749642117\n",
            "  (4998, 7824)\t0.5310555981286785\n",
            "  (4998, 7817)\t0.3423571237214411\n",
            "  (4998, 6986)\t0.16691619768013974\n",
            "  (4998, 6687)\t0.2669640773085309\n",
            "  (4998, 4701)\t0.23246977877147068\n",
            "  (4998, 3996)\t0.12563047392320853\n",
            "  (4998, 3497)\t0.21423072400998233\n",
            "  (4998, 3444)\t0.0909834446713177\n",
            "  (4998, 2981)\t0.25332706736841054\n",
            "  (4998, 2980)\t0.20113169555205315\n",
            "  (4998, 1948)\t0.25332706736841054\n",
            "  (4998, 1947)\t0.18209864467658\n",
            "  (4998, 1007)\t0.16031541512017392\n",
            "  (4998, 856)\t0.24467051046739946\n",
            "  (4998, 251)\t0.031137605388048658\n",
            "  (4998, 210)\t0.18506077604745444\n",
            "  (4999, 5913)\t0.24997063514228657\n",
            "  (4999, 5912)\t0.24883953330080424\n",
            "  (4999, 5441)\t0.3719045007085427\n",
            "  (4999, 5011)\t0.5808594030195652\n",
            "  (4999, 5010)\t0.5808594030195652\n",
            "  (4999, 1749)\t0.24997063514228657\n"
          ]
        }
      ]
    },
    {
      "cell_type": "code",
      "source": [
        "X=tfidf_dataX.toarray()"
      ],
      "metadata": {
        "id": "TinjYXvBDsza"
      },
      "execution_count": null,
      "outputs": []
    },
    {
      "cell_type": "code",
      "source": [
        "X"
      ],
      "metadata": {
        "colab": {
          "base_uri": "https://localhost:8080/"
        },
        "id": "YYCy_uHZBx0C",
        "outputId": "0fcc089d-092f-40c8-dc6c-2891b3e27d1a"
      },
      "execution_count": null,
      "outputs": [
        {
          "output_type": "execute_result",
          "data": {
            "text/plain": [
              "array([[0., 0., 0., ..., 0., 0., 0.],\n",
              "       [0., 0., 0., ..., 0., 0., 0.],\n",
              "       [0., 0., 0., ..., 0., 0., 0.],\n",
              "       ...,\n",
              "       [0., 0., 0., ..., 0., 0., 0.],\n",
              "       [0., 0., 0., ..., 0., 0., 0.],\n",
              "       [0., 0., 0., ..., 0., 0., 0.]])"
            ]
          },
          "metadata": {},
          "execution_count": 37
        }
      ]
    },
    {
      "cell_type": "code",
      "source": [
        "X.shape"
      ],
      "metadata": {
        "colab": {
          "base_uri": "https://localhost:8080/"
        },
        "id": "_FZ-NYUTvy7x",
        "outputId": "eb2d192b-fc88-453d-9cb1-8ffd7d5a2e80"
      },
      "execution_count": null,
      "outputs": [
        {
          "output_type": "execute_result",
          "data": {
            "text/plain": [
              "(5000, 9000)"
            ]
          },
          "metadata": {},
          "execution_count": 38
        }
      ]
    },
    {
      "cell_type": "markdown",
      "source": [
        "Model: **LDA**"
      ],
      "metadata": {
        "id": "KwufsMBDAHfR"
      }
    },
    {
      "cell_type": "code",
      "source": [
        "from sklearn.decomposition import LatentDirichletAllocation\n",
        "import matplotlib.pyplot as plt\n",
        "import seaborn as sns\n",
        "from matplotlib import style\n",
        "from sklearn.decomposition import LatentDirichletAllocation\n",
        "style.use(\"fivethirtyeight\")"
      ],
      "metadata": {
        "id": "ymktVG-wAHB-"
      },
      "execution_count": null,
      "outputs": []
    },
    {
      "cell_type": "code",
      "source": [
        "no_topics = 5\n",
        "lda = LatentDirichletAllocation(n_components=no_topics, max_iter=10, learning_method='online', learning_offset=50.,random_state=0)\n",
        "tfidfdist = lda.fit_transform(tfidf_dataX.toarray())"
      ],
      "metadata": {
        "id": "sYshtxHgAKz7"
      },
      "execution_count": null,
      "outputs": []
    },
    {
      "cell_type": "code",
      "source": [
        "tfidfdist"
      ],
      "metadata": {
        "colab": {
          "base_uri": "https://localhost:8080/"
        },
        "id": "zPpZm31IrUZb",
        "outputId": "024ec0b3-c69d-4730-f58c-ff49009e1e70"
      },
      "execution_count": null,
      "outputs": [
        {
          "output_type": "execute_result",
          "data": {
            "text/plain": [
              "array([[0.03479966, 0.03482783, 0.86077612, 0.03480124, 0.03479515],\n",
              "       [0.04728993, 0.04725167, 0.68898456, 0.04725103, 0.16922281],\n",
              "       [0.05196347, 0.05196256, 0.79213424, 0.05196199, 0.05197774],\n",
              "       ...,\n",
              "       [0.03610371, 0.03610364, 0.85558277, 0.0361035 , 0.03610637],\n",
              "       [0.04160384, 0.04160371, 0.83357408, 0.04160353, 0.04161484],\n",
              "       [0.06093552, 0.06093568, 0.75625842, 0.06093572, 0.06093466]])"
            ]
          },
          "metadata": {},
          "execution_count": 41
        }
      ]
    },
    {
      "cell_type": "code",
      "source": [
        "def display_topics(model, feature_names, no_top_words):\n",
        "    for topic_idx, topic in enumerate(model.components_):\n",
        "        print(\"Topic %d:\" % (topic_idx))\n",
        "        print(\", \".join([feature_names[i] for i in topic.argsort()[:-no_top_words - 1:-1]]))\n",
        "\n",
        "\n",
        "\n",
        "print('LDA')\n",
        "\n",
        "no_top_words = 1000       \n",
        "display_topics(lda, tfidf_feature_names, no_top_words)"
      ],
      "metadata": {
        "id": "v1uxBT4dHMu_",
        "colab": {
          "base_uri": "https://localhost:8080/"
        },
        "outputId": "9c4fd8fb-a83c-4140-d8c9-cd7f8e4c9e21"
      },
      "execution_count": null,
      "outputs": [
        {
          "output_type": "stream",
          "name": "stdout",
          "text": [
            "LDA\n",
            "Topic 0:\n",
            "terrible, relieve anxiety, terrible anxiety, antidote, source anxiety, overcome anxiety, relieve, source, anxiety, extinction, extinction anxiety, allergy anxiety, bad case, case scenario, bad case scenario, want, everyday, day everyday want, want day everyday, proven_solution, everyday want overcome, tone proven_solution, everyday want, overcome anxiety tone, anxiety tone proven_solution, want overcome, anxiety tone, tone proven_solution contact, proven_solution contact, want overcome anxiety, want day, day everyday, overcome, tone, psalm pic_twitter, psalm pic_twitter com, moment, triple, row, find moment, help relieve anxiety, gym want day, gym want, anxiety give, anxiety comfort, contact, cast anxiety, soul, last_night, smart, antidote exercise, exercise free, antidote exercise free, exercise free minute, free minute, comfort, explain child anxiety, explain child, way manage, antidote anxiety, anxiety comfort soul, soul psalm, comfort soul psalm, comfort soul, soul psalm pic_twitter, link, anxiety swirl, swirl, psalm, gym, anxiety minimum, decrease anxiety, cast, viral, fuel anxiety, wire, heartburn, joy, minute new link, new link, free minute new, minute new, minimum, way manage relate, manage relate anxiety, manage relate, exercise, anxiety terrible, scenario, anxiety try, moment joy moment, joy moment anxiety, italian find, italian find moment, find moment joy, joy moment, moment joy, improve anxiety, free, prime, italian, minute, anxiety present, fuel, help relieve, frozen, movie give, movie give anxiety, moment anxiety, try antidote, anxiety try antidote, try antidote exercise, present, logical, allergy, day, anxiety smart, remedy, dadjoke time pic_twitter, dadjoke time, dadjoke, double, chamomile, chamomile tea, food relieve, comfort food, comfort food relieve, help fight anxiety, help fight, cry tear diary, diary sometimes, cry tear, tear diary, tear diary sometimes, cast anxiety care, improve, new, diary, discover, anxiety bad lately, bad lately, soul crush, soul crush anxiety, diminish, strategy cope, science base, base strategy cope, strategy cope anxiety, base strategy, science base strategy, orient, great source anxiety, crush anxiety, great source, exact, way relieve, whiskey, shutitdown, shutitdown anxiety, science, anxiety pretty much, fast shallow, shallow, spend lot time, spend lot, viral anxiety, good advice, use antidote, anxiety use antidote, use antidote exercise, insensitive, interaction, ptsdpic, cope clarity, anxiety ptsdpic, depression bipolar anxiety, bipolar anxiety, bipolar anxiety ptsdpic, counseling depression bipolar, support therapy counseling, support therapy, counseling depression, depression bipolar, dropping, go draw today, go draw, draw today, crush, movie, limit, subscriber, try, anxiety use, public place, find, strategy, apt, clarity, helicopter, tea, bring joy time, rule raise, cost sleep bring, quick keep pick, anxiety cost sleep, inner peace price, tag new rule, time go quick, peace price tag, joy time go, new rule, inner peace, quick keep, go quick, go quick keep, new rule raise, tag new, joy time, sleep bring joy, anxiety cost, price tag, cost sleep, price tag new, keep pick, inner, sleep bring, rule raise anxiety, peace price, keep pick speed, raise anxiety cost, pick speed, slack, today go draw, draw today go, bring joy, cost, tag, speed, fearless, much soon, intervention, recession, bipolar, happy birthday, happy, jaw, clench jaw, jaw due, clench jaw due, nutrition point, pray shut pepperoni, sole form, thing everyday pray, pray shut, shut pepperoni, thing everyday, pepperoni daughter, nutrition point anxiety, daughter sole form, pepperoni, form nutrition point, child spectrum, eat thing everyday, everyday pray shut, child spectrum eat, spectrum eat, sole form nutrition, shut pepperoni daughter, form nutrition, spectrum, pepperoni daughter sole, sole, spectrum eat thing, daughter sole, everyday pray, rule, eat thing, mark, feel time, point anxiety, nutrition, raise anxiety, price, stay sane, birthday, anticipate, decrease, rejoice, patrick, patrick day, child anxiety, use, counsel, base, passion, keeper, come together, echo, quick, time go, double anxiety, anxiety great movie, mandate, great movie, feel give, rev, clench, raise, invite, therefore, anxiety throw, anxiety fire, anxiety happen, daughter, world today, add anxiety, draw, situation need, strong, anxiety spiral, chapter, cope anxiety, form, relate anxiety, much room, idiot, support, really understand, already run, fight anxiety, counseling, clear throat, make pandemic, spare, lot public, millenial, simulation, mentalillness, coronavirus anxiety, cafe, discipline, mini, case, differentiate, fact, stand word, get, smh, pick, allergy asthma anxiety, allergy asthma, tear, today go, humble, reducer, psychologist, explain, deal anxiety stress, child, thank much, great way, time pic_twitter com, time pic_twitter, know come, eye, gladly, love time, anxiety great, lot time, deep_breathing, shut, peace, go bad, ruin, coworker use, spend whole, think virus, anxiety doubt, home office, potus, security, cope, spending time, reference, walk sunshine, anxiety pretty, cloud, sober, roof home, doubt, new_york, sane, terminal, proper, bring, frustrate, lockdown, relate, anxiety parent, unknown today, reason anxious, pray, sophisticated, pray work, father, public anxiety, day row, close together, cold allergy, bar, else anxiety, cause lot anxiety, outta, point, anxiety ever, anxiety care, therapy, change minute, fight, fast, add, anxiety stop, productivity, god, need buy, inform, boost, day online, make playlist, pic_twitter com, com, sometimes, pic_twitter, anxiety say, rock, eat, unplug, play, advice, sound, spiral, anxiety anxious, intensive, today first day, today first, heavenly, file, approve, cabin, cabin fever, chair, song help, meal, gum, pretty much, hurt soul, make strong, stay, react, anxiety next, thank, good friend, sad anxious, manage, little, prayer, anxiety love, know many feel, natural, spending, owner, though, humor, re feel, get anxiety, anxiety level rise, level rise, prepare whole, cry, suffering, degree, sunshine, public, nature, clearing, come go, help child, park, anxiety crisis, heart, try keep, replace, headline, society, message, sheer, wish help, sleep, know help, tea anxiety, major, ability, suffer mental_illness, anxiety increase, take control, cause lot, provoke, much love, sore throat, deeply, good, president, anxiety frustration, express, grant, keep, think bad, many feel, deliver, psilocybin, way, residency, outbreak, main source, anxiety find, sleep well, expert, reach people, together, city, quarantine isolation, remember, breathe anxiety, goal, blue sky, goodvibe, dumb, make laugh, feel, mind keep, yo, anxiety ease, stocking, big, soon, hopefully, anxiety go work, great, actually sick, love, champagne, overwhelm anxiety, feel well, opposite, marine, bad, make last, board, constantly, news social_media, combo, overdrive, family child, let take, coronavirus, bad idea, guy, ever, pandemic anxiety, fire, enjoy, today, random, happen, try new, time alone, go, anxiety keep, asthma anxiety, view, settle, next week, keep anxiety, sore, lately, anxiety level roof, level roof, benchmark, definitely, breathing, gather, negative, main, listen music, knock, slow, simple time, start new, time, hard time, music recommendation, terror, anxiety run, trumpvirus, help, anxiety mentalillness, open, online learning, wine, keep calm, food, pt, go work today, data, shower, thing, well thank, place, half, promise, insta, productive, say deal, generalize anxiety disorder, care, depress, available, throw, drastically, pandemic, bully, join, grow, else, art, news overload, anyone_else, ppl, frustration, meditate, headache, crazy, running, become, parent, allow, anxiety bad, believe, give, overwhelm, combine, strange, give anxiety, playlist, reduce, anxiety child, combat stress, fearful, cut, give social anxiety, give social, go make, coworker, release anxiety, similar, intake, fly, think, know many, address, powerful, keep say, hand, chill pic_twitter, money bank, anxiety need, chill pic_twitter com, spend, continue, extend, whole life, forgot, therapeutic, often, tell right, start, total, throat, lot anxiety, ya, practice, wonder, solo, phone, understand anxiety, anxiety reason, much, bruh, power, week, drink, light candle, direct, understand, afraid, write, try gather, dad, choose, scare, social_media, worry, zone, kind, anxiety exercise, anxiety stay, fill, sing, anger, social_distance, bout, depression, anxiety attack day, first day, stupid, lot, serotonin, fucking, chew, cold, journey, come, plug, trust, constant state, cruel, generalize anxiety, anxiety today, relax, imagine, anxiety sky rocket, stop, therapist, deal anxiety, stand, cause, heb, attack day, light, feel anxious, see take, generalize, reason, know, song, supplement, hard, pretty, isolation, anxiety suck, anxiety pic_twitter, due, grandparent, anxiety pic_twitter com, recommendation, increase, run, clear, take new, sky rocket, rise, asthma, room, usually, madness, say, fever, ass, full, new music, make, normal, learning, past day, takeout, son, provide, calm, drop, customer, office, situation, anxious, unit, follow, fold, region, start go, yell, crisis, go work, immunesystem, anxiety stress, least, work today, enough, man, ground calm, anxiety end, ugh anxiety, need, well, sky, unknown, anxiety pandemic, organize, grocery_store anxiety, rocket, today stop, really suck, promise go, michigan, caffeine, anxiety thinking, social anxiety, massive anxiety, anxiety medicine, complicate, male, oblivious, mind, one, ve, yesterday, chop, thought, virus, stomach pain, social, mental_illness, hit anxiety, prepare, smoke anxiety, mindfulness, top, jewelry, feeling, king, massive, laugh laugh, people hoard, literally, mode, word, dive, chinese, anxiety idea, acupuncture, attack work, cortisol, anxiety sky, control, news, unwarranted, anxiety make, candle, omfg, problem anxietie, favor, step, friend leave, anxiety level, thinker, newsletter, fr, uncomfortable anxiety, lol, breath, say add, butt, love anxiety, people, yesterday try, pete, bring anxiety, breathe, die, grade student, anxiety death, guess watch, hurt, tag love, time love, teen anxiety, hot, heartache, racism, specific, important thing, friend, harmony, bed anxiety, hr, doggie, re, already, juice, check thank, fuck, need phrase, people try, abortion, lower anxiety, able, morning make, buy, anxiety airport, life great, keep simple, quarantine, new life, bastard, line, anxiety joke, urine, life, blue, holy fuck, still leg, drunk, world, fish, believe anxiety, bomb, quiz, anxiety awful, anxiety call, social_media time, fear, depression take, deal, breaking point, nope, rabbi, never bad, prey, get first, back back, purr, thinking, growing, acid reflux, stress go, dish, sob, thrive, fear let, reflux, pick phone, span, anxiety fear let, exhaust, overload, buy thing, anxiety medium, gal, uncertainty people, end, eyebrow, due corona_virus, love always, fall love, resolve anxiety, acid, time add, main thing, arrest, teacher, anxiety wake morning, constant, scared people, lift, whole, contract coronavirus, nate, walk, next, irresponsible, relieve stress anxiety, forget, anxiety gratitude, anxiety fear, anxiety vibe, currently anxiety roof, get chest, cool cool, considerate, coronavirus make, get response, go body\n",
            "Topic 1:\n",
            "anxiety real, real, real thing, mount, performance, give extreme anxiety, give extreme, mitigate, body, medical school, washyourhand, body shame, shame anxiety, open body, body shame anxiety, open body shame, quarantine anxiety real, performance anxiety, shame, anxiety real thing, anxiety mount, exercise reduce, quarantine anxiety, autism newsletter, extreme, school recommend, recommend yoga deal, yoga deal anxiety, recommend yoga, yoga deal, school recommend yoga, medical school recommend, crippled, crippled anxiety, extreme anxiety, real bad, invite, depression anxiety real, practical self, care exercise, care exercise reduce, exercise reduce anxiety, self care exercise, practical self care, newsletter, unende, unende anxiety, open, covid depression, neighbor lend help, include way, lend help, mount neighbor, lend help hand, help hand, help hand include, hand include, anxiety mount neighbor, include way plug, way plug, hand include way, neighbor lend, lend, mount neighbor lend, bad anxiety day, practical, autism, high stress anxiety, plug, intensive, impose anxiety, impose, anxiety, anxiety occur, already fill anxiety, already fill, weigh, make glad, right go, anxiety right go, respiro, neighbor, high stress, knit, sing, good word, adversity, reduce anxiety pic_twitter, include, social_media anxiety, grocery_store anxiety, book thrive anxiety, time love virtually, fear perfect, love virtually, fear perfect time, virtually teach, virtually teach intensive, anxiety fear perfect, book thrive, write book thrive, write book, teach intensive, thrive anxiety fear, love virtually teach, thrive anxiety, proverb, anxiety weigh seek, make glad proverb, weigh seek make, seek make, glad proverb, weigh seek, seek make glad, anxiety weigh, repost, time love, occur, respiro write, pero respiro, language, thrive, perfect time, migraine anxiety, flash, chinese, dizziness, seek, acupuncture, harmony, herb, post sing, fear let see, small write post, see beautiful, however simple small, small write, let see beautiful, simple small, write post sing, write post, beautiful however simple, beautiful however, see beautiful however, simple small write, anger frustration, good friend pic_twitter, friend pic_twitter, friend pic_twitter com, migraine, fear let, anxiety fear let, fatigue, glad, go bar, however simple, let see, anxiety boredom, corner earth, heart sing virus, specie, boredom remind, specie span corner, make heart sing, remind connect, make heart, sing virus fear, virus fear anxiety, sing virus, heart sing, span corner, human specie, specie span, connect human specie, virus fear, anxiety boredom remind, boredom remind connect, remind connect human, fear anxiety boredom, human specie span, span corner earth, connect human, profound, pero, fluid, boredom, span, hand, connect, sometimes get, yoga, medical, virtually, corner, make, go body, earth, grade student, stress go, collective goodness, recommend, impulsive, cheap, quote, self care, perfect, let alone, communication challenge, excellent, version, reward, time anxiety fear, overcome, remind, way, dish, write, weapon, human, teach, close school, book, week make, years_ago, goodness, resilient, accommodation, gf, suppress, store give, heart, mj, real even, stay home get, pic_twitter com mj, com mj, social_media, deal anxiety, know share, wellness, lovely, reduce anxiety, sweet girl, home come, stress anxiety feel, anxiety fear, grocery_store, simple, quarantine, content, anxiety heighten, communication, week, alone thought, clean ever, much tell, exercise, dorito, jelly butter, butter, help, back anxiety, tell bad, tell bad anxiety, frustration, school, grade, weekend many, anxiety list, bar, feel high, however, fast, anxiety coronavirus, change happen, crew, collective, literally, beautiful, build, international, reduce, fear anxiety, escapist, anger, back today, stage, kindness, small, thing, face, clearing, alot, anticipate, care, cook, self, fear, next year, shopping, also good, jelly, virus, care worker, health care worker, put together, deal, item, wolf, arrive, piece, depression anxiety, suck, anxiety even, feel need, winter, info anxiety, relaxed, tend, vomit, dude, post, gun, sometimes, show, particularly, good friend, email, anxiety day, sheer, wire, watch movie, panicbuye, push, anxiety right, fill anxiety, home get, expect anxiety, announce, love, word, anxiety weekend, bad anxiety, gym anxiety, desk, space, covid situation, therapist, psilocybin, health care, postpartum depression, see, postpartum, hero, thank, career, high school, respiratory, anxiety pic_twitter, anxiety pic_twitter com, energy, right, random, reminder, severe anxiety depression, go lie, anxiety stay home, challenge, yard, lie anxiety, go lie anxiety, day leave, many anxiety, discussion, heighten, bag, need know, thing think, anxiety fire, lie, skeptical, blog, uncertain_time, read, terror, depression, ahead, successful, give, approach, pt, front, student, shake, time anxiety, fail, cbd product, yet, coronavirus, bad, psalm, history depression, word describe, covid, city, move, podcast, concern, shallow, red, fast shallow, work day, get anxiety, fear anxiety new, let, residency, much different, match, time, fill, morning, complain, lately, overload, find get, therapeutic, today find, anxiety new way, woman, alternative, extend, even, anxiety relate, world sure, low anxiety, alone, anxiety tear, two_week, research, jump, blow, deep_breathing, get place, stop talk, go store, fall, warn, balance, mother, different country, thought, go, store, pic_twitter com, know, pic_twitter, info, com, horrible, anxiety due, fuck, expect, anxiety stay, already, finish, dive, globally, worker, sweet, conference call, numerous, michigan, peace, go anxiety, unit, tell, takeout, around, middle, fold, new way, ride, movie, come, list, teacher, highly, ugh anxiety, also, point, learn, soothe, ground calm, bout, shit, today stop, promise go, anxiety cause, almost, really suck, complicate, stress, well, male, stress anxiety, stomach pain, unwarranted, side, describe, smoke anxiety, leave, chop, cough, time need, day, anxiety idea, need, jewelry, irritability, oblivious, day row, laugh laugh, class, attack work, relief anxiety, king, thinker, get, child anxiety, picture, omfg, exhaustion, favor, fr, anxiety gratitude, one, anxiety need get, hr, friend leave, level keep, good, uncomfortable anxiety, head, seriously fuck, shooting, back, people hoard, even walk, teen anxiety, student dress, clean, guess watch, ask student dress, need phrase, high, pete, check thank, tag love, anxiety death, pick phone, stop, abortion, juice, anxiety airport, gym, function, great movie, heartache, life great, anxiety spiral, doggie, racism, face anxiety, close, morning make, weekend, otherwise anxiety depression, load, urine, apt, fish, believe anxiety, lower anxiety, anxiety level keep, anxiety joke, purr, crush anxiety, holy fuck, together, social_media time, stop shake, keep simple, damn, anxiety awful, friend, intense anxiety, depression take, stay home, nope, bastard, quiz, never bad, class go, get first, bomb, patrick day, patrick, anxiety get, fall love, wrack, social, millenial, growing, always, depression severe anxiety, main thing, gal, love always, contract coronavirus, schedule, eat thing, anxiety medium, new life, insensitive, breaking point, recession, coronavirus make, back back, sob, still leg, arrest, lift, irresponsible, nate, dropping, drunk, thing give, cool cool, time add, hyperventilate, get chest, unbelievably, rabbi, prey, otherwise anxiety, idea much, currently anxiety roof, due corona_virus, spirit, anxiety wake morning, aspect bad, girl, depression severe, hit anxiety, much long, sheriff, anxiety vibe, severe anxiety, get response, considerate, anxiety lie, tip cope, let depression anxiety, call covid, eyebrow, resolve anxiety, yesterday try, sand, gang, fearless, hive, autistic, sleep mom, anxiety shoot, blanket, meditating, privilege, history, ability, scared people, survival mode, anxiety exercise, anxiety fine, tit, anxiety fact, get super, ice cream, go online, anxiety country, band, run away, grow anxiety, week hear, tip take, let depression, much tweet, amy, tenant, virus impact, bcuz, sex, exact, help anxiety start, anxiety want know, find, humble, lot public, prime, campaign, job open, bother, glad alone, bed anxiety, quarentinelife, help anxiety keep, hot tip, action, want die, fuck man, frozen, anxiety chart day, work give, feel anxiety kicking, cousin, people try, sunrise sunset, cycle anxiety, chart day, make phone, make phone call, marathon next, helicopter, time cough, close together, bird, creepy, watch hunter, try sleep, half brain, cough time, moderate, anxiety throw, severe anxiety understand, insomniac, marathon, immunesystem, intense, thing say, make bad, echo, stay sane, also anxiety attack, lay anxiety, rejoice, level anxiety stress, phrase, person anxiety, sleep aid, universe, pound beer, wanting, anxiety feel, drone, position, year, somewhat, anxiety listen, boost, back anxiety attack, know suffer depression, check loved_one, call anxiety, group message, bad trip, anxiety sickness, lash, next, sentence, escape anxiety, fantastic, mommy, reducer, covidー related, italian, car accident, sore throat, profit, girl anxiety roof, stress lead, anxiety hell, anxiety creep, stomach anxiety, amount anxiety go, day anxiety, today covid, reduce stress, purpose, relate, anxiety high gear, panic know, manage coronavirus, automatically, uncertainty people, covidー related anxiety, daycare, periscope, feel give, tonight anxiety, waking, send, dimension, severe, related anxiety, anxiety play, hour long anxiety, learn anxiety, get anxiety thinking, evil, make short, anxiety blanket, number positive, feel fear anxiety, go show, relief stock, live tiny, go isolation, anxiety friend, long anxiety attack, replace, organizing, information, anxiety wanting, anxiety album, annoyed, hospital today, ice, watch shit, operational, artie, helplessness, fuel, shit crazy, shift anxiety, fuel anxiety, compete, anxiety anger sadness, bro, like anxiety, uncertain anxiety, situation, wish anxiety, tbh, pain time, take easy, text talkwithus, relationship, ugh, feel end world, home help, rev, rid anxiety, helpful anxiety, fine anxiety, ask student, take toll mental_health, close eye, toilet_pap anxiety, dancing, af, cortisol, fuck happen, overthink anxiety, thx, almost week, recall, officer, rd, mom anxiety, get hair, damn roof, stem anxiety, anxiety high take, say thing, anxiety forget, amount people, think go die, age anxiety, slight anxiety, public place, mini, cope stress help, day depression, time leave, psychologist counseling, brag, hunter, bad time anxiety, right make, feel let, awake anxiety, thought go, want stop, put, delete social_media, duration, move back, talkwithus, wake much, diagnose generalize, feel end, important, thread deal anxiety, ppl, gum, step away, time much anxiety, alot anxiety, help low, bunch anxiety, stand word, high take, time bad, never feel anxiety, worst, situation need, rainbow, week stress, attachment, chapter, issue, check, facility, head back, puke ass, thread deal, onmyblock, play asthma, justify, anxiety corona_virus, video call, feel coronavirus take, new music, hypnosis, remark, distraction anxiety, quasimodo, finally see, day depression anxiety, emily, love watch, caffeine really, diagnose generalize anxiety, get look, give feel, bedroom, totally normal, anxiety gas, ease fear, severe separation, anxiety cure, help make, severe separation anxiety, socialist, surrender, bad get, counseling, wake much anxiety, anxiety do, subliminal, coronavirus take toll, bed day, memory, anxiety head, lawyer, instill, other anxiety, school day, little give, coronavirus take, let add, much anxiety watch, cw, go social_media, level anxiety fear, people feel coronavirus, anxiety man, amethyst, anxiety prone, get rid anxiety, anxiety impact, be, thing really, silence, feel level, thoughtful, anxiety stressful time, anxiety also good, anxiety roof haha, love calm, ease fear anxiety\n",
            "Topic 2:\n",
            "anxiety, go, get, time, feel, people, help, pic_twitter, com, pic_twitter com, day, know, work, need, stress, make, depression, roof, think, good, high, today, much, bad, thing, keep, take, thank, fear, right, really, try, anxiety roof, home, give, covid, panic, say, week, love, want, stay, well, way, see, lot, sleep, let, friend, watch, cause, stress anxiety, come, also, even, life, attack, level, calm, talk, anxiety depression, back, virus, start, great, quarantine, deal, use, still, world, tell, get anxiety, social, live, anxiety attack, depression anxiety, social_distance, little, pandemic, real, year, hard, ever, stop, shit, anxiety go, next, find, help anxiety, worry, ask, many, news, look, give anxiety, disorder, literally, experience, test, new, never, much anxiety, alone, call, already, last, fear anxiety, sure, family, check, kid, anxiety high, whole, hope, hour, first, wait, wish, morning, anxiety disorder, always, manage, leave, anxiety pic_twitter, anxiety pic_twitter com, coronavirus, anxious, feeling, health, anxiety level, anxiety bad, school, show, anxiety get, close, night, happen, read, anxiety time, anxiety stress, put, sick, long, actually, social anxiety, month, separation, fine, struggle, enough, uncertainty, wake, turn, yesterday, self, mean, send, almost, healthy, people anxiety, ease, body, care, control, crazy, break, separation anxiety, student, situation, mind, hear, important, other, cope, post, app, able, full, fuck, eat, job, anxiety fear, house, moment, suffer, marathon, marathon next, cough, big, run, bring, face, reduce, food, thought, cause anxiety, remember, buy, focus, lose, act, induce, ve, listen, due, feel anxiety, hit, walk, hate, crippling, tip, less, lot anxiety, understand, time anxiety, parent, child, end, avoid, isolation, anxiety feel, med, normal, away, pretty, positive, share, cry, overwhelming, high anxiety, change, plan, guide, amount, minute, seriously, test say, definitely, part, increase, place, deal anxiety, especially, together, word, point, person, pray, fun, issue, create, response, manage anxiety, store, reason, play, time high, cancel, add, stupid, tonight, crisis, man, head, else, bit, maybe, schedule, ease anxiety, support, safe, online, trump, twitter, do, weird, learn, dream, anxiety make, pain, super, like, state, heart, dog, least, phone, bed, community, anxiety right, pass, ride, resource, anxiety virus, anxiety induce, old, die, ptsd, nice, scary, peace, bake, kind, current, low, lately, breath, happy, mom, set, calm anxiety, government, trigger, public, fill, anxiety bake, stuff, music, video, daily, loved_one, pay, move, constant, drive, open, seem, social_media, crippling anxiety, exercise, free, realize, finally, product, baby, severe, hand, problem, relax, tomorrow, covidー, pick, couple, story, girl, choice, sometimes, work home, honestly, relate, fact, level anxiety, stay healthy, fight, pretend, chest, different, decide, re, go work, brain, fall, overwhelming anxiety, lol, anxiety time high, actual, business, make anxiety, guess, fever, meet, therapy, idea, movie, reach, breathe, sorry, case, game, panic attack, medium, probably, write, bitch, day anxiety, reduce anxiety, bad anxiety, guy, prepare, avoid people, symptom, rest, soon, anxiety take, allergy, suck, become, mess, empty, beautiful, anxiety today, anxiety panic, unknown, lead, anxiety ptsd, emotional, offer, top, soul, intentional, email, tie, relief, ever need, wonder, think know, second, handle, talk ever need, talk ever, speak, drink, imagine, human, reminder, throw, covid anxiety, folk, sense, joke, lie, one, class, spend, anxiety really, enjoy, stay home, instead, tweet, line, shut, anxiety med, grateful, anymore, spirit, coffee, difficult, people panic, anxiety need, concern, doctor, think anxiety, freak, practice, office, worried, anxiety covid, routine, go home, hurt, grocery_store, let anxiety, anxiety know, anxious people, information, believe, provide, text, stock, therapist, kill, money, isolate, spread, miss, training, damn, sad, shortness, shortness breath, meditation, weird thing, medication, time social_distance, early, future, usually, small, message, true, physical, anxiety use, hopefully, relieve, scared, impact, major, angel, room, full anxiety, make feel, today anxiety, mental, first time, glad, feel less, scare, cure, listening, follow, know anxiety, severe anxiety, less anxious, forget, update, sleep anxiety, currently, light, course, car, thing feel, actual anxiety, water, step, possible, sound, yoga, weekend, limited, rise, setting, easy, remind, bind, consider, suffer anxiety, panic anxiety, song, struggle anxiety, teacher, half, anxiety even, truly, anger, risk, club, mentally, chill, make sure, extra, serious, anxiety also, shake, earthquake, ready, country, devil, boy, loved_one keep, laugh, sermon, body soul, stand, generalize, keep work, journale, group, way back, question, fever anxiety, hold, book, anxiety want, ppl, gym, around, cough fever, anxiety test, ball, go back, other keep, medicine, work schedule, age, cut, increase anxiety, corona_virus, sit, release, anxiety come, prayer, anxiety try, ass, anxiety cause, begin, anxiety thank, recommend, anxiety day, get bad, strong, amazing, generalize anxiety, death, cool, go anxiety, nervous, tv, space, hospital, hell, picture, stick, teach, list, cold, helpful, agree, distance, weight, yet, stressful, effect, stay_safe, get well, survive, help manage, notice, far, lay, allow, mental_health, anxiety uncertainty, number, team, global, season, exactly, drop, soothe, help manage anxiety, anxiety shit, feel well, chaos, medical, market, anxiety start, vibe, expect, deep, combat, idk, completely, often, order, anyone_else, trip, include, continue, chart, comfort, really bad, air, afraid, toilet_pap, service, voice, peak, cbd, side, process, adult, anti, anxiety never, experience anxiety, grow, absolutely, trust, outside, productive, period, anxiety feeling, long time, feel coronavirus, diagnose, bless, company, explain, however, finish, dude, appointment, say anxiety, busy, flight, thinking, need anxiety, totally, fucking, wife, event, suppose, keep anxiety, ago, anxiety keep, smile, prioritize, overwhelmed, clean, anxiety love, anxiety people, chat, wear, ugh, patient, staff, heighten, address, individual, likely, resource help, advice, reality, wonderful, appreciate, feed, husband, result, anxiety still, insane, later, rather, shop, contact, work anxiety, get sick, entire, hang, welcome, horrible, manage anxiety feel, anxiety help, check friend, area, asthma, frustration, energy, win, eye, cope anxiety, breathing, go roof, challenge, pm, clear, fire, available, lack, really help, limit, good time, bar, art, activity, grocery, stomach, thread, session, anxiety feel coronavirus, resource help manage, feel coronavirus alone, coronavirus alone, produce, surround, add anxiety, extreme, illness, distract, important ever, behavior, worth, force, chronic, officially, anxiety watch, slow, apparently, shift, leave house, meditate, get good, conversation, short, awful, safety, anxiety stay, many people, trauma, power, youtube, spring, anxiety go roof, sister, anxiety ride, friend anxiety, dad, alleviate, quiet, get back, anxiety bitch, pack, special, birthday, spike, personal, think go, cure anxiety, anxiety let, humor, report, bill, prioritize resource help, prioritize resource, past, terrify, nerve, anxiety work, matter, worry anxiety, fellow, weed, ground, simple, anxiety think, field, pull, anxietie, fill anxiety, health anxiety, difficult time, due anxiety, save, restaurant, ignore, last week, hard time, cat, emotion, important ever prioritize, ever prioritize resource, ever prioritize, take time, come anxiety, general, partner, go store, return, hot, single, trigger anxiety, beauty, tear, everyday, sweet, lockdown, tough, wrong, corona, virtual, travel, girl anxiety, mindfulness, anxiety issue, touch, son, protect, omg, link, live anxiety, anxiety chart, push, time get, join, anxiety world, mood, choose, press, anxiety give, natural, though, form, expert, intense, ill, help ease, major anxiety, raise, anxiety much, insomnia, apartment, channel, info, amount anxiety, let know, shower, main, basically, two_week, good thing, everywhere, anxiety anxiety, excuse, pill, grade, contagious, pet, anxiety relief, throat, nightmare, right anxiety, decision, constantly, tea, spiral, self quarantine, anti anxiety, shelf, article, funny, professional, anxiety coronavirus, counseling, answer, self_isolation, good morning, smoke, love anxiety, here, switch, awake, perfect, affect, collective, huge, content, fly, confusion, tune, feel anxious, supply, catch, learning, way anxiety, let go, sort, need go, pandemic anxiety, anxiety panic attack, possibly, thankful, usual, interview, mentalhealth, feel much, kindness, know go, anxiety dream, shelter, rona, emergency, trouble, take care, balance, asleep, come back, outbreak, start get, last day, conference, type, anxiety well, hug, anxiety see, doubt, relate anxiety, anxiety hit, essential, testing, anxiety look, insurance, send anxiety, figure, send love, feel way, income, self care, anyway, much need, cycle, go sleep, uncertainty anxiety\n",
            "Topic 3:\n",
            "anxiety great, joy psalm, great joy psalm, great joy, anxiety great joy, uncut gem, uncut, gem, niv, joy psalm niv, psalm niv, anxiety anymore, psalm, buzz, hittin, anxiety hittin, joy, psalm niv pic_twitter, niv pic_twitter, niv pic_twitter com, anxiety huge, unavoidable, get sense, sleep anymore, anymore, go lie anxiety, lie anxiety, prison anxiety, unavoidable prison anxiety, presence anxiety, anxiety unavoidable prison, presence anxiety unavoidable, anxiety unavoidable, unavoidable prison, prison, go lie, presence, induce pic_twitter com, anxiety induce pic_twitter, induce pic_twitter, forget anxiety, nightly, nightly anxiety, sooo much, sooo much anxiety, manifest physically, double, depression real, anxiety depression real, self anxiety, buy thing, idek, subconsciously, popular, anxiety great movie, cunt, watch uncut, watch uncut gem, double anxiety, great movie, distance anxiety, dosage, whole lot anxiety, whole lot, sooo, anxiety huge crowd, huge crowd go, crowd go, experience much anxiety, never experience much, anxiety forget, manifest, behavior low, need understand, people try get, impulse, impulse mental behavior, sense control, control buy, hoard impulse, understand people hoard, really need understand, thing really need, try get sense, point mental, uncertainty people try, understand people, low point mental, impulse mental, low point, people hoard impulse, get sense control, point mental retardation, mental behavior, need understand people, retardation, mental retardation, hoard impulse mental, anxiety uncertainty people, sense control buy, behavior low point, buy thing really, time anxiety uncertainty, control buy thing, mental behavior low, physically, big time anxiety, thing really, uncertainty people, people try, lung, people hoard, make short, straight anxiety, huge crowd, second iamsoblesse, laugh people go, second iamsoblesse tpforsale, real try laugh, yoga meditation michigan, tpforsale, tpforsale yoga, laugh people, iamsoblesse tpforsale yoga, bonker second, iamsoblesse, depression real try, tpforsale yoga meditation, try laugh, meditation michigan, try laugh people, go bonker, go bonker second, bonker second iamsoblesse, bonker, iamsoblesse tpforsale, real try, people go bonker, dear anxiety, almost anxiety, hunter, uncomfortable anxiety, sincerely, build, hr, michigan, yoga meditation, dear, isolation extremely challenging, consider pick phone, pick phone checking, challenging season, isolation extremely, today consider pick, consider pick, phone checking, severe anxiety feeling, phone checking know, feeling isolation, extremely challenging season, extremely challenging, anxiety feeling isolation, feeling isolation extremely, checking know suffer, suffer depression severe, checking know, today consider, finally see, pick phone, know suffer depression, spread kindness spread, restore, rest restore, love always parasympathetic, restore love, kindness spread, mindset spread love, care peace anxiety, always parasympathetic, community mindset spread, restore love calm, community mindfulness care, anxiety repost, spread spread kindness, love calm community, community mindset, kindness spread community, parasympathetic rest restore, calm community mindfulness, rest restore love, spread love always, spread community mindset, care peace, calm community, parasympathetic, mindfulness care, mindset spread, spread community, community mindfulness, spread spread, mindfulness care peace, parasympathetic rest, always parasympathetic rest, peace anxiety repost, fish, love always, repost, spread kindness, life happen, love calm, bastard, rd, vitamin, mindset, know suffer, immunity, big time, spread love, oil, challenging, awkward, depression severe anxiety, dish advice help, dish advice, help craft, coronavirus check, manage anxiety coronavirus, popular news, news program, craft manage anxiety, help craft manage, mentor join, advice help craft, somewhat surreal, program country morning, anxiety coronavirus check, join popular, somewhat surreal turn, country morning, event mentor join, advice help, join popular news, surreal turn event, popular news program, surreal turn, program country, turn event mentor, news program country, event mentor, craft manage, mentor join popular, country morning dish, depression severe, turn event, craft, much long, somewhat, dish, mentor, fabulous, huge, surreal, hoard, checking, peace anxiety, spread, check loved_one, program, really need, pray, suffer depression, people go, day online, heb, verse, try get, time much anxiety, today first day, today first, great, week seem, anxiety, jewelry, today hard, straight, lie, mental, kindness, uncomfortable, behavior, mindfulness, anxiety coronavirus, extremely, join, laugh, see anxiety, villager, event, yoga, second, meditation, advice, anxiety uncertainty, movie, legacy, community, lot anxiety today, socially distance, venue, yell, forget, though, sense, time much, fast, stress thing, anxiety feeling, real bad, much anxiety go, apply, country, experience much, season, really think, online_classe, uncontrollable, rest, anxiety much, today anxiety, basically, crowd, consider, low, pic_twitter com, online learning, com, nope, peace, pic_twitter, noise, severe anxiety, point, anxiety worse, minute, much anxiety, word, sensitive, time anxiety, plug, buy, go pass, anxiety super, medicate, understand, never experience, pick, big, psalm pic_twitter, psalm pic_twitter com, manage anxiety, sense anxiety, pass moment, today pic_twitter, week hear, today pic_twitter com, severe, anxiety hopefully, control, care, anxiety induce, real, apologize, terrify, uncertainty, even take, literally sleep, pretty anxiety, always, money, zen, phone, move, day feel, anxiety feel, anxiety future, simulation, turn, love, ear, induce, much, isolation, couch, suffer, help help, first day, try, anxiety depression, socially, ever, depression anxiety, crazy, today get, manage, coronavirus, depression, day make, check, induce fear, star, morning, people, hard, kill, today, news, feeling, watch, finally, calm, tend, copy, keep family, copy paste, heavily, topic, thing pretty, issue, work day, time love, intensive, anxiety stressful, get, make change, anxiety produce, anxiety build, distance, chest pain usually, pain usually, learning, worse, save, feel go, virtually teach intensive, fear perfect time, teach intensive, love virtually teach, book thrive anxiety, book thrive, write book, virtually teach, write book thrive, fear perfect, love virtually, thrive anxiety, thrive anxiety fear, time love virtually, sovereign, anxiety fear perfect, crazy world, need, thrive, work home really, concerned, definitely, really, dog anxiety, perfect time, thing, almost, release, make day, go, self, absolute, produce, anxiety manifest, sleep, teacher, thank, week make, past, paste, anxiety high, stress anxiety cause, home really, meeting, happen, already give anxiety, already give, anxiety attack, feel much, go today, bullshit, anxiety go roof, really cool, shot, wear, loved_one, super, know go, go roof, short, hell, cover, talk anxiety, anxiety today, help, panic buy, anxiety stressful time, attack, life, time, process, medicine, thank anxiety, anxiety thought, feel, aspect, everyday, relate, learn, cut, lot anxiety, imo, headline, many question, sound, know, see, feel anxiety, corona_virus, anxiety become, panic buying, spend time, online, possible, anxiety soar, soar, screen, datum, true, literally give, virtually, unit, line, takeout, anxiety day, anxiety real, change, fold, bad, whole, exercise, experience, ugh anxiety, ground calm, brain, ride, first, promise go, get much anxiety, really suck, mess, chinese, insurance, patient, today stop, think, never, hear, anxiety roof, complicate, stomach pain, barely, seem, grocery_store anxiety, chop, buying, roof, male, smoke anxiety, unwarranted, oblivious, student, literally, attack work, day row, thing need, anxiety finish, fr, dive, laugh laugh, suck, favor, moment, king, acupuncture, child anxiety, newsletter, psilocybin, anxiety idea, omfg, baby, high, friend leave, get much, thinker, lately, chapter, stress, need phrase, truth, already, guess watch, need get, anxiety death, grade student, pete, need go, teen anxiety, abortion, racism, juice, harmony, cry, check thank, week, tag love, life great, keep simple, morning make, manage stress, heartache, virus, apt, doggie, new life, urine, question, social_media time, day, anxiety airport, pretty, anxiety spiral, purr, crush anxiety, believe anxiety, holy fuck, work doctor, lower anxiety, anxiety awful, lift, nate, fall love, depression take, well help, random, get first, patrick, anxiety joke, anxiety fear let, patrick day, growing, eat thing, dropping, sob, anxiety medium, bomb, main thing, millenial, insensitive, gal, drunk, never bad, anxiety wake morning, able get, recession, anxiety fire, still leg, fear let, quiz, cool cool, currently anxiety roof, due corona_virus, yesterday try, back back, hit anxiety, go body, rabbi, irritated, eyebrow, coronavirus make, breaking point, arrest, anxiety gratitude, time add, collective goodness, anxiety vibe, irresponsible, echo, meditating, new, anxiety lie, prey, scared people, hyperventilate, anxiety shoot, unbelievably, privilege, get chest, manage stress anxiety, watch hunter, sand, band, bed anxiety, resolve anxiety, go online, considerate, let depression anxiety, idea much, anxiety country, real anxiety, sheriff, get super, take people, world, thing give, contract coronavirus, amy, fuck man, stress go, want die, work give, get response, go crazy, glad alone, migraine anxiety, tit, anxiety fact, long, let depression, aspect bad, communication challenge, anxiety want know, fearless, surrender, sleep mom, get irritated, moderate, talk, grow anxiety, impulsive, cycle anxiety, marathon, make phone call, bird, marathon next, hot tip, also anxiety attack, sex, call covid, job open, close together, time cough, rejoice, humble, fluid, anxiety fine, prime, make phone, anxiety exercise, much tweet, half brain, run away, lot, hive, action, survival mode, gang, virus impact, anxiety chart day, make bad, help anxiety keep, lay anxiety, level anxiety stress, campaign, try sleep, sunrise sunset, tenant, currently work, chart day, creepy, drone, phrase, complete, take anxiety, anxiety sickness, low anxiety, class go, stay sane, mommy, pero, cheap, bother, anxiety throw, exact, frozen, reality, fantastic, amount anxiety go, escape anxiety, lot public, waking, hopefully, italian, anxiety yesterday, anger frustration, cough time, person anxiety, dedicated, feel give, covidー related anxiety, bcuz, tonight anxiety, definitely anxiety provoke, cousin, aware, stress anxiety, sleep aid, feel anxiety kicking, back anxiety attack, tbh, take easy, always take_care, anxiety wanting, profit, insomniac, love watch, related anxiety, manage coronavirus, wanting, immunesystem, perfect, fuck happen, thread deal, anxiety listen, reducer, anxiety hell, bad trip, automatically, pound beer, ed, hour long anxiety, get anxiety thinking, stomach anxiety, organizing, number positive, helplessness, find get, girl anxiety roof, anxiety blanket, helicopter, toilet_pap anxiety, covidー related, overthink anxiety, operational, group message, universe, anxiety creep, car accident, span, week stress, daycare, thing say, amount people, go bar, calm whole, close eye, position, feel fear anxiety, go isolation, diagnose generalize anxiety, sore throat, long anxiety attack, thought go, book, panic know, sentence, dimension, dancing, coronavirus take, relief stock, washyourhand, alot anxiety, hospital today, shit crazy, rainy, bad time anxiety, anxiety high gear, stress lead, anxiety play, uncertain anxiety, slight anxiety, gum, hack, shift anxiety, fine anxiety, invite, say thing, ugh, time bad, recall, live tiny, today covid, feel coronavirus take, thank enough, place, text talkwithus, feel end world, keeper, never feel anxiety, successful, bunch anxiety, af, video call, household, artie, compete, happen right, like anxiety, diagnose generalize, however simple, mom anxiety, little give, diagnose anxiety, annoyed, thx, officer, periscope, doctor office, step away, take toll mental_health, brag, ground technique, day depression anxiety, anxiety gas, rid anxiety, wish anxiety, other anxiety, ease fear anxiety, awake anxiety, wake much, stem anxiety, anxiety need get, pain time, day depression, wake much anxiety, get hair, thread deal anxiety, mini, learn anxiety, call anxiety, justify, med first, severe separation anxiety, memory, provoke, amethyst, right make, chest pain, anxiety induce news, take anymore, honestly, almost week, rev, public place, student dress, help cope, anxiety do, play asthma, feel end, severe separation, bedroom, coronavirus take toll, worst, home help, be, people feel coronavirus, generalize anxiety, talkwithus, anxiety high take, news anxiety roof, anxiety cure, cortisol, psychologist counseling, starbuck, help anxiety start, ease fear, honestly anxiety\n",
            "Topic 4:\n",
            "give, give anxiety, anxiety, much anxiety, anxiety attack, much, attack, give much, give much anxiety, fuck, hate, kick, bad anxiety, anxiety kick, hate anxiety, ass, bad, anxiety fuck, suck, anxiety suck, shit give, mad, kill, anxiety kill, anxiety handle, massive, shit give anxiety, shit, anxiety chronic, massive anxiety, iconic, ass iconic, fuck anxiety, give anxiety attack, wake anxiety, dude, idk, chronic, anxiety chronic ass, chronic ass, chronic ass iconic, handle, anxiety kicking, sum, dog anxiety, kicking, anxiety much, literally give, mad anxiety, anywhere, lol, overdrive, anxiety lol, outta, nauseous, give bad anxiety, give bad, bottle, anxiety sadness, happen anxiety, today, literally give anxiety, anxiety idk, honestly give, anxiety beat, give mad anxiety, give mad, fake news, attack day, anxiety watching, honestly, msm, person anxiety, wake, pic, poop, really give, anxiety build, bruh, lock, anxiety ruin, fake, whole situation, go anywhere, lmfao, see empty, week pic_twitter, week pic_twitter com, horrible anxiety, fuck roof, anxiety fuck roof, social anxiety, anxietysuck, ruin life, kicking ass, anxiety hold, watching, hang, anxiety attack day, happen, handle much, bad hate, already give anxiety, already give, hate anxiety attack, ruin, gf, video give, dog, commercial, marble, really give anxiety, store today, beat, shopping, shoe, social, outbreak, really, attack take, anxiety attack take, drink, seasonal, seasonal allergy, black, anxiety lmfao, pic give anxiety, pic give, praise, pour, ass right, doodle, anxiety kicking ass, dog separation anxiety, dog separation, spider, conversation give, whole situation give, situation give, go give, video give anxiety, list give, list give anxiety, anxiety smoking, dream, anxiety overdrive, anxiety attack morning, attack morning, attack think, ass anxiety, succumb, feeling anxiety, get really bad, hate anxiety make, store, see empty shelf, gramfam, start kick, anxiety start kick, work give anxiety, starve, ass today, anxiety dude, anxiety dog, work give, bit much, bit much anxiety, anxiety get feel, get feel, ramp, get old, tweet give anxiety, tweet give, sit anxiety attack, sit anxiety, sadness, right, eyelash, bad anxiety attack, virus give, bored, hate wake, hate wake anxiety, coronavirus outbreak, classical, lysol, anxiety attack today, sophisticated, kind give anxiety, even feel, list, around give, bubble, attack today, anxiety poop, anxiety beat ass, beat ass, cycle anxiety, get chest, outbreak give, anxiety handle much, eating, fuck crazy, absolute bad, pressure, wrong, video, stomach anxiety, hold, hot tip, always anxiety, tweet, rly, white, give anxiety keep, suppress, depression take, make nauseous, meanwhile anxiety, already bad anxiety, fucking, give social, give social anxiety, sneeze, seriously hate, grocery_shopping, watch outbreak, fucking anxiety, think let, mental breakdown, get outta, chop, therefore, idk else, anxiety keep think, radio, anxiety half, coronavirus, stuck home, keep want, anxiety attack think, store get, need go store, go store get, make anxiety much, anxiety much bad, intervention, build, stick house, holy fuck, anxiety pull, increase feeling anxiety, give massive anxiety, give massive, increase feeling, whole, almost anxiety attack, excersise, mini, anxiety want know, allergy season, try give, horrible time, anxiety fuck bitch, fuck bitch, anxiety probably, almost anxiety, actually give, scripture, brown, situation give much, holy, happen really, start cry, anxiety joke, bad anxiety go, anytime, really glad, really suck, lecture, anxiety attack time, attack time, fucking edge, classical music, surround familiar, go give anxiety, attack hate, anxiety attack hate, prefer, literally almost, sit, cop, outta hand, feeling, many thing, talk guy, much tell, enemy, social anxiety know, scrub, love, seriously fuck, good leader take, good leader, leader take anxiety, take anxiety turn, turn confidence, anxiety turn confidence, leader take, ready, sob, online shopping, decide watch, scripture ease, scripture ease anxiety, name, eyebrow, nate, life great, today stop, anxiety freak, need mom, half brain, work really, work really hard, usual, question, deliver, keep simple, be, sofia, remember think, drown, directly, pink, yet, let depression anxiety, let depression, sadness feel, middle ground, valid, ordeal, whole ordeal, meanwhile, happen right, bite lemon, bitter taste, bitter, eliminate, social_media time, selfcare, hang friend, want smoke, fact, haunt, bit, annoy, anxiety idea, promise go, social_distancing, guess watch, substance abuse, substance, confidence, fall, politic, empty shelf, sand, much long, joke, make mad, amazon, morning, already, conversation, potentially, anxiety potentially, new life, anxiety turn, seek help, amethyst, anxiety hear, foreign, stool, sex, fuck man, believe anxiety, object, property, fr, ugh anxiety, day praise, praise day, adapt combat worry, day praise day, combat worry, combat worry fear, adapt combat, day row, time give, phone die, rd, nope, dive, lonely, leader, take anxiety, massive amount anxiety, go massive amount, go massive, thinker, doggie, store give, ugly, main thing, give mega, mega, mega anxiety, give mega anxiety, wear, give major, around, go lie, brown paper bag, brown paper, paper bag, back anxiety attack, morning make, anxiety country, lie, irresponsible, trigger social, trigger social anxiety, care feel overwhelmed, overwhelmed emotion, emotion sadness depression, sadness depression, sadness depression anxiety, emotion sadness, overwhelmed emotion sadness, feel overwhelmed emotion, trump, idea, glad alone, gal, thing give, get super, freak, anxiety glad, deteriorate, number positive, major, glad, adapt, get really, fish, worry fear, anxiety start, hit anxiety, finally get, promise, male, fall love, never feel anxiety, meditating, long, attack work, want stop, ground calm, anyway tired, praise anyway tired, praise anyway, helplessness, head back, live life, able go, want die, flash, anxiety happen, alcohol, know happen, anxiety enjoy, anxiety head, situation, extension, anxiety able, kill back leg, stool bleed, loosen skin blood, blur decrease, urine stool, leg stomach pain, bleed, gum blister peel, tarry stool bleed, urine stool blur, blister, tarry stool, skin blood, tarry, back leg stomach, leg stomach, peel loosen skin, peel, pain black tarry, attempt kill, peel loosen, loosen, loosen skin, blur, bleed gum, stomach pain black, kill back, stool blur, blister peel, attempt kill back, blood urine stool, pain black, stool bleed gum, stool blur decrease, bleed gum blister, skin blood urine, gum blister, blister peel loosen, anxiety attempt kill, black tarry, back leg, blood urine, black tarry stool, urine, stomach pain, gum, straight anxiety, anxiety attempt, ready go, herb, memory, blood, fearless, skin, abuse, side effect, silence, bomb, bcuz, decrease, attempt, time add, go online, leg, anxiety shoot, stomach, asse, class go, anxiety anger, anxiety creep, really hit, arrest, watch news, time bad, helpline, text talkwithus, talkwithus, keep, anger, effect, side, help anxiety keep, waking, cold sweat, much bad, video call, effect anxiety, vision, absolute, pain, food house, really bad separation, little give, sight, statistic, back back, really bad anxiety, hyperventilate, month pregnant, back, anxiety almost, unbelievably, feel sick, bedroom, addiction, massive amount, anxiety struggle, depression anxiety feel, anxiety keep, taste, dedicated, automatically, hypochondriac, lucky, nowhere, disease, tell, take anymore, life, ease anxiety fear, alone get, really bad, amount anxiety go, think go die, phone anxiety, fuck happen, distraction anxiety, scared people, appointment phone, alone, lose job, already bad, help anxiety start, pregnant, wedding anxiety, week stress, anxiety go grocery_store, take, leave apartment, totally normal, hardcore, nausea, train, cycle, job open, almost week, honestly whole, epidemic, anxiousness, guess, talk phone, go, worry much, yell, horrible, ugh, really make anxiety, desire, anxiety attack worry, hourly, penny, attack worry, even minute, idk people, scared, call covid, grab, single time, way, allergy, anxiety anger sadness, food also, right pure, coronavirus make, anxiety hope, stop think, probably, social_media feed, even know, head anxiety, glove, flesh, many emotion, overwhelming cause, disaster, anxiety ppl, anxiety yesterday, always keep, home really, bad make, frustrating, worst, week hear, always get, anxiety always get, dispensary, bad time anxiety, folk anxiety, right hard, tell anxiety, smoke, fly back, back home, fear anxiety covid, cause panic, turn, skeptical, drive, assume, anxiety huge, anymore, last two_week, passionate, stuck, social_media, thing think, try figure, bulk, help learn, feel throw, anxiety store, fruit, anxiety officially, son, hot, sour, get, creep, boss, slight anxiety, talk mom, chew, haha, talk, shoot, keep think, stay chill, feel overwhelmed, stop, scared go, distance, forget, lemon, tag love, bless, know anxiety, inform, eye, universe, ppl think, shower leave, lot good, dissipate, streaming, attack virus, sore throat, tip deal, anxiety make feel, also anxiety attack, tip deal anxiety, emergency broadcast, anxiety attack virus, work office, world, actively, contagious, refocus, apparently, bowl, combat, remember, thought prayer, move, believe, bro, opinion, persistent, back anxiety, really use, people leave fuck, fine anxiety, anxiety send, people leave, fuck alone, leave fuck alone, overthinke, anxiety soo, leave fuck, anxiety slight, cancel appointment, die go, anxiety healthy, buzz, day, medical, need give, bitch, anxiety get really, end lose, mom anxiety, fur, let use, anxiety need get, strong, row, feel alone, single, dog dog, heart go, think therapist, get anxiety attack, anxiety attack people, geez, time assume, grocery_shoppe, dry air, sick, make thing bad, reason stop, give anxiety roof, thing bad, yet anxiety attack, stress know, annoyed, want, anxiety think, desk, carry, possibly, school really, stigma, bed early, notification, allergy year, go bed early, expression, make bad, shelf, step away, development covid, smoking weed, screening, minded, get stuff, occasional, store see, love much, awhile, anxiety call, mental_health, new, good, suppose make, house give anxiety, find way, tw anxiety, emotion, always say, anxiety online, tw, symptom anxiety, anxiety make, vanish, bad nightmare, warn, kid anxiety, people anxiety feel, network, bad time, melt, say anxiety, let, people already, feel want, cold, heart, really go, edit, package, doctor know, wedding, tackle, man, track, level head, part brain, always, cool, huge, delete, get make, anxiety especially, half, anxiety give, anxiety really, exact, anxiety say, anxiety get, nap, rational, bad separation anxiety, get stomach, arrive, server, know hard, thing come, convinced, wrap, bad separation, buyer, go grocery_store, niece, least get, literally day, day yesterday, mommy, house give, edge, thing literally, anxiety present, anxiety scared, re, af, never feel, day today, roof right, anxiety insomnia, way anxiety set, really make, bag, try, go lil, go store, eat sleep, send help, walking, cost, enjoy, want know, life find, give feel, anxiety nice, luckily, understand need, anyone_else feel, phone, new anxiety med, unrest, free anxiety, anxiety kick full, seriously, stress eat, congested, different, anxiety phone, shortness breath cough, way work, go day, seek, please, season, cut, contain, need go, make think, bad part, unemployed, region, anxiety fine, time call, platform, hole anxiety, corner, cold allergy, night think, go lose, journal, marry, much anxiety feel, social anxiety also, yet anxiety, present, tired, show, movie, let go, entitle, break today, pull, anxiety week, cup, twitter, attack people, sore, minute meditation, probably good, distraction, pure, anxiety corona_virus, fabricate, broadcast, day honestly, bathroom cry, go die, fat, thought anxiety, die, corona_virus, literally, afraid, loose, time, hellll, view\n"
          ]
        }
      ]
    },
    {
      "cell_type": "code",
      "source": [
        "tfidfdist.shape"
      ],
      "metadata": {
        "colab": {
          "base_uri": "https://localhost:8080/"
        },
        "id": "3P2jQ_7FpXJd",
        "outputId": "2bb12a03-ad76-4306-f653-d082bf3363b2"
      },
      "execution_count": null,
      "outputs": [
        {
          "output_type": "execute_result",
          "data": {
            "text/plain": [
              "(5000, 5)"
            ]
          },
          "metadata": {},
          "execution_count": 43
        }
      ]
    },
    {
      "cell_type": "code",
      "source": [
        "X2 = lda.transform(tfidf_dataX)"
      ],
      "metadata": {
        "id": "vTNhQE8qwXl-"
      },
      "execution_count": null,
      "outputs": []
    },
    {
      "cell_type": "code",
      "source": [
        "X2"
      ],
      "metadata": {
        "colab": {
          "base_uri": "https://localhost:8080/"
        },
        "id": "pQEn0WnmpJxm",
        "outputId": "78f71d93-db74-485d-91a2-fd184b664fa3"
      },
      "execution_count": null,
      "outputs": [
        {
          "output_type": "execute_result",
          "data": {
            "text/plain": [
              "array([[0.03479966, 0.03482783, 0.86077612, 0.03480124, 0.03479515],\n",
              "       [0.04728993, 0.04725167, 0.68898456, 0.04725103, 0.16922281],\n",
              "       [0.05196347, 0.05196256, 0.79213424, 0.05196199, 0.05197774],\n",
              "       ...,\n",
              "       [0.03610371, 0.03610364, 0.85558277, 0.0361035 , 0.03610637],\n",
              "       [0.04160384, 0.04160371, 0.83357408, 0.04160353, 0.04161484],\n",
              "       [0.06093552, 0.06093568, 0.75625842, 0.06093572, 0.06093466]])"
            ]
          },
          "metadata": {},
          "execution_count": 45
        }
      ]
    },
    {
      "cell_type": "markdown",
      "source": [
        "**MINMAX**"
      ],
      "metadata": {
        "id": "Tm6Wf2vpx00O"
      }
    },
    {
      "cell_type": "code",
      "source": [
        "from sklearn.preprocessing import MinMaxScaler"
      ],
      "metadata": {
        "id": "BCZkI_UD_Eu_"
      },
      "execution_count": null,
      "outputs": []
    },
    {
      "cell_type": "code",
      "source": [
        "X2 = MinMaxScaler().fit_transform(X2)"
      ],
      "metadata": {
        "id": "vhzxg6iJx0cu"
      },
      "execution_count": null,
      "outputs": []
    },
    {
      "cell_type": "markdown",
      "source": [
        "**K-Means Clustering**"
      ],
      "metadata": {
        "id": "m_qO8WJVh8WS"
      }
    },
    {
      "cell_type": "code",
      "source": [
        "X2.shape"
      ],
      "metadata": {
        "colab": {
          "base_uri": "https://localhost:8080/"
        },
        "id": "xgmXPVpUa4Op",
        "outputId": "449b4949-e45d-4184-a904-2126210e2a0c"
      },
      "execution_count": null,
      "outputs": [
        {
          "output_type": "execute_result",
          "data": {
            "text/plain": [
              "(5000, 5)"
            ]
          },
          "metadata": {},
          "execution_count": 48
        }
      ]
    },
    {
      "cell_type": "markdown",
      "source": [
        "Use Elbow Method and find value of K"
      ],
      "metadata": {
        "id": "83F-P5HuEVEG"
      }
    },
    {
      "cell_type": "code",
      "source": [
        "import sklearn.cluster as cluster\n",
        "from sklearn.cluster import KMeans"
      ],
      "metadata": {
        "id": "8pLbUPYUnlLk"
      },
      "execution_count": null,
      "outputs": []
    },
    {
      "cell_type": "code",
      "source": [
        "K=range(1,12)\n",
        "wss = []\n",
        "for k in K:\n",
        "    kmeans=cluster.KMeans(n_clusters=k,init=\"k-means++\")\n",
        "    kmeans=kmeans.fit(X2)\n",
        "    wss_iter = kmeans.inertia_\n",
        "    wss.append(wss_iter)"
      ],
      "metadata": {
        "id": "m1KYwFuZhUPZ"
      },
      "execution_count": null,
      "outputs": []
    },
    {
      "cell_type": "code",
      "source": [
        "# mycenters = pd.DataFrame({'Clusters' : K, 'WSS' : wss})\n",
        "mycenters = pd.DataFrame({'Clusters' : range(1,12), 'WSS' : wss})\n",
        "mycenters"
      ],
      "metadata": {
        "id": "VEka_Zr-njVs",
        "colab": {
          "base_uri": "https://localhost:8080/",
          "height": 394
        },
        "outputId": "38150d20-61bf-4c11-fa5b-69c05f57be3b"
      },
      "execution_count": null,
      "outputs": [
        {
          "output_type": "execute_result",
          "data": {
            "text/plain": [
              "    Clusters         WSS\n",
              "0          1  451.502862\n",
              "1          2  178.706421\n",
              "2          3  123.828143\n",
              "3          4   96.866959\n",
              "4          5   68.804410\n",
              "5          6   47.741448\n",
              "6          7   34.210625\n",
              "7          8   28.812557\n",
              "8          9   24.857368\n",
              "9         10   21.197181\n",
              "10        11   18.731073"
            ],
            "text/html": [
              "\n",
              "  <div id=\"df-80bea629-7fde-482b-8d9b-71d5caae21d7\">\n",
              "    <div class=\"colab-df-container\">\n",
              "      <div>\n",
              "<style scoped>\n",
              "    .dataframe tbody tr th:only-of-type {\n",
              "        vertical-align: middle;\n",
              "    }\n",
              "\n",
              "    .dataframe tbody tr th {\n",
              "        vertical-align: top;\n",
              "    }\n",
              "\n",
              "    .dataframe thead th {\n",
              "        text-align: right;\n",
              "    }\n",
              "</style>\n",
              "<table border=\"1\" class=\"dataframe\">\n",
              "  <thead>\n",
              "    <tr style=\"text-align: right;\">\n",
              "      <th></th>\n",
              "      <th>Clusters</th>\n",
              "      <th>WSS</th>\n",
              "    </tr>\n",
              "  </thead>\n",
              "  <tbody>\n",
              "    <tr>\n",
              "      <th>0</th>\n",
              "      <td>1</td>\n",
              "      <td>451.502862</td>\n",
              "    </tr>\n",
              "    <tr>\n",
              "      <th>1</th>\n",
              "      <td>2</td>\n",
              "      <td>178.706421</td>\n",
              "    </tr>\n",
              "    <tr>\n",
              "      <th>2</th>\n",
              "      <td>3</td>\n",
              "      <td>123.828143</td>\n",
              "    </tr>\n",
              "    <tr>\n",
              "      <th>3</th>\n",
              "      <td>4</td>\n",
              "      <td>96.866959</td>\n",
              "    </tr>\n",
              "    <tr>\n",
              "      <th>4</th>\n",
              "      <td>5</td>\n",
              "      <td>68.804410</td>\n",
              "    </tr>\n",
              "    <tr>\n",
              "      <th>5</th>\n",
              "      <td>6</td>\n",
              "      <td>47.741448</td>\n",
              "    </tr>\n",
              "    <tr>\n",
              "      <th>6</th>\n",
              "      <td>7</td>\n",
              "      <td>34.210625</td>\n",
              "    </tr>\n",
              "    <tr>\n",
              "      <th>7</th>\n",
              "      <td>8</td>\n",
              "      <td>28.812557</td>\n",
              "    </tr>\n",
              "    <tr>\n",
              "      <th>8</th>\n",
              "      <td>9</td>\n",
              "      <td>24.857368</td>\n",
              "    </tr>\n",
              "    <tr>\n",
              "      <th>9</th>\n",
              "      <td>10</td>\n",
              "      <td>21.197181</td>\n",
              "    </tr>\n",
              "    <tr>\n",
              "      <th>10</th>\n",
              "      <td>11</td>\n",
              "      <td>18.731073</td>\n",
              "    </tr>\n",
              "  </tbody>\n",
              "</table>\n",
              "</div>\n",
              "      <button class=\"colab-df-convert\" onclick=\"convertToInteractive('df-80bea629-7fde-482b-8d9b-71d5caae21d7')\"\n",
              "              title=\"Convert this dataframe to an interactive table.\"\n",
              "              style=\"display:none;\">\n",
              "        \n",
              "  <svg xmlns=\"http://www.w3.org/2000/svg\" height=\"24px\"viewBox=\"0 0 24 24\"\n",
              "       width=\"24px\">\n",
              "    <path d=\"M0 0h24v24H0V0z\" fill=\"none\"/>\n",
              "    <path d=\"M18.56 5.44l.94 2.06.94-2.06 2.06-.94-2.06-.94-.94-2.06-.94 2.06-2.06.94zm-11 1L8.5 8.5l.94-2.06 2.06-.94-2.06-.94L8.5 2.5l-.94 2.06-2.06.94zm10 10l.94 2.06.94-2.06 2.06-.94-2.06-.94-.94-2.06-.94 2.06-2.06.94z\"/><path d=\"M17.41 7.96l-1.37-1.37c-.4-.4-.92-.59-1.43-.59-.52 0-1.04.2-1.43.59L10.3 9.45l-7.72 7.72c-.78.78-.78 2.05 0 2.83L4 21.41c.39.39.9.59 1.41.59.51 0 1.02-.2 1.41-.59l7.78-7.78 2.81-2.81c.8-.78.8-2.07 0-2.86zM5.41 20L4 18.59l7.72-7.72 1.47 1.35L5.41 20z\"/>\n",
              "  </svg>\n",
              "      </button>\n",
              "      \n",
              "  <style>\n",
              "    .colab-df-container {\n",
              "      display:flex;\n",
              "      flex-wrap:wrap;\n",
              "      gap: 12px;\n",
              "    }\n",
              "\n",
              "    .colab-df-convert {\n",
              "      background-color: #E8F0FE;\n",
              "      border: none;\n",
              "      border-radius: 50%;\n",
              "      cursor: pointer;\n",
              "      display: none;\n",
              "      fill: #1967D2;\n",
              "      height: 32px;\n",
              "      padding: 0 0 0 0;\n",
              "      width: 32px;\n",
              "    }\n",
              "\n",
              "    .colab-df-convert:hover {\n",
              "      background-color: #E2EBFA;\n",
              "      box-shadow: 0px 1px 2px rgba(60, 64, 67, 0.3), 0px 1px 3px 1px rgba(60, 64, 67, 0.15);\n",
              "      fill: #174EA6;\n",
              "    }\n",
              "\n",
              "    [theme=dark] .colab-df-convert {\n",
              "      background-color: #3B4455;\n",
              "      fill: #D2E3FC;\n",
              "    }\n",
              "\n",
              "    [theme=dark] .colab-df-convert:hover {\n",
              "      background-color: #434B5C;\n",
              "      box-shadow: 0px 1px 3px 1px rgba(0, 0, 0, 0.15);\n",
              "      filter: drop-shadow(0px 1px 2px rgba(0, 0, 0, 0.3));\n",
              "      fill: #FFFFFF;\n",
              "    }\n",
              "  </style>\n",
              "\n",
              "      <script>\n",
              "        const buttonEl =\n",
              "          document.querySelector('#df-80bea629-7fde-482b-8d9b-71d5caae21d7 button.colab-df-convert');\n",
              "        buttonEl.style.display =\n",
              "          google.colab.kernel.accessAllowed ? 'block' : 'none';\n",
              "\n",
              "        async function convertToInteractive(key) {\n",
              "          const element = document.querySelector('#df-80bea629-7fde-482b-8d9b-71d5caae21d7');\n",
              "          const dataTable =\n",
              "            await google.colab.kernel.invokeFunction('convertToInteractive',\n",
              "                                                     [key], {});\n",
              "          if (!dataTable) return;\n",
              "\n",
              "          const docLinkHtml = 'Like what you see? Visit the ' +\n",
              "            '<a target=\"_blank\" href=https://colab.research.google.com/notebooks/data_table.ipynb>data table notebook</a>'\n",
              "            + ' to learn more about interactive tables.';\n",
              "          element.innerHTML = '';\n",
              "          dataTable['output_type'] = 'display_data';\n",
              "          await google.colab.output.renderOutput(dataTable, element);\n",
              "          const docLink = document.createElement('div');\n",
              "          docLink.innerHTML = docLinkHtml;\n",
              "          element.appendChild(docLink);\n",
              "        }\n",
              "      </script>\n",
              "    </div>\n",
              "  </div>\n",
              "  "
            ]
          },
          "metadata": {},
          "execution_count": 51
        }
      ]
    },
    {
      "cell_type": "code",
      "source": [
        "# sns.scatterplot(x = 'Clusters', y = 'WSS', data = mycenters, marker=\"+\")"
      ],
      "metadata": {
        "id": "cA8umQuQnyan"
      },
      "execution_count": null,
      "outputs": []
    },
    {
      "cell_type": "code",
      "source": [
        "plt.figure(1 , figsize = (15 ,6))\n",
        "plt.plot(np.arange(1 , 12) , wss , 'o')\n",
        "plt.plot(np.arange(1 , 12) , wss , '-' , alpha = 0.5)\n",
        "plt.xlabel('Number of Clusters') , plt.ylabel('WSS')\n",
        "plt.show()"
      ],
      "metadata": {
        "colab": {
          "base_uri": "https://localhost:8080/",
          "height": 420
        },
        "id": "jWS2AiORLfqI",
        "outputId": "a70461ed-822b-40c7-bbed-2f47f7f0241a"
      },
      "execution_count": null,
      "outputs": [
        {
          "output_type": "display_data",
          "data": {
            "text/plain": [
              "<Figure size 1080x432 with 1 Axes>"
            ],
            "image/png": "[encoded data removed]"
          },
          "metadata": {}
        }
      ]
    },
    {
      "cell_type": "code",
      "source": [
        "# from sklearn.cluster import KMeans\n",
        "# wcss = []\n",
        "\n",
        "# for k in range(1,10):\n",
        "#     kmeans = KMeans(n_clusters=k, random_state=42)\n",
        "#     kmeans.fit(tfidf_dataX)\n",
        "#     wcss.append(kmeans.inertia_)\n",
        "# print(k)\n",
        "\n",
        "\n",
        "    \n",
        "# plt.plot(range(1,10),wcss)\n",
        "# plt.xlabel(\"number of k (cluster) value\")\n",
        "# plt.ylabel(\"wcss\")\n",
        "# plt.show()\n",
        "# print(wcss)"
      ],
      "metadata": {
        "id": "cpI-YemWhhYm"
      },
      "execution_count": null,
      "outputs": []
    },
    {
      "cell_type": "markdown",
      "source": [
        "Here Elbow Created at point 5\n",
        "So K=5"
      ],
      "metadata": {
        "id": "Yjr_4t0zf_vC"
      }
    },
    {
      "cell_type": "code",
      "source": [
        "kmeans2 = KMeans(n_clusters = 3, init = \"k-means++\", random_state = 42)\n",
        "kmeans2.fit(X2)\n",
        "clusters = kmeans2.labels_"
      ],
      "metadata": {
        "id": "BKaX7Dn_Wcjf"
      },
      "execution_count": null,
      "outputs": []
    },
    {
      "cell_type": "code",
      "source": [
        "clusters"
      ],
      "metadata": {
        "id": "tBdSb2DsgQd8",
        "colab": {
          "base_uri": "https://localhost:8080/"
        },
        "outputId": "ce987a13-c6d3-4f0c-ca83-e2997e3e309e"
      },
      "execution_count": null,
      "outputs": [
        {
          "output_type": "execute_result",
          "data": {
            "text/plain": [
              "array([1, 1, 1, ..., 1, 1, 1], dtype=int32)"
            ]
          },
          "metadata": {},
          "execution_count": 56
        }
      ]
    },
    {
      "cell_type": "code",
      "source": [
        "[c for c in clusters][:20]"
      ],
      "metadata": {
        "id": "Oga6rjAB8zPC",
        "colab": {
          "base_uri": "https://localhost:8080/"
        },
        "outputId": "7377d968-0af4-4847-ca18-d6383056f1b1"
      },
      "execution_count": null,
      "outputs": [
        {
          "output_type": "execute_result",
          "data": {
            "text/plain": [
              "[1, 1, 1, 1, 1, 1, 1, 1, 1, 1, 1, 1, 1, 1, 1, 1, 1, 1, 1, 1]"
            ]
          },
          "metadata": {},
          "execution_count": 57
        }
      ]
    },
    {
      "cell_type": "code",
      "source": [
        "X2.shape"
      ],
      "metadata": {
        "id": "XLEa1GoH9L9e",
        "colab": {
          "base_uri": "https://localhost:8080/"
        },
        "outputId": "d7e7b63a-8fca-4bc0-cd86-14758d6d7ab4"
      },
      "execution_count": null,
      "outputs": [
        {
          "output_type": "execute_result",
          "data": {
            "text/plain": [
              "(5000, 5)"
            ]
          },
          "metadata": {},
          "execution_count": 58
        }
      ]
    },
    {
      "cell_type": "code",
      "source": [
        "tfidf_dataX.shape"
      ],
      "metadata": {
        "colab": {
          "base_uri": "https://localhost:8080/"
        },
        "id": "rFu00vaBsACi",
        "outputId": "d61bf591-96e0-4a65-bd43-f14571ab16fe"
      },
      "execution_count": null,
      "outputs": [
        {
          "output_type": "execute_result",
          "data": {
            "text/plain": [
              "(5000, 9000)"
            ]
          },
          "metadata": {},
          "execution_count": 59
        }
      ]
    },
    {
      "cell_type": "code",
      "source": [
        "from sklearn.decomposition import PCA\n",
        "\n",
        "# initialize PCA with 2 components\n",
        "pca = PCA(n_components=2, random_state=80)\n",
        "# pass our X to the pca and store the reduced vectors into pca_vecs\n",
        "pca_vecs = pca.fit_transform(X2)\n",
        "# save our two dimensions into x0 and x1\n",
        "x0 = pca_vecs[:, 0]\n",
        "x1 = pca_vecs[:, 1]\n"
      ],
      "metadata": {
        "id": "671_qvQEBQp3"
      },
      "execution_count": null,
      "outputs": []
    },
    {
      "cell_type": "code",
      "source": [
        "x0"
      ],
      "metadata": {
        "id": "WZqJzTiiBqWa",
        "colab": {
          "base_uri": "https://localhost:8080/"
        },
        "outputId": "3d6880d0-0c45-4872-d017-b56dcb4dd335"
      },
      "execution_count": null,
      "outputs": [
        {
          "output_type": "execute_result",
          "data": {
            "text/plain": [
              "array([-0.14934796,  0.10062961, -0.06631292, ..., -0.14306027,\n",
              "       -0.11643714, -0.02292555])"
            ]
          },
          "metadata": {},
          "execution_count": 61
        }
      ]
    },
    {
      "cell_type": "code",
      "source": [
        "x1"
      ],
      "metadata": {
        "id": "lIJxjRSDBsVj",
        "colab": {
          "base_uri": "https://localhost:8080/"
        },
        "outputId": "908c179e-459a-457e-b0be-c5d8557840f5"
      },
      "execution_count": null,
      "outputs": [
        {
          "output_type": "execute_result",
          "data": {
            "text/plain": [
              "array([-0.02546505, -0.05661288,  0.00630805, ..., -0.02307207,\n",
              "       -0.01288467,  0.02294089])"
            ]
          },
          "metadata": {},
          "execution_count": 62
        }
      ]
    },
    {
      "cell_type": "code",
      "source": [
        "# assign clusters and pca vectors to our dataframe \n",
        "dataset2['cluster'] = clusters\n",
        "dataset2['x0'] = x0\n",
        "dataset2['x1'] = x1"
      ],
      "metadata": {
        "id": "fvuRXth7CNOD"
      },
      "execution_count": null,
      "outputs": []
    },
    {
      "cell_type": "code",
      "source": [
        "dataset2"
      ],
      "metadata": {
        "id": "QNOu4O6CCTiw",
        "colab": {
          "base_uri": "https://localhost:8080/",
          "height": 423
        },
        "outputId": "88d9406d-f162-4f59-c75e-b602e0b76b1e"
      },
      "execution_count": null,
      "outputs": [
        {
          "output_type": "execute_result",
          "data": {
            "text/plain": [
              "                                                   text  \\\n",
              "0     Check out page 8 of this week’s East Aurora Ad...   \n",
              "1     Anxiety keeping you up? Amazons got you at 3:3...   \n",
              "2     Harlem Nights, Booksmart, Fletch, the Hangover...   \n",
              "3     All quarantine has done so far is give me anxi...   \n",
              "4     The scariest part is the “No Symptoms” gives m...   \n",
              "...                                                 ...   \n",
              "4995  Depression, anxiety and PTSD are very real. I ...   \n",
              "4996  Lord, ask that you watch and keep us on the wa...   \n",
              "4997  As someone with an actual anxiety disorder I h...   \n",
              "4998  Amerie went home sick w/ a cough and 103 fever...   \n",
              "4999  My Friday the 13th marathon is next but first,...   \n",
              "\n",
              "                                                cleaned  cluster        x0  \\\n",
              "0     check page week advertiser tip take care stres...        1 -0.149348   \n",
              "1     anxiety keep amazon get want order foot scrub ...        1  0.100630   \n",
              "2     night fletch hangover boy high anxiety history...        1 -0.066313   \n",
              "3     quarantine do far give anxiety online shopping...        1  0.319421   \n",
              "4                       scary part symptom give anxiety        1  0.191912   \n",
              "...                                                 ...      ...       ...   \n",
              "4995  depression anxiety ptsd real like friend post ...        1 -0.124547   \n",
              "4996  ask keep way back body soul guide respective d...        1 -0.133656   \n",
              "4997  actual anxiety disorder weird thing feel less ...        1 -0.143060   \n",
              "4998  go home sick cough fever anxiety test say ask ...        1 -0.116437   \n",
              "4999              marathon next pic_twitter com dcoaqja        1 -0.022926   \n",
              "\n",
              "            x1  \n",
              "0    -0.025465  \n",
              "1    -0.056613  \n",
              "2     0.006308  \n",
              "3    -0.114342  \n",
              "4    -0.038055  \n",
              "...        ...  \n",
              "4995 -0.015952  \n",
              "4996 -0.019426  \n",
              "4997 -0.023072  \n",
              "4998 -0.012885  \n",
              "4999  0.022941  \n",
              "\n",
              "[5000 rows x 5 columns]"
            ],
            "text/html": [
              "\n",
              "  <div id=\"df-62bb3375-23c8-4c3c-8d87-b541059d675e\">\n",
              "    <div class=\"colab-df-container\">\n",
              "      <div>\n",
              "<style scoped>\n",
              "    .dataframe tbody tr th:only-of-type {\n",
              "        vertical-align: middle;\n",
              "    }\n",
              "\n",
              "    .dataframe tbody tr th {\n",
              "        vertical-align: top;\n",
              "    }\n",
              "\n",
              "    .dataframe thead th {\n",
              "        text-align: right;\n",
              "    }\n",
              "</style>\n",
              "<table border=\"1\" class=\"dataframe\">\n",
              "  <thead>\n",
              "    <tr style=\"text-align: right;\">\n",
              "      <th></th>\n",
              "      <th>text</th>\n",
              "      <th>cleaned</th>\n",
              "      <th>cluster</th>\n",
              "      <th>x0</th>\n",
              "      <th>x1</th>\n",
              "    </tr>\n",
              "  </thead>\n",
              "  <tbody>\n",
              "    <tr>\n",
              "      <th>0</th>\n",
              "      <td>Check out page 8 of this week’s East Aurora Ad...</td>\n",
              "      <td>check page week advertiser tip take care stres...</td>\n",
              "      <td>1</td>\n",
              "      <td>-0.149348</td>\n",
              "      <td>-0.025465</td>\n",
              "    </tr>\n",
              "    <tr>\n",
              "      <th>1</th>\n",
              "      <td>Anxiety keeping you up? Amazons got you at 3:3...</td>\n",
              "      <td>anxiety keep amazon get want order foot scrub ...</td>\n",
              "      <td>1</td>\n",
              "      <td>0.100630</td>\n",
              "      <td>-0.056613</td>\n",
              "    </tr>\n",
              "    <tr>\n",
              "      <th>2</th>\n",
              "      <td>Harlem Nights, Booksmart, Fletch, the Hangover...</td>\n",
              "      <td>night fletch hangover boy high anxiety history...</td>\n",
              "      <td>1</td>\n",
              "      <td>-0.066313</td>\n",
              "      <td>0.006308</td>\n",
              "    </tr>\n",
              "    <tr>\n",
              "      <th>3</th>\n",
              "      <td>All quarantine has done so far is give me anxi...</td>\n",
              "      <td>quarantine do far give anxiety online shopping...</td>\n",
              "      <td>1</td>\n",
              "      <td>0.319421</td>\n",
              "      <td>-0.114342</td>\n",
              "    </tr>\n",
              "    <tr>\n",
              "      <th>4</th>\n",
              "      <td>The scariest part is the “No Symptoms” gives m...</td>\n",
              "      <td>scary part symptom give anxiety</td>\n",
              "      <td>1</td>\n",
              "      <td>0.191912</td>\n",
              "      <td>-0.038055</td>\n",
              "    </tr>\n",
              "    <tr>\n",
              "      <th>...</th>\n",
              "      <td>...</td>\n",
              "      <td>...</td>\n",
              "      <td>...</td>\n",
              "      <td>...</td>\n",
              "      <td>...</td>\n",
              "    </tr>\n",
              "    <tr>\n",
              "      <th>4995</th>\n",
              "      <td>Depression, anxiety and PTSD are very real. I ...</td>\n",
              "      <td>depression anxiety ptsd real like friend post ...</td>\n",
              "      <td>1</td>\n",
              "      <td>-0.124547</td>\n",
              "      <td>-0.015952</td>\n",
              "    </tr>\n",
              "    <tr>\n",
              "      <th>4996</th>\n",
              "      <td>Lord, ask that you watch and keep us on the wa...</td>\n",
              "      <td>ask keep way back body soul guide respective d...</td>\n",
              "      <td>1</td>\n",
              "      <td>-0.133656</td>\n",
              "      <td>-0.019426</td>\n",
              "    </tr>\n",
              "    <tr>\n",
              "      <th>4997</th>\n",
              "      <td>As someone with an actual anxiety disorder I h...</td>\n",
              "      <td>actual anxiety disorder weird thing feel less ...</td>\n",
              "      <td>1</td>\n",
              "      <td>-0.143060</td>\n",
              "      <td>-0.023072</td>\n",
              "    </tr>\n",
              "    <tr>\n",
              "      <th>4998</th>\n",
              "      <td>Amerie went home sick w/ a cough and 103 fever...</td>\n",
              "      <td>go home sick cough fever anxiety test say ask ...</td>\n",
              "      <td>1</td>\n",
              "      <td>-0.116437</td>\n",
              "      <td>-0.012885</td>\n",
              "    </tr>\n",
              "    <tr>\n",
              "      <th>4999</th>\n",
              "      <td>My Friday the 13th marathon is next but first,...</td>\n",
              "      <td>marathon next pic_twitter com dcoaqja</td>\n",
              "      <td>1</td>\n",
              "      <td>-0.022926</td>\n",
              "      <td>0.022941</td>\n",
              "    </tr>\n",
              "  </tbody>\n",
              "</table>\n",
              "<p>5000 rows × 5 columns</p>\n",
              "</div>\n",
              "      <button class=\"colab-df-convert\" onclick=\"convertToInteractive('df-62bb3375-23c8-4c3c-8d87-b541059d675e')\"\n",
              "              title=\"Convert this dataframe to an interactive table.\"\n",
              "              style=\"display:none;\">\n",
              "        \n",
              "  <svg xmlns=\"http://www.w3.org/2000/svg\" height=\"24px\"viewBox=\"0 0 24 24\"\n",
              "       width=\"24px\">\n",
              "    <path d=\"M0 0h24v24H0V0z\" fill=\"none\"/>\n",
              "    <path d=\"M18.56 5.44l.94 2.06.94-2.06 2.06-.94-2.06-.94-.94-2.06-.94 2.06-2.06.94zm-11 1L8.5 8.5l.94-2.06 2.06-.94-2.06-.94L8.5 2.5l-.94 2.06-2.06.94zm10 10l.94 2.06.94-2.06 2.06-.94-2.06-.94-.94-2.06-.94 2.06-2.06.94z\"/><path d=\"M17.41 7.96l-1.37-1.37c-.4-.4-.92-.59-1.43-.59-.52 0-1.04.2-1.43.59L10.3 9.45l-7.72 7.72c-.78.78-.78 2.05 0 2.83L4 21.41c.39.39.9.59 1.41.59.51 0 1.02-.2 1.41-.59l7.78-7.78 2.81-2.81c.8-.78.8-2.07 0-2.86zM5.41 20L4 18.59l7.72-7.72 1.47 1.35L5.41 20z\"/>\n",
              "  </svg>\n",
              "      </button>\n",
              "      \n",
              "  <style>\n",
              "    .colab-df-container {\n",
              "      display:flex;\n",
              "      flex-wrap:wrap;\n",
              "      gap: 12px;\n",
              "    }\n",
              "\n",
              "    .colab-df-convert {\n",
              "      background-color: #E8F0FE;\n",
              "      border: none;\n",
              "      border-radius: 50%;\n",
              "      cursor: pointer;\n",
              "      display: none;\n",
              "      fill: #1967D2;\n",
              "      height: 32px;\n",
              "      padding: 0 0 0 0;\n",
              "      width: 32px;\n",
              "    }\n",
              "\n",
              "    .colab-df-convert:hover {\n",
              "      background-color: #E2EBFA;\n",
              "      box-shadow: 0px 1px 2px rgba(60, 64, 67, 0.3), 0px 1px 3px 1px rgba(60, 64, 67, 0.15);\n",
              "      fill: #174EA6;\n",
              "    }\n",
              "\n",
              "    [theme=dark] .colab-df-convert {\n",
              "      background-color: #3B4455;\n",
              "      fill: #D2E3FC;\n",
              "    }\n",
              "\n",
              "    [theme=dark] .colab-df-convert:hover {\n",
              "      background-color: #434B5C;\n",
              "      box-shadow: 0px 1px 3px 1px rgba(0, 0, 0, 0.15);\n",
              "      filter: drop-shadow(0px 1px 2px rgba(0, 0, 0, 0.3));\n",
              "      fill: #FFFFFF;\n",
              "    }\n",
              "  </style>\n",
              "\n",
              "      <script>\n",
              "        const buttonEl =\n",
              "          document.querySelector('#df-62bb3375-23c8-4c3c-8d87-b541059d675e button.colab-df-convert');\n",
              "        buttonEl.style.display =\n",
              "          google.colab.kernel.accessAllowed ? 'block' : 'none';\n",
              "\n",
              "        async function convertToInteractive(key) {\n",
              "          const element = document.querySelector('#df-62bb3375-23c8-4c3c-8d87-b541059d675e');\n",
              "          const dataTable =\n",
              "            await google.colab.kernel.invokeFunction('convertToInteractive',\n",
              "                                                     [key], {});\n",
              "          if (!dataTable) return;\n",
              "\n",
              "          const docLinkHtml = 'Like what you see? Visit the ' +\n",
              "            '<a target=\"_blank\" href=https://colab.research.google.com/notebooks/data_table.ipynb>data table notebook</a>'\n",
              "            + ' to learn more about interactive tables.';\n",
              "          element.innerHTML = '';\n",
              "          dataTable['output_type'] = 'display_data';\n",
              "          await google.colab.output.renderOutput(dataTable, element);\n",
              "          const docLink = document.createElement('div');\n",
              "          docLink.innerHTML = docLinkHtml;\n",
              "          element.appendChild(docLink);\n",
              "        }\n",
              "      </script>\n",
              "    </div>\n",
              "  </div>\n",
              "  "
            ]
          },
          "metadata": {},
          "execution_count": 64
        }
      ]
    },
    {
      "cell_type": "markdown",
      "source": [
        "Get Top Keywords"
      ],
      "metadata": {
        "id": "SOJrIxTSYYaC"
      }
    },
    {
      "cell_type": "code",
      "source": [
        "plt.bar([x for x in range(3)], dataset2.groupby(['cluster'])['text'].count(), alpha = 0.4)\n",
        "plt.title('KMeans cluster points')\n",
        "plt.xlabel(\"Cluster number\")\n",
        "plt.ylabel(\"Number of points\")\n",
        "plt.show()"
      ],
      "metadata": {
        "id": "Rp4EjrpVztyg",
        "colab": {
          "base_uri": "https://localhost:8080/",
          "height": 325
        },
        "outputId": "c01d2904-89a3-49c6-f8e2-f2c74ff990a3"
      },
      "execution_count": null,
      "outputs": [
        {
          "output_type": "display_data",
          "data": {
            "text/plain": [
              "<Figure size 432x288 with 1 Axes>"
            ],
            "image/png": "[encoded data removed]"
          },
          "metadata": {}
        }
      ]
    },
    {
      "cell_type": "code",
      "source": [
        "# def get_top_keywords(n_terms):\n",
        "#     \"\"\"This function returns the keywords for each centroid of the KMeans\"\"\"\n",
        "#         print('\\nCluster {}'.format(i))\n",
        "#         print(','.join([feature_name[t] for t in np.argsort(r)[-n_terms:]])) # for each row of the dataframe, find the n terms that have the highest tf idf score\n",
        "            \n",
        "# get_top_keywords(30)\n",
        "# ///\n",
        "\n",
        "\n",
        "def get_top_keywords(n_terms):\n",
        "    \"\"\"This function returns the keywords for each centroid of the KMeans\"\"\"\n",
        "    df = pd.DataFrame(tfidf_dataX.todense()).groupby(clusters).mean() # groups the TF-IDF vector by cluster\n",
        "    terms = tfidf_feature_names # access tf-idf terms\n",
        "    for i,r in df.iterrows():\n",
        "        print('\\nCluster {}'.format(i))\n",
        "        print(','.join([terms[t] for t in np.argsort(r)[-n_terms:]])) # for each row of the dataframe, find the n terms that have the highest tf idf score\n",
        "            \n",
        "get_top_keywords(30)\n",
        "\n"
      ],
      "metadata": {
        "id": "ppsKs9pWD_Qc",
        "colab": {
          "base_uri": "https://localhost:8080/"
        },
        "outputId": "06e48f12-6183-4009-e979-c99e49c45654"
      },
      "execution_count": null,
      "outputs": [
        {
          "output_type": "stream",
          "name": "stdout",
          "text": [
            "\n",
            "Cluster 0\n",
            "open body,body shame,double,great joy,anxiety great joy,great joy psalm,joy psalm,thank,body,want,terrible anxiety,overcome,extinction anxiety,extinction,pic_twitter,pic_twitter com,com,antidote,joy,psalm,relieve,source,relieve anxiety,source anxiety,terrible,great,anxiety great,real,anxiety real,anxiety\n",
            "\n",
            "Cluster 1\n",
            "fear,anxiety roof,right,thing,think,take,bad,high,give,much,today,depression,good,roof,make,need,stress,know,pic_twitter com,com,pic_twitter,work,people,day,help,feel,time,go,get,anxiety\n",
            "\n",
            "Cluster 2\n",
            "chronic ass,anxiety handle,today,give anxiety attack,anxiety chronic,iconic,ass iconic,shit give,shit,kill,anxiety fuck,anxiety suck,suck,hate anxiety,anxiety kick,bad,bad anxiety,ass,kick,hate,fuck,give much anxiety,give much,attack,much,much anxiety,anxiety attack,anxiety,give anxiety,give\n"
          ]
        }
      ]
    },
    {
      "cell_type": "code",
      "source": [
        "# # map clusters to appropriate labels \n",
        "# cluster_map = {0: \"Give, So much\", 1: \"Impose, Improve, Impulse\", 2: \"Important, Isolation\", 3: \"Depressive Words\", 4: \"Important, Prioritize, Mental\",  5:\"Social Media Words\"}\n",
        "# # apply mapping\n",
        "# df['cluster'] = df['cluster'].map(cluster_map)"
      ],
      "metadata": {
        "id": "IB7QjLUAFzJf"
      },
      "execution_count": null,
      "outputs": []
    },
    {
      "cell_type": "code",
      "source": [
        "# set image size\n",
        "plt.figure(figsize=(15, 7))\n",
        "# set a title\n",
        "plt.title(\"TF-IDF + KMeans Clustering\", fontdict={\"fontsize\": 25})\n",
        "# set axes names\n",
        "plt.xlabel(\"X0\", fontdict={\"fontsize\": 20})\n",
        "plt.ylabel(\"X1\", fontdict={\"fontsize\": 20}) \n",
        "\n",
        "# create scatter plot with seaborn, where hue is the class used to group the data\n",
        "sns.scatterplot(data=dataset2, x='x0', y='x1', hue='cluster', palette=\"viridis\")\n",
        "plt.scatter(kmeans2.cluster_centers_[:, 0], kmeans2.cluster_centers_[:, 1], s = 100, c = 'black', label = 'Centroids')\n",
        "plt.show()"
      ],
      "metadata": {
        "id": "LkzE1LesF0gj",
        "colab": {
          "base_uri": "https://localhost:8080/",
          "height": 505
        },
        "outputId": "4f1c88d1-bc8f-43ef-d011-d541457f0246"
      },
      "execution_count": null,
      "outputs": [
        {
          "output_type": "display_data",
          "data": {
            "text/plain": [
              "<Figure size 1080x504 with 1 Axes>"
            ],
            "image/png": "[encoded data removed]"
          },
          "metadata": {}
        }
      ]
    },
    {
      "cell_type": "code",
      "source": [
        "df"
      ],
      "metadata": {
        "id": "mVlq_bV_uOrB",
        "colab": {
          "base_uri": "https://localhost:8080/",
          "height": 423
        },
        "outputId": "29dc6444-a611-4b51-dd6e-e77056d9b46e"
      },
      "execution_count": null,
      "outputs": [
        {
          "output_type": "execute_result",
          "data": {
            "text/plain": [
              "                                                   text  \\\n",
              "0     Check out page 8 of this week’s East Aurora Ad...   \n",
              "1     Anxiety keeping you up? Amazons got you at 3:3...   \n",
              "2     Harlem Nights, Booksmart, Fletch, the Hangover...   \n",
              "3     All quarantine has done so far is give me anxi...   \n",
              "4     The scariest part is the “No Symptoms” gives m...   \n",
              "...                                                 ...   \n",
              "4995  Depression, anxiety and PTSD are very real. I ...   \n",
              "4996  Lord, ask that you watch and keep us on the wa...   \n",
              "4997  As someone with an actual anxiety disorder I h...   \n",
              "4998  Amerie went home sick w/ a cough and 103 fever...   \n",
              "4999  My Friday the 13th marathon is next but first,...   \n",
              "\n",
              "                                                cleaned  cluster        x0  \\\n",
              "0     check page week advertiser tip take care stres...        1 -0.149348   \n",
              "1     anxiety keep amazon get want order foot scrub ...        1  0.100630   \n",
              "2     night fletch hangover boy high anxiety history...        1 -0.066313   \n",
              "3     quarantine do far give anxiety online shopping...        1  0.319421   \n",
              "4                       scary part symptom give anxiety        1  0.191912   \n",
              "...                                                 ...      ...       ...   \n",
              "4995  depression anxiety ptsd real like friend post ...        1 -0.124547   \n",
              "4996  ask keep way back body soul guide respective d...        1 -0.133656   \n",
              "4997  actual anxiety disorder weird thing feel less ...        1 -0.143060   \n",
              "4998  go home sick cough fever anxiety test say ask ...        1 -0.116437   \n",
              "4999              marathon next pic_twitter com dcoaqja        1 -0.022926   \n",
              "\n",
              "            x1  \n",
              "0    -0.025465  \n",
              "1    -0.056613  \n",
              "2     0.006308  \n",
              "3    -0.114342  \n",
              "4    -0.038055  \n",
              "...        ...  \n",
              "4995 -0.015952  \n",
              "4996 -0.019426  \n",
              "4997 -0.023072  \n",
              "4998 -0.012885  \n",
              "4999  0.022941  \n",
              "\n",
              "[5000 rows x 5 columns]"
            ],
            "text/html": [
              "\n",
              "  <div id=\"df-f5b8134d-ba87-4165-86a1-8c335400aa5c\">\n",
              "    <div class=\"colab-df-container\">\n",
              "      <div>\n",
              "<style scoped>\n",
              "    .dataframe tbody tr th:only-of-type {\n",
              "        vertical-align: middle;\n",
              "    }\n",
              "\n",
              "    .dataframe tbody tr th {\n",
              "        vertical-align: top;\n",
              "    }\n",
              "\n",
              "    .dataframe thead th {\n",
              "        text-align: right;\n",
              "    }\n",
              "</style>\n",
              "<table border=\"1\" class=\"dataframe\">\n",
              "  <thead>\n",
              "    <tr style=\"text-align: right;\">\n",
              "      <th></th>\n",
              "      <th>text</th>\n",
              "      <th>cleaned</th>\n",
              "      <th>cluster</th>\n",
              "      <th>x0</th>\n",
              "      <th>x1</th>\n",
              "    </tr>\n",
              "  </thead>\n",
              "  <tbody>\n",
              "    <tr>\n",
              "      <th>0</th>\n",
              "      <td>Check out page 8 of this week’s East Aurora Ad...</td>\n",
              "      <td>check page week advertiser tip take care stres...</td>\n",
              "      <td>1</td>\n",
              "      <td>-0.149348</td>\n",
              "      <td>-0.025465</td>\n",
              "    </tr>\n",
              "    <tr>\n",
              "      <th>1</th>\n",
              "      <td>Anxiety keeping you up? Amazons got you at 3:3...</td>\n",
              "      <td>anxiety keep amazon get want order foot scrub ...</td>\n",
              "      <td>1</td>\n",
              "      <td>0.100630</td>\n",
              "      <td>-0.056613</td>\n",
              "    </tr>\n",
              "    <tr>\n",
              "      <th>2</th>\n",
              "      <td>Harlem Nights, Booksmart, Fletch, the Hangover...</td>\n",
              "      <td>night fletch hangover boy high anxiety history...</td>\n",
              "      <td>1</td>\n",
              "      <td>-0.066313</td>\n",
              "      <td>0.006308</td>\n",
              "    </tr>\n",
              "    <tr>\n",
              "      <th>3</th>\n",
              "      <td>All quarantine has done so far is give me anxi...</td>\n",
              "      <td>quarantine do far give anxiety online shopping...</td>\n",
              "      <td>1</td>\n",
              "      <td>0.319421</td>\n",
              "      <td>-0.114342</td>\n",
              "    </tr>\n",
              "    <tr>\n",
              "      <th>4</th>\n",
              "      <td>The scariest part is the “No Symptoms” gives m...</td>\n",
              "      <td>scary part symptom give anxiety</td>\n",
              "      <td>1</td>\n",
              "      <td>0.191912</td>\n",
              "      <td>-0.038055</td>\n",
              "    </tr>\n",
              "    <tr>\n",
              "      <th>...</th>\n",
              "      <td>...</td>\n",
              "      <td>...</td>\n",
              "      <td>...</td>\n",
              "      <td>...</td>\n",
              "      <td>...</td>\n",
              "    </tr>\n",
              "    <tr>\n",
              "      <th>4995</th>\n",
              "      <td>Depression, anxiety and PTSD are very real. I ...</td>\n",
              "      <td>depression anxiety ptsd real like friend post ...</td>\n",
              "      <td>1</td>\n",
              "      <td>-0.124547</td>\n",
              "      <td>-0.015952</td>\n",
              "    </tr>\n",
              "    <tr>\n",
              "      <th>4996</th>\n",
              "      <td>Lord, ask that you watch and keep us on the wa...</td>\n",
              "      <td>ask keep way back body soul guide respective d...</td>\n",
              "      <td>1</td>\n",
              "      <td>-0.133656</td>\n",
              "      <td>-0.019426</td>\n",
              "    </tr>\n",
              "    <tr>\n",
              "      <th>4997</th>\n",
              "      <td>As someone with an actual anxiety disorder I h...</td>\n",
              "      <td>actual anxiety disorder weird thing feel less ...</td>\n",
              "      <td>1</td>\n",
              "      <td>-0.143060</td>\n",
              "      <td>-0.023072</td>\n",
              "    </tr>\n",
              "    <tr>\n",
              "      <th>4998</th>\n",
              "      <td>Amerie went home sick w/ a cough and 103 fever...</td>\n",
              "      <td>go home sick cough fever anxiety test say ask ...</td>\n",
              "      <td>1</td>\n",
              "      <td>-0.116437</td>\n",
              "      <td>-0.012885</td>\n",
              "    </tr>\n",
              "    <tr>\n",
              "      <th>4999</th>\n",
              "      <td>My Friday the 13th marathon is next but first,...</td>\n",
              "      <td>marathon next pic_twitter com dcoaqja</td>\n",
              "      <td>1</td>\n",
              "      <td>-0.022926</td>\n",
              "      <td>0.022941</td>\n",
              "    </tr>\n",
              "  </tbody>\n",
              "</table>\n",
              "<p>5000 rows × 5 columns</p>\n",
              "</div>\n",
              "      <button class=\"colab-df-convert\" onclick=\"convertToInteractive('df-f5b8134d-ba87-4165-86a1-8c335400aa5c')\"\n",
              "              title=\"Convert this dataframe to an interactive table.\"\n",
              "              style=\"display:none;\">\n",
              "        \n",
              "  <svg xmlns=\"http://www.w3.org/2000/svg\" height=\"24px\"viewBox=\"0 0 24 24\"\n",
              "       width=\"24px\">\n",
              "    <path d=\"M0 0h24v24H0V0z\" fill=\"none\"/>\n",
              "    <path d=\"M18.56 5.44l.94 2.06.94-2.06 2.06-.94-2.06-.94-.94-2.06-.94 2.06-2.06.94zm-11 1L8.5 8.5l.94-2.06 2.06-.94-2.06-.94L8.5 2.5l-.94 2.06-2.06.94zm10 10l.94 2.06.94-2.06 2.06-.94-2.06-.94-.94-2.06-.94 2.06-2.06.94z\"/><path d=\"M17.41 7.96l-1.37-1.37c-.4-.4-.92-.59-1.43-.59-.52 0-1.04.2-1.43.59L10.3 9.45l-7.72 7.72c-.78.78-.78 2.05 0 2.83L4 21.41c.39.39.9.59 1.41.59.51 0 1.02-.2 1.41-.59l7.78-7.78 2.81-2.81c.8-.78.8-2.07 0-2.86zM5.41 20L4 18.59l7.72-7.72 1.47 1.35L5.41 20z\"/>\n",
              "  </svg>\n",
              "      </button>\n",
              "      \n",
              "  <style>\n",
              "    .colab-df-container {\n",
              "      display:flex;\n",
              "      flex-wrap:wrap;\n",
              "      gap: 12px;\n",
              "    }\n",
              "\n",
              "    .colab-df-convert {\n",
              "      background-color: #E8F0FE;\n",
              "      border: none;\n",
              "      border-radius: 50%;\n",
              "      cursor: pointer;\n",
              "      display: none;\n",
              "      fill: #1967D2;\n",
              "      height: 32px;\n",
              "      padding: 0 0 0 0;\n",
              "      width: 32px;\n",
              "    }\n",
              "\n",
              "    .colab-df-convert:hover {\n",
              "      background-color: #E2EBFA;\n",
              "      box-shadow: 0px 1px 2px rgba(60, 64, 67, 0.3), 0px 1px 3px 1px rgba(60, 64, 67, 0.15);\n",
              "      fill: #174EA6;\n",
              "    }\n",
              "\n",
              "    [theme=dark] .colab-df-convert {\n",
              "      background-color: #3B4455;\n",
              "      fill: #D2E3FC;\n",
              "    }\n",
              "\n",
              "    [theme=dark] .colab-df-convert:hover {\n",
              "      background-color: #434B5C;\n",
              "      box-shadow: 0px 1px 3px 1px rgba(0, 0, 0, 0.15);\n",
              "      filter: drop-shadow(0px 1px 2px rgba(0, 0, 0, 0.3));\n",
              "      fill: #FFFFFF;\n",
              "    }\n",
              "  </style>\n",
              "\n",
              "      <script>\n",
              "        const buttonEl =\n",
              "          document.querySelector('#df-f5b8134d-ba87-4165-86a1-8c335400aa5c button.colab-df-convert');\n",
              "        buttonEl.style.display =\n",
              "          google.colab.kernel.accessAllowed ? 'block' : 'none';\n",
              "\n",
              "        async function convertToInteractive(key) {\n",
              "          const element = document.querySelector('#df-f5b8134d-ba87-4165-86a1-8c335400aa5c');\n",
              "          const dataTable =\n",
              "            await google.colab.kernel.invokeFunction('convertToInteractive',\n",
              "                                                     [key], {});\n",
              "          if (!dataTable) return;\n",
              "\n",
              "          const docLinkHtml = 'Like what you see? Visit the ' +\n",
              "            '<a target=\"_blank\" href=https://colab.research.google.com/notebooks/data_table.ipynb>data table notebook</a>'\n",
              "            + ' to learn more about interactive tables.';\n",
              "          element.innerHTML = '';\n",
              "          dataTable['output_type'] = 'display_data';\n",
              "          await google.colab.output.renderOutput(dataTable, element);\n",
              "          const docLink = document.createElement('div');\n",
              "          docLink.innerHTML = docLinkHtml;\n",
              "          element.appendChild(docLink);\n",
              "        }\n",
              "      </script>\n",
              "    </div>\n",
              "  </div>\n",
              "  "
            ]
          },
          "metadata": {},
          "execution_count": 69
        }
      ]
    },
    {
      "cell_type": "code",
      "source": [
        "# Reading a review which belong to each group.\n",
        "for i in range(3):\n",
        "    print(\"A review of assigned to cluster \", i)\n",
        "    print(\"-\" * 70)\n",
        "    print(df.iloc[df.groupby(['cluster']).groups[i][0]]['text'])\n",
        "    print('\\n')\n",
        "    print(\"_\" * 70)"
      ],
      "metadata": {
        "id": "KrPZLH7buE3r",
        "colab": {
          "base_uri": "https://localhost:8080/"
        },
        "outputId": "39d04733-366a-44b2-c767-b34b63fe8afc"
      },
      "execution_count": null,
      "outputs": [
        {
          "output_type": "stream",
          "name": "stdout",
          "text": [
            "A review of assigned to cluster  0\n",
            "----------------------------------------------------------------------\n",
            "When your child on the spectrum only eats one thing everyday...praying @littlecaesars doesn’t shut down. The pepperoni pizza is my daughter’s sole form of nutrition at this point. The anxiety of all this happening…  …\n",
            "\n",
            "\n",
            "______________________________________________________________________\n",
            "A review of assigned to cluster  1\n",
            "----------------------------------------------------------------------\n",
            "Check out page 8 of this week’s East Aurora Advertiser for tips on taking care of yourself during this stressful time. You can help yourself to lower your anxiety level and to keep your body as healthy as possible.…  …\n",
            "\n",
            "\n",
            "______________________________________________________________________\n",
            "A review of assigned to cluster  2\n",
            "----------------------------------------------------------------------\n",
            "I have never felt such anxiety, it’s killing me.\n",
            "\n",
            "\n",
            "______________________________________________________________________\n"
          ]
        }
      ]
    },
    {
      "cell_type": "code",
      "source": [
        "from sklearn.metrics import confusion_matrix,classification_report\n",
        "print(confusion_matrix(df['cluster'],kmeans.labels_))\n",
        "print(classification_report(df['cluster'],kmeans.labels_))"
      ],
      "metadata": {
        "colab": {
          "base_uri": "https://localhost:8080/"
        },
        "id": "CFc7FmI_5f87",
        "outputId": "f0ef24dd-b427-4291-bb59-e8fc1dde73a3"
      },
      "execution_count": null,
      "outputs": [
        {
          "output_type": "stream",
          "name": "stdout",
          "text": [
            "[[   0    0   47    0   26   50    0   29    0    2   29]\n",
            " [2645    0    0 1355    0    0    0   10  109  418    0]\n",
            " [   0   98    0    0    0    0  160    0   22    0    0]\n",
            " [   0    0    0    0    0    0    0    0    0    0    0]\n",
            " [   0    0    0    0    0    0    0    0    0    0    0]\n",
            " [   0    0    0    0    0    0    0    0    0    0    0]\n",
            " [   0    0    0    0    0    0    0    0    0    0    0]\n",
            " [   0    0    0    0    0    0    0    0    0    0    0]\n",
            " [   0    0    0    0    0    0    0    0    0    0    0]\n",
            " [   0    0    0    0    0    0    0    0    0    0    0]\n",
            " [   0    0    0    0    0    0    0    0    0    0    0]]\n",
            "              precision    recall  f1-score   support\n",
            "\n",
            "           0       0.00      0.00      0.00     183.0\n",
            "           1       0.00      0.00      0.00    4537.0\n",
            "           2       0.00      0.00      0.00     280.0\n",
            "           3       0.00      0.00      0.00       0.0\n",
            "           4       0.00      0.00      0.00       0.0\n",
            "           5       0.00      0.00      0.00       0.0\n",
            "           6       0.00      0.00      0.00       0.0\n",
            "           7       0.00      0.00      0.00       0.0\n",
            "           8       0.00      0.00      0.00       0.0\n",
            "           9       0.00      0.00      0.00       0.0\n",
            "          10       0.00      0.00      0.00       0.0\n",
            "\n",
            "    accuracy                           0.00    5000.0\n",
            "   macro avg       0.00      0.00      0.00    5000.0\n",
            "weighted avg       0.00      0.00      0.00    5000.0\n",
            "\n"
          ]
        },
        {
          "output_type": "stream",
          "name": "stderr",
          "text": [
            "/usr/local/lib/python3.7/dist-packages/sklearn/metrics/_classification.py:1318: UndefinedMetricWarning: Recall and F-score are ill-defined and being set to 0.0 in labels with no true samples. Use `zero_division` parameter to control this behavior.\n",
            "  _warn_prf(average, modifier, msg_start, len(result))\n",
            "/usr/local/lib/python3.7/dist-packages/sklearn/metrics/_classification.py:1318: UndefinedMetricWarning: Recall and F-score are ill-defined and being set to 0.0 in labels with no true samples. Use `zero_division` parameter to control this behavior.\n",
            "  _warn_prf(average, modifier, msg_start, len(result))\n",
            "/usr/local/lib/python3.7/dist-packages/sklearn/metrics/_classification.py:1318: UndefinedMetricWarning: Recall and F-score are ill-defined and being set to 0.0 in labels with no true samples. Use `zero_division` parameter to control this behavior.\n",
            "  _warn_prf(average, modifier, msg_start, len(result))\n"
          ]
        }
      ]
    }
  ],
  "metadata": {
    "colab": {
      "collapsed_sections": [],
      "provenance": [],
      "include_colab_link": true
    },
    "kernelspec": {
      "display_name": "Python 3",
      "name": "python3"
    },
    "language_info": {
      "name": "python"
    }
  },
  "nbformat": 4,
  "nbformat_minor": 0
}